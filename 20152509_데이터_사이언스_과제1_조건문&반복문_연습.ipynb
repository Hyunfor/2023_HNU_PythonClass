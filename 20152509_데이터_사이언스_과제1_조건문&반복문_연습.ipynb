{
  "nbformat": 4,
  "nbformat_minor": 0,
  "metadata": {
    "colab": {
      "provenance": [],
      "authorship_tag": "ABX9TyNwUTiul5//fR415B0gxLVq",
      "include_colab_link": true
    },
    "kernelspec": {
      "name": "python3",
      "display_name": "Python 3"
    },
    "language_info": {
      "name": "python"
    }
  },
  "cells": [
    {
      "cell_type": "markdown",
      "metadata": {
        "id": "view-in-github",
        "colab_type": "text"
      },
      "source": [
        "<a href=\"https://colab.research.google.com/github/Hyunfor/2023_HNU_PythonClass/blob/master/20152509_%EB%8D%B0%EC%9D%B4%ED%84%B0_%EC%82%AC%EC%9D%B4%EC%96%B8%EC%8A%A4_%EA%B3%BC%EC%A0%9C1_%EC%A1%B0%EA%B1%B4%EB%AC%B8%26%EB%B0%98%EB%B3%B5%EB%AC%B8_%EC%97%B0%EC%8A%B5.ipynb\" target=\"_parent\"><img src=\"https://colab.research.google.com/assets/colab-badge.svg\" alt=\"Open In Colab\"/></a>"
      ]
    },
    {
      "cell_type": "code",
      "execution_count": 9,
      "metadata": {
        "colab": {
          "base_uri": "https://localhost:8080/"
        },
        "id": "dNMJWg5zqc2U",
        "outputId": "dd497933-f6cd-4d01-fdf0-4a2883e09f91"
      },
      "outputs": [
        {
          "output_type": "stream",
          "name": "stdout",
          "text": [
            "숫자를 하나 입력해주세요. : 1\n",
            "숫자를 하나 더 입력해주세요. : 2\n",
            "1 + 2 = 3\n"
          ]
        }
      ],
      "source": [
        "# Q1. 사용자로부터 입력 받은 두 개의 숫자를 더한 결과를 출력하는 프로그램을 작성해보세요.\n",
        "x = int(input('숫자를 하나 입력해주세요. : '))\n",
        "y = int(input('숫자를 하나 더 입력해주세요. : '))\n",
        "sum = x + y\n",
        "print(x, '+', y, '=', sum)"
      ]
    },
    {
      "cell_type": "code",
      "source": [
        "# Q2. 1부터 10까지의 숫자를 출력하는 반복문을 작성해보세요.\n",
        "for i in [1, 2, 3, 4, 5, 6, 7, 8, 9, 10]:\n",
        "    print(i)\n",
        "for x in range(1, 11):\n",
        "    print(x)"
      ],
      "metadata": {
        "colab": {
          "base_uri": "https://localhost:8080/"
        },
        "id": "85Z1sjgE4zyw",
        "outputId": "204e749c-7372-4b40-f6c3-4952393eda61"
      },
      "execution_count": 17,
      "outputs": [
        {
          "output_type": "stream",
          "name": "stdout",
          "text": [
            "1\n",
            "2\n",
            "3\n",
            "4\n",
            "5\n",
            "6\n",
            "7\n",
            "8\n",
            "9\n",
            "10\n",
            "1\n",
            "2\n",
            "3\n",
            "4\n",
            "5\n",
            "6\n",
            "7\n",
            "8\n",
            "9\n",
            "10\n"
          ]
        }
      ]
    },
    {
      "cell_type": "code",
      "source": [
        "# Q3. 사용자로부터 입력 받은 숫자가 짝수인지 홀수인지 판별하는 프로그램을 작성해보세요.\n",
        "# 사용자로부터 숫자 입력 받기\n",
        "num = int(input(\"숫자를 입력하세요: \"))\n",
        "\n",
        "# 입력 받은 숫자가 짝수인지 홀수인지 판별\n",
        "if num % 2 == 0:\n",
        "    print(num, \"은(는) 짝수입니다.\")\n",
        "else:\n",
        "    print(num, \"은(는) 홀수입니다.\")"
      ],
      "metadata": {
        "colab": {
          "base_uri": "https://localhost:8080/"
        },
        "id": "FZgM5fnm5Ysc",
        "outputId": "59dd0c3e-f471-4113-f553-0172b918e2a9"
      },
      "execution_count": 20,
      "outputs": [
        {
          "output_type": "stream",
          "name": "stdout",
          "text": [
            "숫자를 입력하세요: 0\n",
            "0 은(는) 짝수입니다.\n"
          ]
        }
      ]
    },
    {
      "cell_type": "code",
      "source": [
        "# Q4. 구구단 중 5단을 출력하는 반복문을 작성해보세요.\n",
        "for x in range(1, 10):\n",
        "    print(\"5 *\", x , \"=\", 5 * x)"
      ],
      "metadata": {
        "colab": {
          "base_uri": "https://localhost:8080/"
        },
        "id": "64k0ZMsf7Jyz",
        "outputId": "7560742a-e4fe-426c-f8e6-dec359fd6e67"
      },
      "execution_count": 25,
      "outputs": [
        {
          "output_type": "stream",
          "name": "stdout",
          "text": [
            "5 * 1 = 5\n",
            "5 * 2 = 10\n",
            "5 * 3 = 15\n",
            "5 * 4 = 20\n",
            "5 * 5 = 25\n",
            "5 * 6 = 30\n",
            "5 * 7 = 35\n",
            "5 * 8 = 40\n",
            "5 * 9 = 45\n"
          ]
        }
      ]
    },
    {
      "cell_type": "code",
      "source": [
        "# Q5. 사용자로부터 입력 받은 숫자의 제곱을 구하는 프로그램을 작성해보세요.\n",
        "x = int(input('숫자를 하나 입력해주세요. : '))\n",
        "result = x ** 2\n",
        "print(x, \"의 제곱은\", result, \"입니다.\")"
      ],
      "metadata": {
        "colab": {
          "base_uri": "https://localhost:8080/"
        },
        "id": "qBz180pW7bL2",
        "outputId": "872dc523-981c-4da6-b6cd-f87aef002188"
      },
      "execution_count": 28,
      "outputs": [
        {
          "output_type": "stream",
          "name": "stdout",
          "text": [
            "숫자를 하나 입력해주세요. : 10\n",
            "10 의 제곱은 100 입니다.\n"
          ]
        }
      ]
    },
    {
      "cell_type": "code",
      "source": [
        "# Q6. 다음 numbers 리스트에서 3의 배수를 모두 출력하는 프로그램을 작성해보세요.\n",
        "numbers = [1, 2, 3, 4, 5, 6, 7, 8, 9, 10]\n",
        "# 3의 배수 출력\n",
        "for num in numbers:\n",
        "    if num % 3 == 0:\n",
        "        print(num)"
      ],
      "metadata": {
        "colab": {
          "base_uri": "https://localhost:8080/"
        },
        "id": "QcGL2ehp8QVn",
        "outputId": "357ad237-16c0-43b5-de9e-bfcc944b23e1"
      },
      "execution_count": 29,
      "outputs": [
        {
          "output_type": "stream",
          "name": "stdout",
          "text": [
            "3\n",
            "6\n",
            "9\n"
          ]
        }
      ]
    },
    {
      "cell_type": "code",
      "source": [
        "# Q7. 사용자로부터 입력 받은 숫자만큼 \"*\"을 출력하는 프로그램을 작성해보세요."
      ],
      "metadata": {
        "id": "jV-PaGUk8gTd"
      },
      "execution_count": null,
      "outputs": []
    }
  ]
}
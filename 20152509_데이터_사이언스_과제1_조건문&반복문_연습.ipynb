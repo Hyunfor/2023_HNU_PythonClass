{
  "nbformat": 4,
  "nbformat_minor": 0,
  "metadata": {
    "colab": {
      "provenance": [],
      "authorship_tag": "ABX9TyOdJAjIqGJvzBioxMvMrZiq",
      "include_colab_link": true
    },
    "kernelspec": {
      "name": "python3",
      "display_name": "Python 3"
    },
    "language_info": {
      "name": "python"
    }
  },
  "cells": [
    {
      "cell_type": "markdown",
      "metadata": {
        "id": "view-in-github",
        "colab_type": "text"
      },
      "source": [
        "<a href=\"https://colab.research.google.com/github/Hyunfor/2023_HNU_PythonClass/blob/master/20152509_%EB%8D%B0%EC%9D%B4%ED%84%B0_%EC%82%AC%EC%9D%B4%EC%96%B8%EC%8A%A4_%EA%B3%BC%EC%A0%9C1_%EC%A1%B0%EA%B1%B4%EB%AC%B8%26%EB%B0%98%EB%B3%B5%EB%AC%B8_%EC%97%B0%EC%8A%B5.ipynb\" target=\"_parent\"><img src=\"https://colab.research.google.com/assets/colab-badge.svg\" alt=\"Open In Colab\"/></a>"
      ]
    },
    {
      "cell_type": "code",
      "execution_count": 9,
      "metadata": {
        "colab": {
          "base_uri": "https://localhost:8080/"
        },
        "id": "dNMJWg5zqc2U",
        "outputId": "dd497933-f6cd-4d01-fdf0-4a2883e09f91"
      },
      "outputs": [
        {
          "output_type": "stream",
          "name": "stdout",
          "text": [
            "숫자를 하나 입력해주세요. : 1\n",
            "숫자를 하나 더 입력해주세요. : 2\n",
            "1 + 2 = 3\n"
          ]
        }
      ],
      "source": [
        "# Q1. 사용자로부터 입력 받은 두 개의 숫자를 더한 결과를 출력하는 프로그램을 작성해보세요.\n",
        "x = int(input('숫자를 하나 입력해주세요. : '))\n",
        "y = int(input('숫자를 하나 더 입력해주세요. : '))\n",
        "sum = x + y\n",
        "print(x, '+', y, '=', sum)"
      ]
    },
    {
      "cell_type": "code",
      "source": [
        "# Q2. 1부터 10까지의 숫자를 출력하는 반복문을 작성해보세요.\n",
        "for i in [1, 2, 3, 4, 5, 6, 7, 8, 9, 10]:\n",
        "    print(i, end=\" \")\n",
        "for x in range(1, 11):\n",
        "    print(x, end=\" \")"
      ],
      "metadata": {
        "colab": {
          "base_uri": "https://localhost:8080/"
        },
        "id": "85Z1sjgE4zyw",
        "outputId": "33ab14b4-ce43-442f-cf3a-771f915394bd"
      },
      "execution_count": 38,
      "outputs": [
        {
          "output_type": "stream",
          "name": "stdout",
          "text": [
            "1 2 3 4 5 6 7 8 9 10 1 2 3 4 5 6 7 8 9 10 "
          ]
        }
      ]
    },
    {
      "cell_type": "code",
      "source": [
        "# Q3. 사용자로부터 입력 받은 숫자가 짝수인지 홀수인지 판별하는 프로그램을 작성해보세요.\n",
        "# 사용자로부터 숫자 입력 받기\n",
        "num = int(input(\"숫자를 입력하세요: \"))\n",
        "\n",
        "# 입력 받은 숫자가 짝수인지 홀수인지 판별\n",
        "if num % 2 == 0:\n",
        "    print(num, \"은(는) 짝수입니다.\")\n",
        "else:\n",
        "    print(num, \"은(는) 홀수입니다.\")"
      ],
      "metadata": {
        "colab": {
          "base_uri": "https://localhost:8080/"
        },
        "id": "FZgM5fnm5Ysc",
        "outputId": "59dd0c3e-f471-4113-f553-0172b918e2a9"
      },
      "execution_count": 20,
      "outputs": [
        {
          "output_type": "stream",
          "name": "stdout",
          "text": [
            "숫자를 입력하세요: 0\n",
            "0 은(는) 짝수입니다.\n"
          ]
        }
      ]
    },
    {
      "cell_type": "code",
      "source": [
        "# Q4. 구구단 중 5단을 출력하는 반복문을 작성해보세요.\n",
        "for x in range(1, 10):\n",
        "    print(\"5 *\", x , \"=\", 5 * x)"
      ],
      "metadata": {
        "colab": {
          "base_uri": "https://localhost:8080/"
        },
        "id": "64k0ZMsf7Jyz",
        "outputId": "7560742a-e4fe-426c-f8e6-dec359fd6e67"
      },
      "execution_count": 25,
      "outputs": [
        {
          "output_type": "stream",
          "name": "stdout",
          "text": [
            "5 * 1 = 5\n",
            "5 * 2 = 10\n",
            "5 * 3 = 15\n",
            "5 * 4 = 20\n",
            "5 * 5 = 25\n",
            "5 * 6 = 30\n",
            "5 * 7 = 35\n",
            "5 * 8 = 40\n",
            "5 * 9 = 45\n"
          ]
        }
      ]
    },
    {
      "cell_type": "code",
      "source": [
        "# Q5. 사용자로부터 입력 받은 숫자의 제곱을 구하는 프로그램을 작성해보세요.\n",
        "x = int(input('숫자를 하나 입력해주세요. : '))\n",
        "result = x ** 2\n",
        "print(x, \"의 제곱은\", result, \"입니다.\")"
      ],
      "metadata": {
        "colab": {
          "base_uri": "https://localhost:8080/"
        },
        "id": "qBz180pW7bL2",
        "outputId": "872dc523-981c-4da6-b6cd-f87aef002188"
      },
      "execution_count": 28,
      "outputs": [
        {
          "output_type": "stream",
          "name": "stdout",
          "text": [
            "숫자를 하나 입력해주세요. : 10\n",
            "10 의 제곱은 100 입니다.\n"
          ]
        }
      ]
    },
    {
      "cell_type": "code",
      "source": [
        "# Q6. 다음 numbers 리스트에서 3의 배수를 모두 출력하는 프로그램을 작성해보세요.\n",
        "numbers = [1, 2, 3, 4, 5, 6, 7, 8, 9, 10]\n",
        "# 3의 배수 출력\n",
        "for num in numbers:\n",
        "    if num % 3 == 0:\n",
        "        print(num)"
      ],
      "metadata": {
        "colab": {
          "base_uri": "https://localhost:8080/"
        },
        "id": "QcGL2ehp8QVn",
        "outputId": "357ad237-16c0-43b5-de9e-bfcc944b23e1"
      },
      "execution_count": 29,
      "outputs": [
        {
          "output_type": "stream",
          "name": "stdout",
          "text": [
            "3\n",
            "6\n",
            "9\n"
          ]
        }
      ]
    },
    {
      "cell_type": "code",
      "source": [
        "# Q7. 사용자로부터 입력 받은 숫자만큼 \"*\"을 출력하는 프로그램을 작성해보세요.\n",
        "# 사용자로부터 숫자 입력 받기\n",
        "num = int(input(\"숫자를 입력하세요: \"))\n",
        "\n",
        "# \"*\" 출력\n",
        "for i in range(num):\n",
        "    print(\"*\", end=\"\")"
      ],
      "metadata": {
        "colab": {
          "base_uri": "https://localhost:8080/"
        },
        "id": "jV-PaGUk8gTd",
        "outputId": "81bdc424-a3db-44ea-b494-3868a6206519"
      },
      "execution_count": 40,
      "outputs": [
        {
          "output_type": "stream",
          "name": "stdout",
          "text": [
            "숫자를 입력하세요: 1\n",
            "*"
          ]
        }
      ]
    },
    {
      "cell_type": "code",
      "source": [
        "# Q8. 1부터 100까지의 숫자 중 3과 5의 공배수일 때 \"FizzBuzz\"를 출력하고, 3의 배수일 때 \"Fizz\"를 출력하고, 5의 배수일 때 \"Buzz\"를 출력하는 프로그램을 작성해보세요.\n",
        "# 1부터 100까지의 숫자를 반복하면서 처리\n",
        "for num in range(1, 101):\n",
        "    # 3과 5의 공배수일 때 \"FizzBuzz\" 출력\n",
        "    if num % 3 == 0 and num % 5 == 0:\n",
        "        print(\"FizzBuzz\")\n",
        "    # 3의 배수일 때 \"Fizz\" 출력\n",
        "    elif num % 3 == 0:\n",
        "        print(\"Fizz\")\n",
        "    # 5의 배수일 때 \"Buzz\" 출력\n",
        "    elif num % 5 == 0:\n",
        "        print(\"Buzz\")\n",
        "    # 그 외의 숫자는 그대로 출력\n",
        "    else:\n",
        "        print(num)"
      ],
      "metadata": {
        "colab": {
          "base_uri": "https://localhost:8080/"
        },
        "id": "v3WVc7pv93M1",
        "outputId": "73b80e35-99c4-49f1-ffe3-df1a488da86d"
      },
      "execution_count": 1,
      "outputs": [
        {
          "output_type": "stream",
          "name": "stdout",
          "text": [
            "1\n",
            "2\n",
            "Fizz\n",
            "4\n",
            "Buzz\n",
            "Fizz\n",
            "7\n",
            "8\n",
            "Fizz\n",
            "Buzz\n",
            "11\n",
            "Fizz\n",
            "13\n",
            "14\n",
            "FizzBuzz\n",
            "16\n",
            "17\n",
            "Fizz\n",
            "19\n",
            "Buzz\n",
            "Fizz\n",
            "22\n",
            "23\n",
            "Fizz\n",
            "Buzz\n",
            "26\n",
            "Fizz\n",
            "28\n",
            "29\n",
            "FizzBuzz\n",
            "31\n",
            "32\n",
            "Fizz\n",
            "34\n",
            "Buzz\n",
            "Fizz\n",
            "37\n",
            "38\n",
            "Fizz\n",
            "Buzz\n",
            "41\n",
            "Fizz\n",
            "43\n",
            "44\n",
            "FizzBuzz\n",
            "46\n",
            "47\n",
            "Fizz\n",
            "49\n",
            "Buzz\n",
            "Fizz\n",
            "52\n",
            "53\n",
            "Fizz\n",
            "Buzz\n",
            "56\n",
            "Fizz\n",
            "58\n",
            "59\n",
            "FizzBuzz\n",
            "61\n",
            "62\n",
            "Fizz\n",
            "64\n",
            "Buzz\n",
            "Fizz\n",
            "67\n",
            "68\n",
            "Fizz\n",
            "Buzz\n",
            "71\n",
            "Fizz\n",
            "73\n",
            "74\n",
            "FizzBuzz\n",
            "76\n",
            "77\n",
            "Fizz\n",
            "79\n",
            "Buzz\n",
            "Fizz\n",
            "82\n",
            "83\n",
            "Fizz\n",
            "Buzz\n",
            "86\n",
            "Fizz\n",
            "88\n",
            "89\n",
            "FizzBuzz\n",
            "91\n",
            "92\n",
            "Fizz\n",
            "94\n",
            "Buzz\n",
            "Fizz\n",
            "97\n",
            "98\n",
            "Fizz\n",
            "Buzz\n"
          ]
        }
      ]
    },
    {
      "cell_type": "code",
      "source": [
        "# Q9. 사용자로부터 입력 받은 문자열이 회문인지 아닌지 판별하는 프로그램을 작성해보세요. (회문이란, 앞으로 읽으나 뒤로 읽으나 동일한 단어 또는 문장을 의미합니다.)\n",
        "# 사용자로부터 문자열 입력 받기\n",
        "text = input(\"문자열을 입력하세요: \")\n",
        "\n",
        "# 입력 받은 문자열을 소문자로 변환하여 공백 제거\n",
        "text = text.lower().replace(\" \", \"\")\n",
        "\n",
        "# 회문 판별\n",
        "is_palindrome = text == text[::-1]\n",
        "\n",
        "# 결과 출력\n",
        "if is_palindrome:\n",
        "    print(\"입력한 문자열은 회문입니다.\")\n",
        "else:\n",
        "    print(\"입력한 문자열은 회문이 아닙니다.\")"
      ],
      "metadata": {
        "colab": {
          "base_uri": "https://localhost:8080/"
        },
        "id": "aqlfQ6Cr94u6",
        "outputId": "603bb5e3-98f3-4dac-9384-f375956b357a"
      },
      "execution_count": 2,
      "outputs": [
        {
          "output_type": "stream",
          "name": "stdout",
          "text": [
            "문자열을 입력하세요: tr\n",
            "입력한 문자열은 회문이 아닙니다.\n"
          ]
        }
      ]
    },
    {
      "cell_type": "code",
      "source": [
        "# Q10. 중첩 for문을 사용하여 구구단을 출력하는 프로그램을 작성해보세요. \n",
        "# 세로로 구구단 결과 출력 (단은 가로로 출력)\n",
        "for i in range(1, 10):\n",
        "    for j in range(2, 10):\n",
        "        print(f\"{j} x {i} = {j * i}\\t\", end=\"\")\n",
        "    print()"
      ],
      "metadata": {
        "colab": {
          "base_uri": "https://localhost:8080/"
        },
        "id": "Nwfxq_Fd95Ha",
        "outputId": "bc7fd9fe-e197-40da-e3cf-aca3fe1670b8"
      },
      "execution_count": 1,
      "outputs": [
        {
          "output_type": "stream",
          "name": "stdout",
          "text": [
            "2 x 1 = 2\t3 x 1 = 3\t4 x 1 = 4\t5 x 1 = 5\t6 x 1 = 6\t7 x 1 = 7\t8 x 1 = 8\t9 x 1 = 9\t\n",
            "2 x 2 = 4\t3 x 2 = 6\t4 x 2 = 8\t5 x 2 = 10\t6 x 2 = 12\t7 x 2 = 14\t8 x 2 = 16\t9 x 2 = 18\t\n",
            "2 x 3 = 6\t3 x 3 = 9\t4 x 3 = 12\t5 x 3 = 15\t6 x 3 = 18\t7 x 3 = 21\t8 x 3 = 24\t9 x 3 = 27\t\n",
            "2 x 4 = 8\t3 x 4 = 12\t4 x 4 = 16\t5 x 4 = 20\t6 x 4 = 24\t7 x 4 = 28\t8 x 4 = 32\t9 x 4 = 36\t\n",
            "2 x 5 = 10\t3 x 5 = 15\t4 x 5 = 20\t5 x 5 = 25\t6 x 5 = 30\t7 x 5 = 35\t8 x 5 = 40\t9 x 5 = 45\t\n",
            "2 x 6 = 12\t3 x 6 = 18\t4 x 6 = 24\t5 x 6 = 30\t6 x 6 = 36\t7 x 6 = 42\t8 x 6 = 48\t9 x 6 = 54\t\n",
            "2 x 7 = 14\t3 x 7 = 21\t4 x 7 = 28\t5 x 7 = 35\t6 x 7 = 42\t7 x 7 = 49\t8 x 7 = 56\t9 x 7 = 63\t\n",
            "2 x 8 = 16\t3 x 8 = 24\t4 x 8 = 32\t5 x 8 = 40\t6 x 8 = 48\t7 x 8 = 56\t8 x 8 = 64\t9 x 8 = 72\t\n",
            "2 x 9 = 18\t3 x 9 = 27\t4 x 9 = 36\t5 x 9 = 45\t6 x 9 = 54\t7 x 9 = 63\t8 x 9 = 72\t9 x 9 = 81\t\n"
          ]
        }
      ]
    }
  ]
}
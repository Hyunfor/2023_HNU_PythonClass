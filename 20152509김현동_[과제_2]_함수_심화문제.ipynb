{
  "nbformat": 4,
  "nbformat_minor": 0,
  "metadata": {
    "colab": {
      "provenance": [],
      "authorship_tag": "ABX9TyN76zClbKgYL7oOgGaa/+fx",
      "include_colab_link": true
    },
    "kernelspec": {
      "name": "python3",
      "display_name": "Python 3"
    },
    "language_info": {
      "name": "python"
    }
  },
  "cells": [
    {
      "cell_type": "markdown",
      "metadata": {
        "id": "view-in-github",
        "colab_type": "text"
      },
      "source": [
        "<a href=\"https://colab.research.google.com/github/Hyunfor/2023_HNU_PythonClass/blob/master/20152509%EA%B9%80%ED%98%84%EB%8F%99_%5B%EA%B3%BC%EC%A0%9C_2%5D_%ED%95%A8%EC%88%98_%EC%8B%AC%ED%99%94%EB%AC%B8%EC%A0%9C.ipynb\" target=\"_parent\"><img src=\"https://colab.research.google.com/assets/colab-badge.svg\" alt=\"Open In Colab\"/></a>"
      ]
    },
    {
      "cell_type": "markdown",
      "source": [
        "6.1\n",
        "6.2\n",
        "6.4\n",
        "6.6\n",
        "6.8"
      ],
      "metadata": {
        "id": "u8ajnj8DEnYv"
      }
    },
    {
      "cell_type": "code",
      "execution_count": 1,
      "metadata": {
        "colab": {
          "base_uri": "https://localhost:8080/"
        },
        "id": "Mmq4EP6sEnBA",
        "outputId": "2d7ccda9-f114-4c50-eb16-95154767d3be"
      },
      "outputs": [
        {
          "output_type": "stream",
          "name": "stdout",
          "text": [
            "3의 제곱은 :  9\n",
            "4의 제곱은 :  16\n"
          ]
        }
      ],
      "source": [
        "# 6-1\n",
        "# square(n) 함수를 정의하고, 함수를 호출하여 3과 4의 제곱을 출력하고자 한다.\n",
        "# 코드를 채우고 코드를 실행하라\n",
        "def square(n):\n",
        "  return n*n\n",
        "print('3의 제곱은 : ',square(3))\n",
        "print('4의 제곱은 : ',square(4))"
      ]
    },
    {
      "cell_type": "code",
      "source": [
        "# 6-2\n",
        "# m과 n이라는 이름의 매개변수를 두 개 입력받아 두 값 중 큰 값을 반환하는 max2(m, n)함수와 작은 값을 반환하는 min2(m,n)을 구현하라\n",
        "# 코드를 채우고, 코드를 실행하라\n",
        "def max2(m, n):\n",
        "  if m>n:\n",
        "    return m\n",
        "  else:\n",
        "    return n\n",
        "def min2(m, n):\n",
        "  if m>n:\n",
        "    return n\n",
        "  else:\n",
        "    return m\n",
        "print('100과 200중 큰 수는 :', max2(100,200))\n",
        "print('100과 200중 작은 수는 :', min2(100,200))"
      ],
      "metadata": {
        "colab": {
          "base_uri": "https://localhost:8080/"
        },
        "id": "bBzih3NhFPSK",
        "outputId": "6b860838-9269-4f5c-9eda-6a618f6bc9c8"
      },
      "execution_count": 2,
      "outputs": [
        {
          "output_type": "stream",
          "name": "stdout",
          "text": [
            "100과 200중 큰 수는 : 200\n",
            "100과 200중 작은 수는 : 100\n"
          ]
        }
      ]
    },
    {
      "cell_type": "code",
      "source": [
        "# 6-4\n",
        "# n1, n2, n3이라는 이름의 매개변수를 3개 입력받아, 값들중에서 가장 큰 값과 작은 값, 두 개를 반환하는 max_and_min(n1, n2, n3) 함수를 구현하라\n",
        "def max_and_min(n1, n2, n3):\n",
        "  if n3>n2>n1:\n",
        "    return n3\n",
        "  else:\n",
        "    return n1\n",
        "n1, n2, n3 = map(int, input('세 정수를 입력하시오:').split())\n",
        "print('가장 큰 수 :', max(34, 66, 20))\n",
        "print('가장 작은 수 :', min(34, 66, 20))"
      ],
      "metadata": {
        "colab": {
          "base_uri": "https://localhost:8080/"
        },
        "id": "GTrKE_arF2Sa",
        "outputId": "d46b8133-a227-4dfb-f1b2-7697342437bc"
      },
      "execution_count": 12,
      "outputs": [
        {
          "output_type": "stream",
          "name": "stdout",
          "text": [
            "세 정수를 입력하시오:34 66 20\n",
            "가장 큰 수 : 66\n",
            "가장 작은 수 : 20\n"
          ]
        }
      ]
    },
    {
      "cell_type": "code",
      "source": [
        "# 6-6\n",
        "# 임의의 수를 입력받은 다음 이 수가 소수인지 아닌지를 판단하는 함수 is_prime(n)을 작성하라. \n",
        "# 만일 n이 소수면 True, 아니라면 False를 반환하라\n",
        "def is_prime(n):\n",
        "  for i in range(2, n):\n",
        "    if n % i == 0:\n",
        "      return False\n",
        "  return True\n",
        "\n",
        "a = int(input(\"소수 검사를 할 정수를 입력하시오: \"))\n",
        "print(\"소수인가요? :\", is_prime(a))"
      ],
      "metadata": {
        "colab": {
          "base_uri": "https://localhost:8080/"
        },
        "id": "iBUByht1HDzd",
        "outputId": "bbbfc2a4-29fb-4dfc-f301-ba78f75ab056"
      },
      "execution_count": 18,
      "outputs": [
        {
          "output_type": "stream",
          "name": "stdout",
          "text": [
            "소수 검사를 할 정수를 입력하시오: 9677\n",
            "소수인가요? : True\n"
          ]
        }
      ]
    },
    {
      "cell_type": "code",
      "source": [
        "# 6-8\n",
        "# 유저로부터 x1,y1,x2,y2의 값을 받아들인 다음 (x1, y1) 좌표에서 (x2, y2) 좌표를 잇는 직선의 거리를 출력하고자 한다.\n",
        "# distance(x1, y1, x2, y2)를 구현, 함수를 호출하여 다음과 같이 화면에 직선과 거리를 출력하라.\n",
        "import math\n",
        "\n",
        "class point:\n",
        "    def __init__(self, x, y):\n",
        "        self.x = x\n",
        "        self.y = y\n",
        " \n",
        "p1 = point(x=4, y=2)\n",
        "p2 = point(x=2, y=1)\n",
        " \n",
        "a = p2.x - p1.x\n",
        "b = p2.y - p1.y\n",
        " \n",
        "c = math.sqrt((a * a) + (b * b))\n",
        "print(c)"
      ],
      "metadata": {
        "colab": {
          "base_uri": "https://localhost:8080/"
        },
        "id": "-ZDhcvJRHGlH",
        "outputId": "417683a6-3818-4cc3-f747-93243138ade8"
      },
      "execution_count": 19,
      "outputs": [
        {
          "output_type": "stream",
          "name": "stdout",
          "text": [
            "2.23606797749979\n"
          ]
        }
      ]
    }
  ]
}
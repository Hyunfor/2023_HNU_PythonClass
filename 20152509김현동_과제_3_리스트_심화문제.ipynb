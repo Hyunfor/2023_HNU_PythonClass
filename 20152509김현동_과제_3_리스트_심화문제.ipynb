{
  "nbformat": 4,
  "nbformat_minor": 0,
  "metadata": {
    "colab": {
      "provenance": [],
      "authorship_tag": "ABX9TyPWLt0VCJxXgAqSV3nONFtJ",
      "include_colab_link": true
    },
    "kernelspec": {
      "name": "python3",
      "display_name": "Python 3"
    },
    "language_info": {
      "name": "python"
    }
  },
  "cells": [
    {
      "cell_type": "markdown",
      "metadata": {
        "id": "view-in-github",
        "colab_type": "text"
      },
      "source": [
        "<a href=\"https://colab.research.google.com/github/Hyunfor/2023_HNU_PythonClass/blob/master/20152509%EA%B9%80%ED%98%84%EB%8F%99_%EA%B3%BC%EC%A0%9C_3_%EB%A6%AC%EC%8A%A4%ED%8A%B8_%EC%8B%AC%ED%99%94%EB%AC%B8%EC%A0%9C.ipynb\" target=\"_parent\"><img src=\"https://colab.research.google.com/assets/colab-badge.svg\" alt=\"Open In Colab\"/></a>"
      ]
    },
    {
      "cell_type": "code",
      "execution_count": 1,
      "metadata": {
        "colab": {
          "base_uri": "https://localhost:8080/"
        },
        "id": "nGyb5emC2HmJ",
        "outputId": "89f57808-43e6-40fd-a7dc-52e8c12bfaf6"
      },
      "outputs": [
        {
          "output_type": "stream",
          "name": "stdout",
          "text": [
            "3 * 2 = 6\n",
            "3 * 3 = 9\n",
            "3 * 4 = 12\n",
            "3 * 5 = 15\n",
            "3 * 6 = 18\n",
            "5 * 2 = 10\n",
            "5 * 3 = 15\n",
            "5 * 4 = 20\n",
            "5 * 5 = 25\n",
            "5 * 6 = 30\n",
            "7 * 2 = 14\n",
            "7 * 3 = 21\n",
            "7 * 4 = 28\n",
            "7 * 5 = 35\n",
            "7 * 6 = 42\n"
          ]
        }
      ],
      "source": [
        "# 심화문제 7-2\n",
        "# list1, list2가 있을 경우 이중 fo 루프를 사용, list1과 list2의 각 원소를 곱한 후 원소의 곱셈을 아래와 같이 출력.\n",
        "list1 = [3, 5, 7]\n",
        "list2 = [2, 3, 4, 5 ,6]\n",
        "for i in list1:\n",
        "    for j in list2:\n",
        "        print(i, \"*\", j, \"=\", i*j)"
      ]
    },
    {
      "cell_type": "code",
      "source": [
        "# 심화문제 7-6\n",
        "# 사용자로 부터 임의의 문자열을 입력으로 받은 후 이 문자열에 대하여 다음과 같은 피라미드 패턴을 만들어 출력하는 프로그램을 작성하라.\n",
        "# 이때 파이썬의 문자열 슬라이싱 기능을 사용하라.\n",
        "text = input(\"문자열을 입력하세요: \")\n",
        "length = len(text)\n",
        "\n",
        "for i in range(length):\n",
        "    print(\" \" * (length - i - 1) + text[:i+1] + text[i::-1])\n",
        "\n",
        "x = str(input(\"문자열을 입력하세요 :\"))\n",
        "print(x[0])\n",
        "print(x[:2])\n",
        "print(x[:3])\n",
        "print(x[:4])\n",
        "print(x[:5])\n",
        "print(x)\n",
        "print(x[:5])\n",
        "print(x[:4])\n",
        "print(x[:3])\n",
        "print(x[:2])\n",
        "print(x[:1])"
      ],
      "metadata": {
        "colab": {
          "base_uri": "https://localhost:8080/"
        },
        "id": "GCP4TPiy2Q6c",
        "outputId": "d4634284-48ce-46bb-9649-42951febf18d"
      },
      "execution_count": 3,
      "outputs": [
        {
          "output_type": "stream",
          "name": "stdout",
          "text": [
            "문자열을 입력하세요: ptyhon\n",
            "     pp\n",
            "    pttp\n",
            "   ptyytp\n",
            "  ptyhhytp\n",
            " ptyhoohytp\n",
            "ptyhonnohytp\n",
            "문자열을 입력하세요 :ptyhon\n",
            "p\n",
            "pt\n",
            "pty\n",
            "ptyh\n",
            "ptyho\n",
            "ptyhon\n",
            "ptyho\n",
            "ptyh\n",
            "pty\n",
            "pt\n",
            "p\n"
          ]
        }
      ]
    },
    {
      "cell_type": "code",
      "source": [
        "text = input(\"문자열을 입력하세요: \")\n",
        "length = len(text)\n",
        "\n",
        "for i in range(length * 2 - 1):\n",
        "    if i < length:\n",
        "        print(text[:i+1])\n",
        "    else:\n",
        "        print(text[:length*2-i-1])"
      ],
      "metadata": {
        "colab": {
          "base_uri": "https://localhost:8080/"
        },
        "id": "MonJ6fEJ4LNd",
        "outputId": "8b561f96-9283-418c-f8cc-7ac732601443"
      },
      "execution_count": 4,
      "outputs": [
        {
          "output_type": "stream",
          "name": "stdout",
          "text": [
            "문자열을 입력하세요: python\n",
            "p\n",
            "py\n",
            "pyt\n",
            "pyth\n",
            "pytho\n",
            "python\n",
            "pytho\n",
            "pyth\n",
            "pyt\n",
            "py\n",
            "p\n"
          ]
        }
      ]
    },
    {
      "cell_type": "code",
      "source": [
        "# 심화문제 7-7\n",
        "# fruit_list = ['banana', 'orange', 'kiwi', 'apple', 'melon']의 리스트가 존재한다.\n",
        "fruit_list = ['banana', 'orange', 'kiwi', 'apple', 'melon']\n",
        "# 1) fruit_list에서 가장 길이가 긴 문자열을 찾아서 출력, 리스트에서 삭제, 이때 동일한 길이의 문자열이 있을 경우 이들을 모두 삭제할것.\n",
        "# 가장 긴 문자열의 길이를 찾기 위해 max 함수를 사용\n",
        "max_length = max(len(fruit) for fruit in fruit_list)\n",
        "\n",
        "# 리스트에서 삭제할 문자열의 인덱스를 찾아서 삭제\n",
        "for i in range(len(fruit_list)-1, -1, -1):\n",
        "    if len(fruit_list[i]) == max_length:\n",
        "        del fruit_list[i]\n",
        "\n",
        "# 결과 출력\n",
        "print(fruit_list)"
      ],
      "metadata": {
        "colab": {
          "base_uri": "https://localhost:8080/"
        },
        "id": "B6kMYQ_q2Quz",
        "outputId": "2b79def6-6c4c-4777-fb98-1c530c5fe167"
      },
      "execution_count": 9,
      "outputs": [
        {
          "output_type": "stream",
          "name": "stdout",
          "text": [
            "['kiwi', 'apple', 'melon']\n"
          ]
        }
      ]
    },
    {
      "cell_type": "code",
      "source": [
        "fruit_list = ['banana', 'orange', 'kiwi', 'apple', 'melon']\n",
        "# 2) fruit_list와 for 제어문을 이용하여 문자열의 길이를 출력\n",
        "# for 제어문을 이용하여 문자열의 길이 출력\n",
        "for fruit in fruit_list:\n",
        "    print(f\"{fruit} : 문자열의 길이 {len(fruit)}\")"
      ],
      "metadata": {
        "colab": {
          "base_uri": "https://localhost:8080/"
        },
        "id": "59MvaivV5uMq",
        "outputId": "e5ccca0d-6476-4639-dcf6-a1e0a0789b8f"
      },
      "execution_count": 10,
      "outputs": [
        {
          "output_type": "stream",
          "name": "stdout",
          "text": [
            "banana : 문자열의 길이 6\n",
            "orange : 문자열의 길이 6\n",
            "kiwi : 문자열의 길이 4\n",
            "apple : 문자열의 길이 5\n",
            "melon : 문자열의 길이 5\n"
          ]
        }
      ]
    }
  ]
}
{
  "nbformat": 4,
  "nbformat_minor": 0,
  "metadata": {
    "colab": {
      "provenance": [],
      "authorship_tag": "ABX9TyMJJdFUjL7T2p2TlLcW1Qsq",
      "include_colab_link": true
    },
    "kernelspec": {
      "name": "python3",
      "display_name": "Python 3"
    },
    "language_info": {
      "name": "python"
    }
  },
  "cells": [
    {
      "cell_type": "markdown",
      "metadata": {
        "id": "view-in-github",
        "colab_type": "text"
      },
      "source": [
        "<a href=\"https://colab.research.google.com/github/Hyunfor/2023_HNU_PythonClass/blob/master/23_03_09_%EB%8D%B0%EC%9D%B4%ED%84%B0_%EC%82%AC%EC%9D%B4%EC%96%B8%EC%8A%A4_%ED%8C%8C%EC%9D%B4%EC%8D%AC_%EC%88%98%EC%97%851.ipynb\" target=\"_parent\"><img src=\"https://colab.research.google.com/assets/colab-badge.svg\" alt=\"Open In Colab\"/></a>"
      ]
    },
    {
      "cell_type": "code",
      "execution_count": null,
      "metadata": {
        "colab": {
          "base_uri": "https://localhost:8080/"
        },
        "id": "hrQwvrx2t53U",
        "outputId": "a3b174f8-9b30-426b-a4fa-0957f4d680be"
      },
      "outputs": [
        {
          "output_type": "stream",
          "name": "stdout",
          "text": [
            "Hello World!\n"
          ]
        }
      ],
      "source": [
        "print('Hello World!')"
      ]
    },
    {
      "cell_type": "code",
      "source": [
        "# 다음 코드는 반지름을 이용하여 원의 면적을 출력하는 코드이다\n",
        "반지름 = 4 # 반지름 값을 저장. 이때 공백이 들어가면 안됨.\n",
        "면적 = 3.14 * 반지름 * 반지름 # 반지름의 값을 이용하여 면적을 구함\n",
        "print(면적) # 면적을 화면에 출력"
      ],
      "metadata": {
        "colab": {
          "base_uri": "https://localhost:8080/"
        },
        "id": "gYApnnWhzNCN",
        "outputId": "9cf5ca74-e320-4299-997e-83c13957ee31"
      },
      "execution_count": null,
      "outputs": [
        {
          "output_type": "stream",
          "name": "stdout",
          "text": [
            "50.24\n"
          ]
        }
      ]
    },
    {
      "cell_type": "code",
      "source": [
        "# 1.6\n",
        "print(\"*\")\n",
        "print(\"**\")\n",
        "print(\"***\")\n",
        "print(\"****\")\n",
        "print(\"*****\")\n",
        "print(\"******\")"
      ],
      "metadata": {
        "colab": {
          "base_uri": "https://localhost:8080/"
        },
        "id": "02861b2c3csA",
        "outputId": "8f046895-8622-4040-f196-f523c7f44202"
      },
      "execution_count": null,
      "outputs": [
        {
          "output_type": "stream",
          "name": "stdout",
          "text": [
            "*\n",
            "**\n",
            "***\n",
            "****\n",
            "*****\n",
            "******\n"
          ]
        }
      ]
    },
    {
      "cell_type": "code",
      "source": [
        "# 1.8\n",
        "print(400-200+100)\n",
        "print(409*200-100)\n",
        "print(6 * 3 / 9)\n",
        "print(9 ** 3)\n",
        "print(9/3)\n",
        "print(9 // 3)"
      ],
      "metadata": {
        "colab": {
          "base_uri": "https://localhost:8080/"
        },
        "id": "qfr-CFzq5DG2",
        "outputId": "991488da-d54c-4080-cffc-4b606a796f09"
      },
      "execution_count": null,
      "outputs": [
        {
          "output_type": "stream",
          "name": "stdout",
          "text": [
            "300\n",
            "81700\n",
            "2.0\n",
            "729\n",
            "3.0\n",
            "3\n"
          ]
        }
      ]
    },
    {
      "cell_type": "code",
      "source": [
        "# 1.9\n",
        "print( 1 + 2 + 3 + 4 + 5 + 6 + 7 + 8 + 9 + 10)\n",
        "print(5 * 2 * 3.14)\n",
        "print(20 * 4)\n",
        "print(20 * 4)\n",
        "print(10 * 30)\n",
        "print(10 * 30)"
      ],
      "metadata": {
        "colab": {
          "base_uri": "https://localhost:8080/"
        },
        "id": "vJcJCX4S5G5T",
        "outputId": "c86d03b8-25bb-4a05-896b-c34fafd66f08"
      },
      "execution_count": null,
      "outputs": [
        {
          "output_type": "stream",
          "name": "stdout",
          "text": [
            "55\n",
            "31.400000000000002\n",
            "80\n",
            "80\n",
            "300\n",
            "300\n"
          ]
        }
      ]
    }
  ]
}
{
  "nbformat": 4,
  "nbformat_minor": 0,
  "metadata": {
    "colab": {
      "provenance": [],
      "authorship_tag": "ABX9TyOPk1c8HPgQi32ddPk7H0IB",
      "include_colab_link": true
    },
    "kernelspec": {
      "name": "python3",
      "display_name": "Python 3"
    },
    "language_info": {
      "name": "python"
    }
  },
  "cells": [
    {
      "cell_type": "markdown",
      "metadata": {
        "id": "view-in-github",
        "colab_type": "text"
      },
      "source": [
        "<a href=\"https://colab.research.google.com/github/Hyunfor/2023_HNU_PythonClass/blob/master/23_03_14_16_%EB%8D%B0%EC%9D%B4%ED%84%B0%EC%82%AC%EC%9D%B4%EC%96%B8%EC%8A%A4_%ED%8C%8C%EC%9D%B4%EC%8D%AC%EC%88%98%EC%97%852.ipynb\" target=\"_parent\"><img src=\"https://colab.research.google.com/assets/colab-badge.svg\" alt=\"Open In Colab\"/></a>"
      ]
    },
    {
      "cell_type": "code",
      "execution_count": null,
      "metadata": {
        "id": "AMrN18IkCvPL",
        "colab": {
          "base_uri": "https://localhost:8080/"
        },
        "outputId": "f1708436-437c-4af0-d9db-702211936d3b"
      },
      "outputs": [
        {
          "output_type": "stream",
          "name": "stdout",
          "text": [
            "배고프고 졸리다\n"
          ]
        }
      ],
      "source": [
        "a = '배고프고'\n",
        "b = '졸리다'\n",
        "print(a + ' ' + b)"
      ]
    },
    {
      "cell_type": "code",
      "source": [
        "weight = 78.2\n",
        "height = 180\n",
        "print(weight, height)"
      ],
      "metadata": {
        "id": "RGhOl1mKC1gN",
        "colab": {
          "base_uri": "https://localhost:8080/"
        },
        "outputId": "13430b45-7e20-4479-c62d-7d482e69c956"
      },
      "execution_count": null,
      "outputs": [
        {
          "output_type": "stream",
          "name": "stdout",
          "text": [
            "78.2 180\n"
          ]
        }
      ]
    },
    {
      "cell_type": "code",
      "source": [
        "s1 = \"Hello\"\n",
        "s2 = \"World!\"\n",
        "print(s1 + ' ' + s2)\n",
        "n1 = '100'\n",
        "n2 = '200'\n",
        "n1 + n2"
      ],
      "metadata": {
        "colab": {
          "base_uri": "https://localhost:8080/",
          "height": 53
        },
        "id": "KwX66--OeiF2",
        "outputId": "db5fc9f1-a203-456e-93d7-4e0992256617"
      },
      "execution_count": null,
      "outputs": [
        {
          "output_type": "stream",
          "name": "stdout",
          "text": [
            "Hello World!\n"
          ]
        },
        {
          "output_type": "execute_result",
          "data": {
            "text/plain": [
              "'100200'"
            ],
            "application/vnd.google.colaboratory.intrinsic+json": {
              "type": "string"
            }
          },
          "metadata": {},
          "execution_count": 13
        }
      ]
    },
    {
      "cell_type": "code",
      "source": [
        "len(s1)"
      ],
      "metadata": {
        "colab": {
          "base_uri": "https://localhost:8080/"
        },
        "id": "XweRpzwfjxQQ",
        "outputId": "a15cb37e-7133-4f36-fcdc-99e4695efcff"
      },
      "execution_count": null,
      "outputs": [
        {
          "output_type": "execute_result",
          "data": {
            "text/plain": [
              "5"
            ]
          },
          "metadata": {},
          "execution_count": 15
        }
      ]
    },
    {
      "cell_type": "code",
      "source": [
        "height = 1.80\n",
        "weight = 78.2\n",
        "bmi = weight / height**2\n",
        "print(bmi)"
      ],
      "metadata": {
        "id": "euEiIGWaC1o1",
        "colab": {
          "base_uri": "https://localhost:8080/"
        },
        "outputId": "9d683218-03aa-410c-a20a-8534394d18c0"
      },
      "execution_count": null,
      "outputs": [
        {
          "output_type": "stream",
          "name": "stdout",
          "text": [
            "24.1358024691358\n"
          ]
        }
      ]
    },
    {
      "cell_type": "code",
      "source": [
        "radius = 10\n",
        "area = 3.14 * radius ** 2\n",
        "print('피자의 면적은', area)"
      ],
      "metadata": {
        "id": "89qnLM6LC1v3",
        "colab": {
          "base_uri": "https://localhost:8080/"
        },
        "outputId": "5c9efd03-38e6-4e2c-b6a6-03f6a8a862a8"
      },
      "execution_count": null,
      "outputs": [
        {
          "output_type": "stream",
          "name": "stdout",
          "text": [
            "피자의 면적은 314.0\n"
          ]
        }
      ]
    },
    {
      "cell_type": "code",
      "source": [
        "# 타입형 - 자료형을 알려줌\n",
        "weight = 78.2\n",
        "print(type(weight))\n",
        "\n",
        "salary = 250\n",
        "print(type(salary))\n",
        "\n",
        "name = '홍길동'\n",
        "address = '부산시 광안해변로 1'\n",
        "print(type(name))\n",
        "print(type(address))"
      ],
      "metadata": {
        "colab": {
          "base_uri": "https://localhost:8080/"
        },
        "id": "X7-nB4wravV5",
        "outputId": "0feb6a5b-f624-4a99-873d-83ce492724b7"
      },
      "execution_count": 2,
      "outputs": [
        {
          "output_type": "stream",
          "name": "stdout",
          "text": [
            "<class 'float'>\n",
            "<class 'int'>\n",
            "<class 'str'>\n",
            "<class 'str'>\n"
          ]
        }
      ]
    },
    {
      "cell_type": "code",
      "source": [
        "name = input(\"이름을 입력하세요: \")\n",
        "print(name, \"씨, 안녕하세요?\")\n",
        "print(\"파이썬 프로그래밍 세게에 오신 것을 환영합니다.\")\n",
        "# input은 기본이 문자열이라 형변환을 해줘야함\n",
        "x = int(input(\"첫번째 정수를 입력하세요: \"))\n",
        "y = int(input(\"두번째 정수를 입력하세요: \"))\n",
        "s = x + y\n",
        "print(x, \"과\", y, \"의 합은\", s, \" 입니다.\")"
      ],
      "metadata": {
        "id": "bBappxiPavTX",
        "colab": {
          "base_uri": "https://localhost:8080/"
        },
        "outputId": "1485ea95-b11a-4e57-cefd-a9b8231a485b"
      },
      "execution_count": 8,
      "outputs": [
        {
          "output_type": "stream",
          "name": "stdout",
          "text": [
            "이름을 입력하세요: 1\n",
            "1 씨, 안녕하세요?\n",
            "파이썬 프로그래밍 세게에 오신 것을 환영합니다.\n",
            "첫번째 정수를 입력하세요: 1\n",
            "두번째 정수를 입력하세요: 1\n",
            "1 과 1 의 합은 2  입니다.\n"
          ]
        }
      ]
    },
    {
      "cell_type": "code",
      "source": [
        "# 사용자의 대답을 변수에 저장\n",
        "stadium = input(\"경기장은 어디인가요?\" )\n",
        "winner = input(\"이긴팀은 어딘가요 ? \")\n",
        "loser = input(\"진팀은 어디인가요 ? \")\n",
        "vip = input(\"우수선수는 누구인가요 ? \")\n",
        "score = input(\"스코어는 몇대몇 ? \")\n",
        "\n",
        "print(\"\")\n",
        "print(\"=================================\")\n",
        "print(\"오늘\", stadium, \"에서 야구 경기장이 열렸습니다.\")\n",
        "print(winner, \"과\", loser, \"은 치열한 공방전을 펼쳤습니다.\")\n",
        "print(vip, \"의 맹활약으로 \", winner, \"가\", loser, \"를 \", score,\"로 이겼습니다.\")\n",
        "print(\"=================================\")"
      ],
      "metadata": {
        "id": "ao7RwOM7avQ3",
        "colab": {
          "base_uri": "https://localhost:8080/"
        },
        "outputId": "ee33da62-ddca-4286-ef1c-91ac902a7d16"
      },
      "execution_count": 19,
      "outputs": [
        {
          "output_type": "stream",
          "name": "stdout",
          "text": [
            "경기장은 어디인가요?뉴욕\n",
            "이긴팀은 어딘가요 ? 뉴욕\n",
            "진팀은 어디인가요 ? LA\n",
            "우수선수는 누구인가요 ? 존\n",
            "스코어는 몇대몇 ? 9:8\n",
            "\n",
            "=================================\n",
            "오늘 뉴욕 에서 야구 경기장이 열렸습니다.\n",
            "뉴욕 과 LA 은 치열한 공방전을 펼쳤습니다.\n",
            "존 의 맹활약으로  뉴욕 가 LA 를  9:8 로 이겼습니다.\n",
            "=================================\n"
          ]
        }
      ]
    },
    {
      "cell_type": "code",
      "source": [],
      "metadata": {
        "id": "rNm3yGz3avOh"
      },
      "execution_count": null,
      "outputs": []
    },
    {
      "cell_type": "code",
      "source": [
        "# 5번\n",
        "width = int(input(\"정사각형의 밑변을 입력하시오:\"))\n",
        "area = width*width\n",
        "print(\"정사각형의 면적:\", area)"
      ],
      "metadata": {
        "id": "a2Lhu_NhavMO",
        "colab": {
          "base_uri": "https://localhost:8080/"
        },
        "outputId": "ecda23e2-fd26-440d-baa9-14df2e9561a0"
      },
      "execution_count": 24,
      "outputs": [
        {
          "output_type": "stream",
          "name": "stdout",
          "text": [
            "정사각형의 밑변을 입력하시오:40\n",
            "정사각형의 면적: 1600\n"
          ]
        }
      ]
    },
    {
      "cell_type": "code",
      "source": [
        "# 10번\n",
        "PI = 3.141592\n",
        "radius = int(input(\"원의 반지름을 입력하세요:\"))\n",
        "circum = 2 * radius * PI\n",
        "area = radius ** 2 * PI\n",
        "print(\"원의 둘레=\", circum, \"원의 면적=\", area)"
      ],
      "metadata": {
        "colab": {
          "base_uri": "https://localhost:8080/"
        },
        "id": "RH7xWHua6cEI",
        "outputId": "f4434588-1d1e-4a21-bc80-6fd685f10163"
      },
      "execution_count": 25,
      "outputs": [
        {
          "output_type": "stream",
          "name": "stdout",
          "text": [
            "원의 반지름을 입력하세요:11\n",
            "원의 둘레= 69.115024 원의 면적= 380.132632\n"
          ]
        }
      ]
    },
    {
      "cell_type": "code",
      "source": [
        "# 11번\n",
        "print(\"It's really hot!\")\n",
        "print('I said \"Hello!\" to him.')\n",
        "print(\"He said \\\"What's there?\\\"\")\n",
        "print(\"Newline character is \\\\n, Tab character is \\\\t.\")\n",
        "print(\"Working directory is C;\\\\workspace\\\\mywork.\")"
      ],
      "metadata": {
        "colab": {
          "base_uri": "https://localhost:8080/"
        },
        "id": "4BcAjgWE6cBs",
        "outputId": "44050beb-18a7-4be3-8d61-1bde182b3bdd"
      },
      "execution_count": 26,
      "outputs": [
        {
          "output_type": "stream",
          "name": "stdout",
          "text": [
            "It's really hot!\n",
            "I said \"Hello!\" to him.\n",
            "He said \"What's there?\"\n",
            "Newline character is \\n, Tab character is \\t.\n",
            "Working directory is C;\\workspace\\mywork.\n"
          ]
        }
      ]
    },
    {
      "cell_type": "code",
      "source": [],
      "metadata": {
        "id": "1rfi5Khl6b_g"
      },
      "execution_count": null,
      "outputs": []
    },
    {
      "cell_type": "code",
      "source": [],
      "metadata": {
        "id": "24FPMfhx6b9M"
      },
      "execution_count": null,
      "outputs": []
    },
    {
      "cell_type": "code",
      "source": [],
      "metadata": {
        "id": "DNcy78TB6b6L"
      },
      "execution_count": null,
      "outputs": []
    },
    {
      "cell_type": "code",
      "source": [],
      "metadata": {
        "id": "O8U3Sro-6b2l"
      },
      "execution_count": null,
      "outputs": []
    },
    {
      "cell_type": "code",
      "source": [],
      "metadata": {
        "id": "bMMBFlM_avJm"
      },
      "execution_count": null,
      "outputs": []
    },
    {
      "cell_type": "code",
      "source": [],
      "metadata": {
        "id": "Tvln2UNjavHT"
      },
      "execution_count": null,
      "outputs": []
    },
    {
      "cell_type": "code",
      "source": [],
      "metadata": {
        "id": "6D5QsmtuavAe"
      },
      "execution_count": null,
      "outputs": []
    },
    {
      "cell_type": "code",
      "source": [
        "# 1번\n",
        "print( 100, '+', 200, '=', 100 + 200 )\n",
        "print(200, '+', 300, '+', 400, '=', 200+300+400)"
      ],
      "metadata": {
        "colab": {
          "base_uri": "https://localhost:8080/"
        },
        "id": "cCRieBqWC2-J",
        "outputId": "b5f73fad-8c4e-4103-c5c4-d14bd24ed4d5"
      },
      "execution_count": null,
      "outputs": [
        {
          "output_type": "stream",
          "name": "stdout",
          "text": [
            "100 + 200 = 300\n",
            "200 + 300 + 400 = 900\n"
          ]
        }
      ]
    },
    {
      "cell_type": "code",
      "source": [
        "# 2번\n",
        "print(\"width\", '=',30)\n",
        "print(\"height\", '=',60)"
      ],
      "metadata": {
        "colab": {
          "base_uri": "https://localhost:8080/"
        },
        "id": "yd-7w6EmC3As",
        "outputId": "a60e2402-84a2-4e63-adbe-3ea6d1801ce3"
      },
      "execution_count": null,
      "outputs": [
        {
          "output_type": "stream",
          "name": "stdout",
          "text": [
            "width = 30\n",
            "height = 60\n"
          ]
        }
      ]
    },
    {
      "cell_type": "code",
      "source": [
        "# 3번\n",
        "print(\"width\", '=',30)\n",
        "print(\"height\", '=',60)\n",
        "\n",
        "print(\"width\", \"height\", '=', 30, 60)"
      ],
      "metadata": {
        "colab": {
          "base_uri": "https://localhost:8080/"
        },
        "id": "8o75VBHsC3DY",
        "outputId": "6bcfc56f-e353-4b44-ab87-a81ae8e7f7f5"
      },
      "execution_count": null,
      "outputs": [
        {
          "output_type": "stream",
          "name": "stdout",
          "text": [
            "width = 30\n",
            "height = 60\n",
            "width height = 30 60\n"
          ]
        }
      ]
    },
    {
      "cell_type": "code",
      "source": [
        "# 4번\n"
      ],
      "metadata": {
        "id": "YXh5eeTYC3GH"
      },
      "execution_count": null,
      "outputs": []
    },
    {
      "cell_type": "code",
      "source": [
        "# 5번\n",
        "width = int(input(\"정사각형의 밑변을 입력하시오:\"))\n",
        "area = width*width\n",
        "print(\"정사각형의 면적:\", area)"
      ],
      "metadata": {
        "colab": {
          "base_uri": "https://localhost:8080/"
        },
        "id": "9VNYCUo0FTvB",
        "outputId": "7cef422d-6aa3-41cf-c729-2a97a191c8f2"
      },
      "execution_count": null,
      "outputs": [
        {
          "output_type": "stream",
          "name": "stdout",
          "text": [
            "정사각형의 밑변을 입력하시오:1\n",
            "정사각형의 면적: 1\n"
          ]
        }
      ]
    },
    {
      "cell_type": "code",
      "source": [
        "# 6번\n",
        "print(\"1에서 10까지의 합:\", 1+2+3+4+5+6+7+8+9+10)"
      ],
      "metadata": {
        "colab": {
          "base_uri": "https://localhost:8080/"
        },
        "id": "aq18veGOFqpa",
        "outputId": "6c84dac9-5f54-4dcd-90b2-a562034a700c"
      },
      "execution_count": null,
      "outputs": [
        {
          "output_type": "stream",
          "name": "stdout",
          "text": [
            "1에서 10까지의 합: 55\n"
          ]
        }
      ]
    },
    {
      "cell_type": "code",
      "source": [
        "# 7번\n",
        "print(\"10!=\", 1*2*3*4*5*6*7*8*9*10)"
      ],
      "metadata": {
        "colab": {
          "base_uri": "https://localhost:8080/"
        },
        "id": "dJrLX4wAF0hB",
        "outputId": "e0fcc0d5-7b2b-4a7d-ee7c-0eca9de6da83"
      },
      "execution_count": null,
      "outputs": [
        {
          "output_type": "stream",
          "name": "stdout",
          "text": [
            "10!= 3628800\n"
          ]
        }
      ]
    },
    {
      "cell_type": "code",
      "source": [
        "# 8번\n",
        "for C in range(0, 51, 10):\n",
        "    F=(9/5)*C+32\n",
        "    print(C, \" \", round(F, 2))"
      ],
      "metadata": {
        "colab": {
          "base_uri": "https://localhost:8080/"
        },
        "id": "dWnEvB0hG5AF",
        "outputId": "c2b7049c-38b0-4288-b053-6830a3fc7e34"
      },
      "execution_count": null,
      "outputs": [
        {
          "output_type": "stream",
          "name": "stdout",
          "text": [
            "0   32.0\n",
            "10   50.0\n",
            "20   68.0\n",
            "30   86.0\n",
            "40   104.0\n",
            "50   122.0\n"
          ]
        }
      ]
    },
    {
      "cell_type": "code",
      "source": [
        "# 9번\n",
        "celsius = int(input (\"섭씨온도를 입력하세요: \"))\n",
        "fahrenheit = (9/5)*celsius+32\n",
        "print(\"섭씨\", celsius, \"도는 화씨\", fahrenheit, \"도입니다.\")"
      ],
      "metadata": {
        "colab": {
          "base_uri": "https://localhost:8080/"
        },
        "id": "JEfoyr0cG_sU",
        "outputId": "25c88c23-65a8-457a-b331-af77ff5cc887"
      },
      "execution_count": null,
      "outputs": [
        {
          "output_type": "stream",
          "name": "stdout",
          "text": [
            "섭씨온도를 입력하세요: 123\n",
            "섭씨 123 도는 화씨 253.4 도입니다.\n"
          ]
        }
      ]
    },
    {
      "cell_type": "code",
      "source": [
        "# 10번\n",
        "PI = 3.141592\n",
        "radius = int(input(\"원의 반지름을 입력하세요:\"))\n",
        "circum = 2*radius*PI\n",
        "area = radius**2*PI\n",
        "print(\"원의 둘레=\", circum, \"원의 면적=\", area)"
      ],
      "metadata": {
        "colab": {
          "base_uri": "https://localhost:8080/"
        },
        "id": "mkdcrzdYHL8x",
        "outputId": "4a4d5b43-ebc1-4000-d287-34754f846eb4"
      },
      "execution_count": null,
      "outputs": [
        {
          "output_type": "stream",
          "name": "stdout",
          "text": [
            "원의 반지름을 입력하세요:123\n",
            "원의 둘레= 772.831632 원의 면적= 47529.145368000005\n"
          ]
        }
      ]
    },
    {
      "cell_type": "code",
      "source": [
        "# 11번\n",
        "print(\"It's really hot!\")\n",
        "print('I said \"Hello!\" to him.')\n",
        "print(\"He said \\\"What's there?\\\"\")\n",
        "print(\"Newline character is \\\\n, Tab character is \\\\t.\")\n",
        "print(\"Working directory is C;\\\\workspace\\\\mywork.\")"
      ],
      "metadata": {
        "colab": {
          "base_uri": "https://localhost:8080/"
        },
        "id": "vnaZCUjXH0g0",
        "outputId": "8d8a8369-da3a-425d-f537-7d855ab6e03b"
      },
      "execution_count": null,
      "outputs": [
        {
          "output_type": "stream",
          "name": "stdout",
          "text": [
            "It's really hot!\n",
            "I said \"Hello!\" to him.\n",
            "He said \"What's there?\"\n",
            "Newline character is \\n, Tab character is \\t.\n",
            "Working directory is C;\\workspace\\mywork.\n"
          ]
        }
      ]
    }
  ]
}
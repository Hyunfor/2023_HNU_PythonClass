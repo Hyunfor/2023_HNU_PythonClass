{
  "nbformat": 4,
  "nbformat_minor": 0,
  "metadata": {
    "colab": {
      "provenance": [],
      "authorship_tag": "ABX9TyNfC+cM7dbBXk4gcZZtFlaZ",
      "include_colab_link": true
    },
    "kernelspec": {
      "name": "python3",
      "display_name": "Python 3"
    },
    "language_info": {
      "name": "python"
    }
  },
  "cells": [
    {
      "cell_type": "markdown",
      "metadata": {
        "id": "view-in-github",
        "colab_type": "text"
      },
      "source": [
        "<a href=\"https://colab.research.google.com/github/Hyunfor/2023_HNU_PythonClass/blob/master/23_03_21_23_%EB%8D%B0%EC%9D%B4%ED%84%B0%EC%82%AC%EC%9D%B4%EC%96%B8%EC%8A%A4_%ED%8C%8C%EC%9D%B4%EC%8D%AC%EC%88%98%EC%97%853.ipynb\" target=\"_parent\"><img src=\"https://colab.research.google.com/assets/colab-badge.svg\" alt=\"Open In Colab\"/></a>"
      ]
    },
    {
      "cell_type": "code",
      "execution_count": 10,
      "metadata": {
        "id": "Zb8chm2rOqXH",
        "colab": {
          "base_uri": "https://localhost:8080/"
        },
        "outputId": "410c566f-9834-4e71-ff7b-a947d76310e0"
      },
      "outputs": [
        {
          "output_type": "stream",
          "name": "stdout",
          "text": [
            "화씨온도: 2\n",
            "섭씨온도:  -16.666666666666668\n"
          ]
        }
      ],
      "source": [
        "# 3-2\n",
        "fahrenheit = int(input(\"화씨온도: \"))\n",
        "calsius = (fahrenheit - 32) * 5 / 9\n",
        "print(\"섭씨온도: \", calsius)"
      ]
    },
    {
      "cell_type": "code",
      "source": [
        "# 3-2\n",
        "fahrenheit = float(input(\"화씨온도: \"))\n",
        "calsius = (fahrenheit - 32.0) * 5.0 / 9.0\n",
        "print(\"섭씨온도: \", calsius)"
      ],
      "metadata": {
        "id": "9K3LOqLpOukz",
        "colab": {
          "base_uri": "https://localhost:8080/"
        },
        "outputId": "bd0345cc-5ad0-49d6-ae0b-a13fa3e5a44b"
      },
      "execution_count": 12,
      "outputs": [
        {
          "output_type": "stream",
          "name": "stdout",
          "text": [
            "화씨온도: 60\n",
            "섭씨온도:  15.555555555555555\n"
          ]
        }
      ]
    },
    {
      "cell_type": "code",
      "source": [
        "# 3-4\n",
        "money = int(input(\"투입한 돈 : \"))\n",
        "price = int(input(\"물건 값 : \"))\n",
        "\n",
        "change = money - price\n",
        "print(\"거스름돈 : \", change)\n",
        "coin500s = change // 500\n",
        "change = change % 500\n",
        "coin100s = change // 100\n",
        "print(\"500원 동전의 개수: \", coin500s)\n",
        "print(\"100원 동전의 개수: \", coin100s)"
      ],
      "metadata": {
        "colab": {
          "base_uri": "https://localhost:8080/"
        },
        "id": "sPQDEEzicpis",
        "outputId": "ef7946f5-fafc-4944-f526-b326a2c82b69"
      },
      "execution_count": 16,
      "outputs": [
        {
          "output_type": "stream",
          "name": "stdout",
          "text": [
            "투입한 돈 : 50000\n",
            "물건 값 : 500\n",
            "거스름돈 :  49500\n",
            "500원 동전의 개수:  99\n",
            "100원 동전의 개수:  0\n"
          ]
        }
      ]
    },
    {
      "cell_type": "code",
      "source": [],
      "metadata": {
        "id": "58Wy9KLdcpgK"
      },
      "execution_count": null,
      "outputs": []
    },
    {
      "cell_type": "code",
      "source": [],
      "metadata": {
        "id": "5Bjwl6ZJcpdu"
      },
      "execution_count": null,
      "outputs": []
    },
    {
      "cell_type": "code",
      "source": [],
      "metadata": {
        "id": "s_CiMdMUcpbT"
      },
      "execution_count": null,
      "outputs": []
    },
    {
      "cell_type": "code",
      "source": [],
      "metadata": {
        "id": "JWmzQ6y_dkzi"
      },
      "execution_count": null,
      "outputs": []
    },
    {
      "cell_type": "code",
      "source": [],
      "metadata": {
        "id": "SG2kGd8UdktM"
      },
      "execution_count": null,
      "outputs": []
    },
    {
      "cell_type": "code",
      "source": [],
      "metadata": {
        "id": "9YamcZLpdknd"
      },
      "execution_count": null,
      "outputs": []
    },
    {
      "cell_type": "code",
      "source": [],
      "metadata": {
        "id": "iFoZMd7hd6Cf"
      },
      "execution_count": null,
      "outputs": []
    },
    {
      "cell_type": "code",
      "source": [],
      "metadata": {
        "id": "1h-lVD_Gen7B"
      },
      "execution_count": null,
      "outputs": []
    },
    {
      "cell_type": "code",
      "source": [
        "# 수업이랑 상관없이 생각나서 해봄\n",
        "dan = 2\n",
        "\n",
        "while dan <= 9:\n",
        "  print(\"== {}단==\".format(dan))\n",
        "\n",
        "  i = 1\n",
        "\n",
        "  while i <= 9:\n",
        "    print(\"{} * {} = {}\".format(dan, i, dan * i))\n",
        "    i += 1\n",
        "\n",
        "  dan += 1"
      ],
      "metadata": {
        "colab": {
          "base_uri": "https://localhost:8080/"
        },
        "id": "2lqHO1_BaYuB",
        "outputId": "b8a494ee-320d-41ca-c243-f85945eb7713"
      },
      "execution_count": 8,
      "outputs": [
        {
          "output_type": "stream",
          "name": "stdout",
          "text": [
            "== 2단==\n",
            "2 * 1 = 2\n",
            "2 * 2 = 4\n",
            "2 * 3 = 6\n",
            "2 * 4 = 8\n",
            "2 * 5 = 10\n",
            "2 * 6 = 12\n",
            "2 * 7 = 14\n",
            "2 * 8 = 16\n",
            "2 * 9 = 18\n",
            "== 3단==\n",
            "3 * 1 = 3\n",
            "3 * 2 = 6\n",
            "3 * 3 = 9\n",
            "3 * 4 = 12\n",
            "3 * 5 = 15\n",
            "3 * 6 = 18\n",
            "3 * 7 = 21\n",
            "3 * 8 = 24\n",
            "3 * 9 = 27\n",
            "== 4단==\n",
            "4 * 1 = 4\n",
            "4 * 2 = 8\n",
            "4 * 3 = 12\n",
            "4 * 4 = 16\n",
            "4 * 5 = 20\n",
            "4 * 6 = 24\n",
            "4 * 7 = 28\n",
            "4 * 8 = 32\n",
            "4 * 9 = 36\n",
            "== 5단==\n",
            "5 * 1 = 5\n",
            "5 * 2 = 10\n",
            "5 * 3 = 15\n",
            "5 * 4 = 20\n",
            "5 * 5 = 25\n",
            "5 * 6 = 30\n",
            "5 * 7 = 35\n",
            "5 * 8 = 40\n",
            "5 * 9 = 45\n",
            "== 6단==\n",
            "6 * 1 = 6\n",
            "6 * 2 = 12\n",
            "6 * 3 = 18\n",
            "6 * 4 = 24\n",
            "6 * 5 = 30\n",
            "6 * 6 = 36\n",
            "6 * 7 = 42\n",
            "6 * 8 = 48\n",
            "6 * 9 = 54\n",
            "== 7단==\n",
            "7 * 1 = 7\n",
            "7 * 2 = 14\n",
            "7 * 3 = 21\n",
            "7 * 4 = 28\n",
            "7 * 5 = 35\n",
            "7 * 6 = 42\n",
            "7 * 7 = 49\n",
            "7 * 8 = 56\n",
            "7 * 9 = 63\n",
            "== 8단==\n",
            "8 * 1 = 8\n",
            "8 * 2 = 16\n",
            "8 * 3 = 24\n",
            "8 * 4 = 32\n",
            "8 * 5 = 40\n",
            "8 * 6 = 48\n",
            "8 * 7 = 56\n",
            "8 * 8 = 64\n",
            "8 * 9 = 72\n",
            "== 9단==\n",
            "9 * 1 = 9\n",
            "9 * 2 = 18\n",
            "9 * 3 = 27\n",
            "9 * 4 = 36\n",
            "9 * 5 = 45\n",
            "9 * 6 = 54\n",
            "9 * 7 = 63\n",
            "9 * 8 = 72\n",
            "9 * 9 = 81\n"
          ]
        }
      ]
    },
    {
      "cell_type": "code",
      "source": [
        "# 수업이랑 상관없이 생각나서 해봄\n",
        "dan = 7\n",
        "dan = dan + 1\n",
        "\n",
        "# 수정가능 시작\n",
        "\n",
        "i = 1\n",
        "\n",
        "\n",
        "print(\"== {}단 ==\".format(dan))\n",
        "\n",
        "while i <= 9:\n",
        "\n",
        "  print(\"{} * {} = {}\".format(dan, i, dan * i))\n",
        "  i += 1"
      ],
      "metadata": {
        "colab": {
          "base_uri": "https://localhost:8080/"
        },
        "id": "7nG4suc_aYrz",
        "outputId": "f94c9c2b-7fb3-4b8c-92e0-9d419ebc0d4f"
      },
      "execution_count": 1,
      "outputs": [
        {
          "output_type": "stream",
          "name": "stdout",
          "text": [
            "== 8단 ==\n",
            "8 * 1 = 8\n",
            "8 * 2 = 16\n",
            "8 * 3 = 24\n",
            "8 * 4 = 32\n",
            "8 * 5 = 40\n",
            "8 * 6 = 48\n",
            "8 * 7 = 56\n",
            "8 * 8 = 64\n",
            "8 * 9 = 72\n"
          ]
        }
      ]
    },
    {
      "cell_type": "code",
      "source": [
        "# 수업이랑 상관없이 생각나서 해봄\n",
        "dan = 8\n",
        "\n",
        "print(\"== {}단 ==\".format(dan))\n",
        "# +=는 기존의 것에 덧붙여서 출력. =는 다시 넣어서 출력. \\n 다음줄로 내려서 출력.\n",
        "s = \"\"\n",
        "s += \"8 * 1 = 8\\n\"\n",
        "s += \"8 * 2 = 16\\n\"\n",
        "s += \"8 * 3 = 24\\n\"\n",
        "s += \"8 * 4 = 32\\n\"\n",
        "s += \"8 * 5 = 40\\n\"\n",
        "s += \"8 * 6 = 48\\n\"\n",
        "s += \"8 * 7 = 56\\n\"\n",
        "s += \"8 * 8 = 64\\n\"\n",
        "s += \"8 * 9 = 72\\n\"\n",
        "\n",
        "print(s)"
      ],
      "metadata": {
        "id": "96eAHxvMaYpS"
      },
      "execution_count": null,
      "outputs": []
    },
    {
      "cell_type": "code",
      "source": [],
      "metadata": {
        "id": "E6_Y4dSfaYnB"
      },
      "execution_count": null,
      "outputs": []
    },
    {
      "cell_type": "code",
      "source": [],
      "metadata": {
        "id": "RTG4oB89aYkX"
      },
      "execution_count": null,
      "outputs": []
    },
    {
      "cell_type": "code",
      "source": [],
      "metadata": {
        "id": "mT38-gLDdomN"
      },
      "execution_count": null,
      "outputs": []
    },
    {
      "cell_type": "code",
      "source": [],
      "metadata": {
        "id": "WpH2AJW1aS-i"
      },
      "execution_count": null,
      "outputs": []
    },
    {
      "cell_type": "code",
      "source": [],
      "metadata": {
        "id": "OP9525cuaS8F"
      },
      "execution_count": null,
      "outputs": []
    },
    {
      "cell_type": "code",
      "source": [],
      "metadata": {
        "id": "PulsVxh-aS5i"
      },
      "execution_count": null,
      "outputs": []
    },
    {
      "cell_type": "code",
      "source": [],
      "metadata": {
        "id": "yu44NqGkaS3J"
      },
      "execution_count": null,
      "outputs": []
    },
    {
      "cell_type": "code",
      "source": [],
      "metadata": {
        "id": "dNmMvWqKaS0x"
      },
      "execution_count": null,
      "outputs": []
    },
    {
      "cell_type": "code",
      "source": [],
      "metadata": {
        "id": "SGjIOjpNaSyK"
      },
      "execution_count": null,
      "outputs": []
    },
    {
      "cell_type": "code",
      "source": [],
      "metadata": {
        "id": "5t5yQRQqaSvx"
      },
      "execution_count": null,
      "outputs": []
    },
    {
      "cell_type": "code",
      "source": [
        "# 1번\n",
        "input_number = int(input(\"제곱을 구할 값을 입력하세요 : \"))\n",
        "print(input_number, \"의 제곱 = \", input_number**2)"
      ],
      "metadata": {
        "colab": {
          "base_uri": "https://localhost:8080/"
        },
        "id": "nFLjcZR2OuVM",
        "outputId": "c60f17d3-9425-475a-a68c-bb3882f36481"
      },
      "execution_count": null,
      "outputs": [
        {
          "output_type": "stream",
          "name": "stdout",
          "text": [
            "제곱을 구할 값을 입력하세요 : 213\n",
            "213 의 제곱 =  45369\n"
          ]
        }
      ]
    },
    {
      "cell_type": "code",
      "source": [
        "# 2번\n",
        "input_number = int(input(\"제곱근을 구할 값을 입력하세요 : \"))\n",
        "print(input_number, \"의 제곱근 = \", input_number**0.5)"
      ],
      "metadata": {
        "colab": {
          "base_uri": "https://localhost:8080/"
        },
        "id": "PWx0D8efOuOp",
        "outputId": "18018d2d-cfb4-451d-f975-c0ba6ac22d67"
      },
      "execution_count": null,
      "outputs": [
        {
          "output_type": "stream",
          "name": "stdout",
          "text": [
            "제곱근을 구할 값을 입력하세요 : 1\n",
            "1 의 제곱근 =  1.0\n"
          ]
        }
      ]
    },
    {
      "cell_type": "code",
      "source": [
        "# 3번\n",
        "num = 2\n",
        "print(num, num<<1,num<<2, num<<3, num<<4, num<<5, num<<6, num<<7, num<<8, num<<9)\n",
        "print(2, 2<<1, 2<<2, 2<<3, 2<<4, 2<<5, 2<<6, 2<<7, 2<<8, 2<<9)"
      ],
      "metadata": {
        "colab": {
          "base_uri": "https://localhost:8080/"
        },
        "id": "7MMZnV9OO6BM",
        "outputId": "77d3adf1-bd2f-4d06-957b-86620d46d6aa"
      },
      "execution_count": null,
      "outputs": [
        {
          "output_type": "stream",
          "name": "stdout",
          "text": [
            "2 4 8 16 32 64 128 256 512 1024\n",
            "2 4 8 16 32 64 128 256 512 1024\n"
          ]
        }
      ]
    },
    {
      "cell_type": "code",
      "source": [
        "# 4번\n",
        "number1 = int(input('정수를 입력하세요>>'))\n",
        "print('입력된 정수는 0에서 100의 범위 안에 있는 짝수 인가요?',0 <= number1 and number1 <= 100 and number1%2 == 0)\n",
        "number2 = int(input('정수를 입력하세요>>'))\n",
        "print('입력된 정수는 0에서 100의 범위 안에 있는 짝수 인가요?',0 <= number2 and number2 <= 100 and number2%2 == 0)"
      ],
      "metadata": {
        "colab": {
          "base_uri": "https://localhost:8080/"
        },
        "id": "ThlJvyB-O_r-",
        "outputId": "66f019aa-9c5e-458f-c9a6-979bbef15f29"
      },
      "execution_count": null,
      "outputs": [
        {
          "output_type": "stream",
          "name": "stdout",
          "text": [
            "정수를 입력하세요>>2\n",
            "입력된 정수는 0에서 100의 범위 안에 있는 짝수 인가요? True\n",
            "정수를 입력하세요>>1\n",
            "입력된 정수는 0에서 100의 범위 안에 있는 짝수 인가요? False\n"
          ]
        }
      ]
    },
    {
      "cell_type": "code",
      "source": [
        "# 5번\n",
        "print('0b101 & 0b110 = ', bin(0b101 & 0b110))\n",
        "print('0b101 | 0b110 = ', bin(0b101 | 0b110))\n",
        "print('0b101 ^ 0b110 = ', bin(0b101 ^ 0b110))"
      ],
      "metadata": {
        "colab": {
          "base_uri": "https://localhost:8080/"
        },
        "id": "l1oXUT_YPEwx",
        "outputId": "fcb27d00-85b7-4aa1-a969-aaf24fa172cf"
      },
      "execution_count": null,
      "outputs": [
        {
          "output_type": "stream",
          "name": "stdout",
          "text": [
            "0b101 & 0b110 =  0b100\n",
            "0b101 | 0b110 =  0b111\n",
            "0b101 ^ 0b110 =  0b11\n"
          ]
        }
      ]
    },
    {
      "cell_type": "code",
      "source": [
        "# 6번\n",
        "a = int(input('정수 a를 입력하시오 : '))\n",
        "b = int(input('정수 b를 입력하시오 : '))\n",
        "print('a / b의 몫 : ', a // b)\n",
        "print('a / b의 나머지 : ', a % b)"
      ],
      "metadata": {
        "colab": {
          "base_uri": "https://localhost:8080/"
        },
        "id": "BAZHlo-qPLAU",
        "outputId": "e3749511-bc7d-434d-b41d-1d2b2bdc8524"
      },
      "execution_count": null,
      "outputs": [
        {
          "output_type": "stream",
          "name": "stdout",
          "text": [
            "정수 a를 입력하시오 : 22\n",
            "정수 b를 입력하시오 : 11\n",
            "a / b의 몫 :  2\n",
            "a / b의 나머지 :  0\n"
          ]
        }
      ]
    },
    {
      "cell_type": "code",
      "source": [
        "# 7번\n",
        "number = int(input('세 자리 정수 입력'))\n",
        "print(number // 100)\n",
        "print((number%100) // 10)"
      ],
      "metadata": {
        "colab": {
          "base_uri": "https://localhost:8080/"
        },
        "id": "cKSz996sPPnP",
        "outputId": "33fe8308-fbb3-4992-d902-5c356b4d348f"
      },
      "execution_count": null,
      "outputs": [
        {
          "output_type": "stream",
          "name": "stdout",
          "text": [
            "세 자리 정수 입력213\n",
            "2\n",
            "1\n"
          ]
        }
      ]
    },
    {
      "cell_type": "code",
      "source": [
        "# 8번\n",
        "number = int(input('세 자리 정수 입력'))\n",
        "print(number % 10)\n",
        "print((number%100) // 10)\n",
        "print(number // 100)\n",
        "\n",
        "number = int(input('세 자리 정수 입력'))\n",
        "print(number % 10,((number%100) // 10), (number // 100))"
      ],
      "metadata": {
        "colab": {
          "base_uri": "https://localhost:8080/"
        },
        "id": "dIHz9jsPPV4D",
        "outputId": "a4a4dcba-2c5e-4933-f96e-7a3197f0b877"
      },
      "execution_count": null,
      "outputs": [
        {
          "output_type": "stream",
          "name": "stdout",
          "text": [
            "세 자리 정수 입력123\n",
            "3\n",
            "2\n",
            "1\n",
            "세 자리 정수 입력123\n",
            "3 2 1\n"
          ]
        }
      ]
    },
    {
      "cell_type": "code",
      "source": [
        "# 9번\n",
        "s = float(input('평균 시속(km/h)을 입력하세요 : '))\n",
        "h = float(input('이동시간(h)을 입력하세요 : '))\n",
        "sec = h*60*60\n",
        "print('평균 시속 : ', s, 'km/h')\n",
        "print('이동 시간 : ', int(h//1), '시간', int((h%1)*60), '분', int(sec%60), '초')\n",
        "print('이동 거리 : ', s*h, 'km')"
      ],
      "metadata": {
        "colab": {
          "base_uri": "https://localhost:8080/"
        },
        "id": "8I-nD76fPdCl",
        "outputId": "5fe834ae-aed0-4782-d0b4-6eb8dd9a04f4"
      },
      "execution_count": null,
      "outputs": [
        {
          "output_type": "stream",
          "name": "stdout",
          "text": [
            "평균 시속(km/h)을 입력하세요 : 123\n",
            "이동시간(h)을 입력하세요 : 2\n",
            "평균 시속 :  123.0 km/h\n",
            "이동 시간 :  2 시간 0 분 0 초\n",
            "이동 거리 :  246.0 km\n"
          ]
        }
      ]
    },
    {
      "cell_type": "code",
      "source": [
        "# 10번\n",
        "x1 = int(input('x1 좌표를 입력하시오'))\n",
        "y1 = int(input('y1 좌표를 입력하시오'))\n",
        "x2 = int(input('x2 좌표를 입력하시오'))\n",
        "y2 = int(input('y2 좌표를 입력하시오'))\n",
        "street = (((x1 - x2)**2) + ((y1 - y2)**2))**0.5\n",
        "print(\" 두 점의 거리 = \", street)"
      ],
      "metadata": {
        "colab": {
          "base_uri": "https://localhost:8080/"
        },
        "id": "IgnBm9lhPoDX",
        "outputId": "9c5010a6-4348-4c64-b0a5-ac76ec74c6a9"
      },
      "execution_count": null,
      "outputs": [
        {
          "output_type": "stream",
          "name": "stdout",
          "text": [
            "x1 좌표를 입력하시오12\n",
            "y1 좌표를 입력하시오1\n",
            "x2 좌표를 입력하시오23\n",
            "y2 좌표를 입력하시오2\n",
            " 두 점의 거리 =  11.045361017187261\n"
          ]
        }
      ]
    },
    {
      "cell_type": "code",
      "source": [
        "# 11번\n",
        "x1 = int(input('x1 좌표를 입력하시오'))\n",
        "y1 = int(input('y1 좌표를 입력하시오'))\n",
        "x2 = int(input('x2 좌표를 입력하시오'))\n",
        "y2 = int(input('y2 좌표를 입력하시오'))\n",
        "street = ((x2 - x1) * (y2 - y1))/2\n",
        "print(\" 직각삼각형의 면적은 = \", street)"
      ],
      "metadata": {
        "colab": {
          "base_uri": "https://localhost:8080/"
        },
        "id": "o45yk2caQCO4",
        "outputId": "de82cda0-33f6-4de1-91e4-b8312994686a"
      },
      "execution_count": null,
      "outputs": [
        {
          "output_type": "stream",
          "name": "stdout",
          "text": [
            "x1 좌표를 입력하시오12\n",
            "y1 좌표를 입력하시오21\n",
            "x2 좌표를 입력하시오23\n",
            "y2 좌표를 입력하시오32\n",
            " 직각삼각형의 면적은 =  60.5\n"
          ]
        }
      ]
    },
    {
      "cell_type": "code",
      "source": [
        "# 12-1번\n",
        "s = int(input('모서리의 길이: '))\n",
        "print('모서리의 길이가', s, '인 정육면체의 부피: ', s**3)"
      ],
      "metadata": {
        "colab": {
          "base_uri": "https://localhost:8080/"
        },
        "id": "0Y59VDHuQJAk",
        "outputId": "e70943b3-c2b9-4d80-c289-f830ad7fec54"
      },
      "execution_count": null,
      "outputs": [
        {
          "output_type": "stream",
          "name": "stdout",
          "text": [
            "모서리의 길이: 2\n",
            "모서리의 길이가 2 인 정육면체의 부피:  8\n"
          ]
        }
      ]
    },
    {
      "cell_type": "code",
      "source": [
        "# 12-2번\n",
        "s = int(input('모서리의 길이: '))\n",
        "print('모서리의 길이가', s, '인 정육면체의 부피: ', s**3)"
      ],
      "metadata": {
        "colab": {
          "base_uri": "https://localhost:8080/"
        },
        "id": "jLXNoxUmQQqL",
        "outputId": "e8ba5165-a998-4d3d-8797-404d1bbecb87"
      },
      "execution_count": null,
      "outputs": [
        {
          "output_type": "stream",
          "name": "stdout",
          "text": [
            "모서리의 길이: 4\n",
            "모서리의 길이가 4 인 정육면체의 부피:  64\n"
          ]
        }
      ]
    },
    {
      "cell_type": "code",
      "source": [
        "# 12-3번\n",
        "가로 = int(input('가로의 길이: '))\n",
        "세로 = int(input('세로의 길이: '))\n",
        "깊이 = int(input('깊이의 길이: '))\n",
        "print('가로, 세로, 길이가 각각', 가로, 세로, 깊이,'인 직육면체의 부피', 가로*세로*깊이)"
      ],
      "metadata": {
        "colab": {
          "base_uri": "https://localhost:8080/"
        },
        "id": "H506htnuQTP7",
        "outputId": "00c9ebb6-2412-42e9-9974-165bbffac06a"
      },
      "execution_count": null,
      "outputs": [
        {
          "output_type": "stream",
          "name": "stdout",
          "text": [
            "가로의 길이: 2\n",
            "세로의 길이: 3\n",
            "깊이의 길이: 1\n",
            "가로, 세로, 길이가 각각 2 3 1 인 직육면체의 부피 6\n"
          ]
        }
      ]
    },
    {
      "cell_type": "code",
      "source": [
        "# 12-4번\n",
        "반지름 = int(input('원뿔의 반지름: '))\n",
        "높이 = int(input('원뿔의 높이: '))\n",
        "print('반지름과 높이가 각각', 반지름, 높이, '인 원뿔의 부피', 1/3*3.14*반지름*반지름*높이)"
      ],
      "metadata": {
        "colab": {
          "base_uri": "https://localhost:8080/"
        },
        "id": "4yfWIM7YRx_w",
        "outputId": "eac6291f-4b75-4dce-97e4-71ff9e1c3f55"
      },
      "execution_count": null,
      "outputs": [
        {
          "output_type": "stream",
          "name": "stdout",
          "text": [
            "원뿔의 반지름: 43\n",
            "원뿔의 높이: 2\n",
            "반지름과 높이가 각각 43 2 인 원뿔의 부피 3870.5733333333333\n"
          ]
        }
      ]
    },
    {
      "cell_type": "code",
      "source": [
        "# 12-5번\n",
        "구의반지름 = int(input('구의 반지름: '))\n",
        "print('반지름이', 구의반지름, '인 구의 부피', 4/3*3.14*반지름*반지름*반지름)"
      ],
      "metadata": {
        "colab": {
          "base_uri": "https://localhost:8080/"
        },
        "id": "WLa7IQsuRyUS",
        "outputId": "3e52ad6b-71f6-451d-a477-bd0b1acd0769"
      },
      "execution_count": null,
      "outputs": [
        {
          "output_type": "stream",
          "name": "stdout",
          "text": [
            "구의 반지름: 56\n",
            "반지름이 56 인 구의 부피 332869.30666666664\n"
          ]
        }
      ]
    },
    {
      "cell_type": "code",
      "source": [
        "# 12-6번\n",
        "원기둥의반지름 = int(input('원기둥의 반지름: '))\n",
        "원기둥의높이 = int(input('원기둥의 높이: '))\n",
        "print('반지름과 높이가 각각', 원기둥의반지름, 원기둥의높이, '인 원기둥의 부피', 3.14*원기둥의반지름*원기둥의반지름*원기둥의높이)"
      ],
      "metadata": {
        "colab": {
          "base_uri": "https://localhost:8080/"
        },
        "id": "0MUUqnotRyq7",
        "outputId": "0490612c-e6e6-4035-f3c6-c147d1fa6c35"
      },
      "execution_count": null,
      "outputs": [
        {
          "output_type": "stream",
          "name": "stdout",
          "text": [
            "원기둥의 반지름: 213\n",
            "원기둥의 높이: 123\n",
            "반지름과 높이가 각각 213 123 인 원기둥의 부피 17522415.18\n"
          ]
        }
      ]
    },
    {
      "cell_type": "code",
      "source": [
        "# 12-7번\n",
        "import math\n",
        "원뿔의반지름 = int(input('원뿔의 반지름: '))\n",
        "원뿔의높이 = int(input('원뿔의 높이: '))\n",
        "print('반지름과 높이가 각각', 원뿔의반지름, 원뿔의높이, '인 원뿔의 부피', 1/3*math.pi*원뿔의반지름*원뿔의반지름*원뿔의높이)\n",
        "\n",
        "구의반지름 = int(input('구의 반지름: '))\n",
        "print('반지름이', 구의반지름, '인 구의 부피', 4/3*math.pi*구의반지름*구의반지름*구의반지름)\n",
        "\n",
        "원기둥의반지름 = int(input('원기둥의 반지름: '))\n",
        "원기둥의높이 = int(input('원기둥의 높이: '))\n",
        "print('반지름과 높이가 각각', 원기둥의반지름, 원기둥의높이, '인 원기둥의 부피', math.pi*원기둥의반지름*원기둥의반지름*원기둥의높이)"
      ],
      "metadata": {
        "colab": {
          "base_uri": "https://localhost:8080/"
        },
        "id": "6g-9KKWpRzRo",
        "outputId": "89955cb1-8955-4a3c-e25f-9d716410c16a"
      },
      "execution_count": null,
      "outputs": [
        {
          "output_type": "stream",
          "name": "stdout",
          "text": [
            "원뿔의 반지름: 234\n",
            "원뿔의 높이: 123\n",
            "반지름과 높이가 각각 234 123 인 원뿔의 부피 7052862.940938471\n",
            "구의 반지름: 23423\n",
            "반지름이 23423 인 구의 부피 53828981738661.43\n",
            "원기둥의 반지름: 345\n",
            "원기둥의 높이: 8\n",
            "반지름과 높이가 각각 345 8 인 원기둥의 부피 2991424.524748201\n"
          ]
        }
      ]
    }
  ]
}
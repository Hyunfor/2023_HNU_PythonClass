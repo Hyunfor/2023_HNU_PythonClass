{
  "nbformat": 4,
  "nbformat_minor": 0,
  "metadata": {
    "colab": {
      "provenance": [],
      "authorship_tag": "ABX9TyMBiaakf8YIxSLei+y6F7a7",
      "include_colab_link": true
    },
    "kernelspec": {
      "name": "python3",
      "display_name": "Python 3"
    },
    "language_info": {
      "name": "python"
    }
  },
  "cells": [
    {
      "cell_type": "markdown",
      "metadata": {
        "id": "view-in-github",
        "colab_type": "text"
      },
      "source": [
        "<a href=\"https://colab.research.google.com/github/Hyunfor/2023_HNU_PythonClass/blob/master/23_03_23_28_%EB%8D%B0%EC%9D%B4%ED%84%B0%EC%82%AC%EC%9D%B4%EC%96%B8%EC%8A%A4_%ED%8C%8C%EC%9D%B4%EC%8D%AC_%EC%88%98%EC%97%85_4.ipynb\" target=\"_parent\"><img src=\"https://colab.research.google.com/assets/colab-badge.svg\" alt=\"Open In Colab\"/></a>"
      ]
    },
    {
      "cell_type": "code",
      "execution_count": null,
      "metadata": {
        "id": "PAGVajNnHHgM",
        "colab": {
          "base_uri": "https://localhost:8080/"
        },
        "outputId": "6e95966a-1248-4ecb-d019-fa2e04e0c91e"
      },
      "outputs": [
        {
          "output_type": "stream",
          "name": "stdout",
          "text": [
            "x는 1보다 크다.\n"
          ]
        }
      ],
      "source": [
        "x = 100\n",
        "if x > 1:\n",
        "    print(\"x는 1보다 크다.\")"
      ]
    },
    {
      "cell_type": "code",
      "source": [
        "score = int(input(\"성적을 입력하세요. : \"))\n",
        "if score >= 60:\n",
        "    print(\"합격입니다.\")\n",
        "else:\n",
        "    print(\"불합격 입니다.\")    "
      ],
      "metadata": {
        "id": "e5qRyUQKHOQH",
        "colab": {
          "base_uri": "https://localhost:8080/"
        },
        "outputId": "503e74cb-5c8f-4cc0-8d21-b67b3cfd3053"
      },
      "execution_count": null,
      "outputs": [
        {
          "output_type": "stream",
          "name": "stdout",
          "text": [
            "성적을 입력하세요. : 70\n",
            "합격입니다.\n"
          ]
        }
      ]
    },
    {
      "cell_type": "code",
      "source": [
        "num = int(input(\"양의 정수를 입력하세요 : \"))\n",
        "if num % 2 == 0:\n",
        "    print(\"짝수입니다.\")\n",
        "else : \n",
        "    print(\"홀수 입니다.\")  "
      ],
      "metadata": {
        "id": "P0uiUIyKHOOJ",
        "colab": {
          "base_uri": "https://localhost:8080/"
        },
        "outputId": "010b8860-0803-4b9c-c386-1ee46cb2a233"
      },
      "execution_count": 1,
      "outputs": [
        {
          "output_type": "stream",
          "name": "stdout",
          "text": [
            "양의 정수를 입력하세요 : 123\n",
            "홀수 입니다.\n"
          ]
        }
      ]
    },
    {
      "cell_type": "code",
      "source": [
        "# LAB 4-2\n",
        "age = int(input(\"나이를 입력하세요. : \"))\n",
        "if age >= 15:\n",
        "    print(\"본 영화를 관람할 수 있습니다.\")\n",
        "else :\n",
        "    print(\"본 영화는 관람할 수 없습니다.\")    "
      ],
      "metadata": {
        "id": "KT_MttUpHOL5",
        "colab": {
          "base_uri": "https://localhost:8080/"
        },
        "outputId": "adbe82ee-3a0c-4dcd-8693-8ba49fe4a98a"
      },
      "execution_count": 4,
      "outputs": [
        {
          "output_type": "stream",
          "name": "stdout",
          "text": [
            "나이를 입력하세요. : 9\n",
            "본 영화는 관람할 수 없습니다.\n"
          ]
        }
      ]
    },
    {
      "cell_type": "code",
      "source": [
        "# LAB 4-4\n",
        "year = int(input(\"년도를 입력하세요: \"))\n",
        "if(year % 4 == 0 and year % 100 != 0) or year % 400 == 0:\n",
        "    print(year, \"년은 윤년입니다.\")\n",
        "else:\n",
        "    print(year, \"년은 윤년이 아닙니다.\")    "
      ],
      "metadata": {
        "id": "MWpxOeFkHOJz",
        "colab": {
          "base_uri": "https://localhost:8080/"
        },
        "outputId": "c29db907-7670-4f08-bfeb-3c876a1e6cad"
      },
      "execution_count": 3,
      "outputs": [
        {
          "output_type": "stream",
          "name": "stdout",
          "text": [
            "년도를 입력하세요: 1989\n",
            "1989 년은 윤년이 아닙니다.\n"
          ]
        }
      ]
    },
    {
      "cell_type": "code",
      "source": [
        "# LAB 4-8\n",
        "import random\n",
        "n = random.randint(1, 3) # 1, 2, 3 하나의 난수 생성\n",
        "if n == 1:\n",
        "    computer_choice = '왼쪽'\n",
        "elif n == 2:\n",
        "    computer_choice = '중앙'\n",
        "else :\n",
        "    computer_choice = '오른쪽'\n",
        "\n",
        "user_choice = input(\"공격할 위치를 정해주세요.(왼쪽, 중앙, 오른쪽) : \")\n",
        "if computer_choice == user_choice:\n",
        "    print(\"공격에 실패했습니다.\")\n",
        "else :\n",
        "        print(\"축하합니다! 공격에 성공!\")\n",
        "print(\"컴퓨터의 수비 위치 : \", computer_choice)        "
      ],
      "metadata": {
        "id": "bgWXUcomxYD1",
        "colab": {
          "base_uri": "https://localhost:8080/"
        },
        "outputId": "c36e3d11-a160-4d3d-d592-e993b45566f8"
      },
      "execution_count": 10,
      "outputs": [
        {
          "output_type": "stream",
          "name": "stdout",
          "text": [
            "공격할 위치를 정해주세요.(왼쪽, 중앙, 오른쪽) : 오른쪽\n",
            "축하합니다! 공격에 성공!\n",
            "컴퓨터의 수비 위치 :  중앙\n"
          ]
        }
      ]
    },
    {
      "cell_type": "code",
      "source": [
        "#심화문제 4-3\n",
        "age = int(input('나이를 입력하세요 : '))\n",
        "if age >= 20:\n",
        "  print('Adult')\n",
        "elif age >= 10 and age < 10:\n",
        "  print('Youth')\n",
        "else:\n",
        "  print('Kid')"
      ],
      "metadata": {
        "colab": {
          "base_uri": "https://localhost:8080/"
        },
        "id": "SIz0CLNhrM_B",
        "outputId": "92bfd0bd-b91c-4f22-a142-e181bfb12f02"
      },
      "execution_count": 12,
      "outputs": [
        {
          "output_type": "stream",
          "name": "stdout",
          "text": [
            "나이를 입력하세요: 456\n",
            "Adult\n"
          ]
        }
      ]
    },
    {
      "cell_type": "code",
      "source": [
        "#심화문제 4-4\n",
        "num = int(input(\"정수를 입력하시오 : \"))\n",
        "if num % 2 == 0 :\n",
        "  print(num, '는(은) 2로 나누어 집니다.')\n",
        "else :\n",
        "  print(num, '는(은) 2로 나누어지지 않습니다.')\n",
        "\n",
        "if num % 3 == 0 :\n",
        "  print(num, '는(은) 3으로 나누어 집니다.')\n",
        "else :\n",
        "  print(num, '는(은) 3으로 나누어지지 않습니다.')\n",
        "\n",
        "if num % 2 == 0 and num % 3 == 0:\n",
        "  print(num, '2와(과) 3 모두로 나누어 집니다.')\n",
        "else :\n",
        "  print(num, '2와(과) 3 모두로 나누어지지 않습니다.')"
      ],
      "metadata": {
        "colab": {
          "base_uri": "https://localhost:8080/"
        },
        "id": "jUtMsOnPrM1L",
        "outputId": "f652d1bf-920c-4d2a-befa-709a816781f8"
      },
      "execution_count": 13,
      "outputs": [
        {
          "output_type": "stream",
          "name": "stdout",
          "text": [
            "정수를 입력하시오 : 1234\n",
            "1234 는(은) 2로 나누어 집니다.\n",
            "1234 는(은) 3으로 나누어지지 않습니다.\n",
            "1234 2와(과) 3 모두로 나누어지지 않습니다.\n"
          ]
        }
      ]
    },
    {
      "cell_type": "code",
      "source": [
        "#심화문제 4-8\n"
      ],
      "metadata": {
        "id": "z2T4EtJirMr2"
      },
      "execution_count": null,
      "outputs": []
    },
    {
      "cell_type": "code",
      "source": [],
      "metadata": {
        "id": "HXbJBnN3xX3R"
      },
      "execution_count": null,
      "outputs": []
    },
    {
      "cell_type": "code",
      "source": [],
      "metadata": {
        "id": "t6oGFaT-xX0k"
      },
      "execution_count": null,
      "outputs": []
    },
    {
      "cell_type": "code",
      "source": [],
      "metadata": {
        "id": "qdiQJJVo2yZi"
      },
      "execution_count": null,
      "outputs": []
    },
    {
      "cell_type": "code",
      "source": [
        "dan = 2\n",
        "\n",
        "while dan <= 9:\n",
        "  print(\"== {}단==\".format(dan))\n",
        "\n",
        "  i = 1\n",
        "\n",
        "  while i <= 9:\n",
        "    print(\"{} * {} = {}\".format(dan, i, dan * i))\n",
        "    i += 1\n",
        "\n",
        "  dan += 1"
      ],
      "metadata": {
        "id": "U8cQgNwIHOHY"
      },
      "execution_count": null,
      "outputs": []
    },
    {
      "cell_type": "code",
      "source": [
        "dan = 7\n",
        "dan = dan + 1\n",
        "\n",
        "# 수정가능 시작\n",
        "\n",
        "i = 1\n",
        "\n",
        "\n",
        "print(\"== {}단 ==\".format(dan))\n",
        "\n",
        "while i <= 9:\n",
        "\n",
        "  print(\"{} * {} = {}\".format(dan, i, dan * i))\n",
        "  i += 1"
      ],
      "metadata": {
        "id": "c6ufYH7HHOEw"
      },
      "execution_count": null,
      "outputs": []
    },
    {
      "cell_type": "code",
      "source": [],
      "metadata": {
        "id": "qulD5DeL8PnS"
      },
      "execution_count": null,
      "outputs": []
    },
    {
      "cell_type": "code",
      "source": [],
      "metadata": {
        "id": "OVZUZ9JFHN_i"
      },
      "execution_count": null,
      "outputs": []
    },
    {
      "cell_type": "code",
      "source": [],
      "metadata": {
        "id": "uQxaX4c9HN8l"
      },
      "execution_count": null,
      "outputs": []
    },
    {
      "cell_type": "code",
      "source": [],
      "metadata": {
        "id": "qpjbIdLPHN59"
      },
      "execution_count": null,
      "outputs": []
    },
    {
      "cell_type": "code",
      "source": [],
      "metadata": {
        "id": "A8LUmpSMHN3Q"
      },
      "execution_count": null,
      "outputs": []
    },
    {
      "cell_type": "code",
      "source": [],
      "metadata": {
        "id": "kzg7InKRHN0q"
      },
      "execution_count": null,
      "outputs": []
    },
    {
      "cell_type": "code",
      "source": [],
      "metadata": {
        "id": "taElXiDBHNyA"
      },
      "execution_count": null,
      "outputs": []
    },
    {
      "cell_type": "code",
      "source": [],
      "metadata": {
        "id": "6gw6f1vKHNvX"
      },
      "execution_count": null,
      "outputs": []
    },
    {
      "cell_type": "code",
      "source": [],
      "metadata": {
        "id": "KLGInt4VHNss"
      },
      "execution_count": null,
      "outputs": []
    },
    {
      "cell_type": "code",
      "source": [],
      "metadata": {
        "id": "lMZf8e66HNp8"
      },
      "execution_count": null,
      "outputs": []
    },
    {
      "cell_type": "code",
      "source": [],
      "metadata": {
        "id": "brKxSOQ6HNnT"
      },
      "execution_count": null,
      "outputs": []
    },
    {
      "cell_type": "code",
      "source": [],
      "metadata": {
        "id": "rDkqFSq4HNkp"
      },
      "execution_count": null,
      "outputs": []
    },
    {
      "cell_type": "code",
      "source": [
        "# 1번\n",
        "x = ['a','b','c', 'd','e','f','g','h','i','j','k','l','m','n','o','p','q','r','s','t','v','w','x','y','z']\n",
        "x = str(input('알파벳을 입력하시오 : '))\n",
        "if x == 'a' or x=='e' or x=='i' or x=='o' or x=='u':\n",
        "  print(x, '(은)는 모음입니다.')\n",
        "else :\n",
        "  print(x, '(은)는 자음입니다.')"
      ],
      "metadata": {
        "colab": {
          "base_uri": "https://localhost:8080/"
        },
        "id": "WRDa5D1BHNh9",
        "outputId": "b2cc122c-bbfd-4b1d-e081-58b45a43ba62"
      },
      "execution_count": null,
      "outputs": [
        {
          "output_type": "stream",
          "name": "stdout",
          "text": [
            "알파벳을 입력하시오 : a\n",
            "a (은)는 모음입니다.\n"
          ]
        }
      ]
    },
    {
      "cell_type": "code",
      "source": [
        "# 2번\n",
        "# (if문만 사용해서 구함)\n",
        "a, b, c = map(int, input('세 정수를 입력하시오 : ').split())\n",
        "if b > a and b > c:\n",
        "  a,b = b,a\n",
        "if c > a and c > b:\n",
        "  a,c = c,a\n",
        "if c > b:\n",
        "  b,c = c,b\n",
        "print(a, b, c)"
      ],
      "metadata": {
        "colab": {
          "base_uri": "https://localhost:8080/"
        },
        "id": "oyVHvyHHHNfR",
        "outputId": "4e6eea9b-9857-4ac8-e441-b269cd4504c4"
      },
      "execution_count": null,
      "outputs": [
        {
          "output_type": "stream",
          "name": "stdout",
          "text": [
            "세 정수를 입력하시오 : 12 9 1\n",
            "12 9 1\n"
          ]
        }
      ]
    },
    {
      "cell_type": "code",
      "source": [
        "# 3번\n",
        "age = int(input('나이를 입력하시오: '))\n",
        "if age >= 20:\n",
        "  print('Adult')\n",
        "elif age >= 10 and age < 10:\n",
        "  print('Youth')\n",
        "else:\n",
        "  print('Kid')"
      ],
      "metadata": {
        "colab": {
          "base_uri": "https://localhost:8080/"
        },
        "id": "V0QDbZzdHNcu",
        "outputId": "488987d8-0321-41e9-ae4e-dc1034915055"
      },
      "execution_count": null,
      "outputs": [
        {
          "output_type": "stream",
          "name": "stdout",
          "text": [
            "나이를 입력하시오: 1\n",
            "Kid\n"
          ]
        }
      ]
    },
    {
      "cell_type": "code",
      "source": [
        "# 4번\n",
        "num = int(input(\"정수를 입력하시오 : \"))\n",
        "if num % 2 == 0 :\n",
        "  print(num, '는(은) 2로 나누어 집니다.')\n",
        "else :\n",
        "  print(num, '는(은) 2로 나누어지지 않습니다.')\n",
        "\n",
        "if num % 3 == 0 :\n",
        "  print(num, '는(은) 3으로 나누어 집니다.')\n",
        "else :\n",
        "  print(num, '는(은) 3으로 나누어지지 않습니다.')\n",
        "\n",
        "if num % 2 == 0 and num % 3 == 0:\n",
        "  print(num, '2와(과) 3 모두로 나누어 집니다.')\n",
        "else :\n",
        "  print(num, '2와(과) 3 모두로 나누어지지 않습니다.')"
      ],
      "metadata": {
        "colab": {
          "base_uri": "https://localhost:8080/"
        },
        "id": "y5SuCHR6HNaB",
        "outputId": "636fbc36-4698-4ef1-d796-1022658ab549"
      },
      "execution_count": null,
      "outputs": [
        {
          "output_type": "stream",
          "name": "stdout",
          "text": [
            "정수를 입력하시오 : 10\n",
            "10 는(은) 2로 나누어 집니다.\n",
            "10 는(은) 3으로 나누어지지 않습니다.\n",
            "10 2와(과) 3 모두로 나누어지지 않습니다.\n"
          ]
        }
      ]
    },
    {
      "cell_type": "code",
      "source": [
        "# 5번\n",
        "import random\n",
        "me = map(int, input('세 복권번호를 입력하시오 : ').split())\n",
        "\n",
        "alist=[]\n",
        "for i in range(3):\n",
        "  lotto = random.randint(0, 9)\n",
        "  print(\"당첨번호는\", lotto, \"입니다.\")\n",
        "while lotto in alist :\n",
        "  lotto = random.randint(1,9)\n",
        "\n",
        "if (lotto == me):\n",
        "  print(\"상금은 1억원입니다.\")\n",
        "else:\n",
        "   print(\"다음 기회에...\")"
      ],
      "metadata": {
        "colab": {
          "base_uri": "https://localhost:8080/"
        },
        "id": "EzFu9H7CHNXe",
        "outputId": "fa42637f-b2fb-46cf-b4b3-503a0e7841af"
      },
      "execution_count": null,
      "outputs": [
        {
          "output_type": "stream",
          "name": "stdout",
          "text": [
            "세 복권번호를 입력하시오 : 1 2 3\n",
            "당첨번호는 0 입니다.\n",
            "당첨번호는 1 입니다.\n",
            "당첨번호는 9 입니다.\n",
            "다음 기회에...\n"
          ]
        }
      ]
    },
    {
      "cell_type": "code",
      "source": [
        "# 6번\n",
        "print('우리식당에 오신것을 환영합니다. 메뉴는 다음과 같습니다.')\n",
        "print('b)햄버거 c)치킨 p)피자')\n",
        "order = str(input('b, c, p 메뉴 선택'))\n",
        "while order != 'b' and order != 'c' and order != 'p':\n",
        "\torder = input('메뉴를 선택하세요.: ')\n",
        "if order == 'b':\n",
        "  print('햄버거를 선택하였습니다.')\n",
        "if order == 'c':\n",
        "  print('치킨을 선택하였습니다.')\n",
        "if order == 'p':\n",
        "  print('피자를 선택하였습니다.')\n",
        "else:\n",
        "  print(\"선택한 메뉴가 없습니다.\")"
      ],
      "metadata": {
        "colab": {
          "base_uri": "https://localhost:8080/"
        },
        "id": "pO4qkNDJHNU0",
        "outputId": "face33df-8a63-4c44-ee23-17bb5cc7ef3e"
      },
      "execution_count": null,
      "outputs": [
        {
          "output_type": "stream",
          "name": "stdout",
          "text": [
            "우리식당에 오신것을 환영합니다. 메뉴는 다음과 같습니다.\n",
            "b)햄버거 c)치킨 p)피자\n",
            "b, c, p 메뉴 선택b\n",
            "햄버거를 선택하였습니다.\n",
            "선택한 메뉴가 없습니다.\n"
          ]
        }
      ]
    },
    {
      "cell_type": "code",
      "source": [
        "# 7번\n",
        "import random\n",
        "x = random.randint(1, 100)\n",
        "y = random.randint(1, 100)\n",
        "s = str(x)+'+'+str(y)+'='\n",
        "num = int(input(s))\n",
        "if num == x+y:\n",
        "\tprint(\"잘했어요!!\")\n",
        "else:\n",
        "\tprint(\"정답은\", x+y, '입니다.')"
      ],
      "metadata": {
        "colab": {
          "base_uri": "https://localhost:8080/"
        },
        "id": "I7knbq6XKTLM",
        "outputId": "e805d36e-6827-4d8a-9a7c-7b98962c61b2"
      },
      "execution_count": null,
      "outputs": [
        {
          "output_type": "stream",
          "name": "stdout",
          "text": [
            "69+63=1\n",
            "정답은 132 입니다.\n"
          ]
        }
      ]
    },
    {
      "cell_type": "code",
      "source": [
        "# 8번\n",
        "print('1)덧셈 2)뺄셈 3)곱셈 4)나눗셈')\n",
        "s = int(input('어떤 연산을 원하는지 번호를 입력하세요: '))\n",
        "x, y = map(int, input('연산을 원하는 숫자 두 개를 입력하세요. \\n').split())\n",
        "if s == 1:\n",
        "\tprint(x, '+', y, '=', x+y)\n",
        "elif s == 2:\n",
        "\tprint(x, '-', y, '=', x-y)\n",
        "elif s == 3:\n",
        "\tprint(x, '*', y, '=', x*y)\n",
        "elif s == 4:\n",
        "\tprint(x, '/', y, '=', x/y)\n",
        "else:\n",
        "\tprint('잘못 입력하였습니다.')"
      ],
      "metadata": {
        "colab": {
          "base_uri": "https://localhost:8080/"
        },
        "id": "ckQHBBxvKTi_",
        "outputId": "ffef0320-3751-4c1b-b0f1-5be42eef2e80"
      },
      "execution_count": null,
      "outputs": [
        {
          "output_type": "stream",
          "name": "stdout",
          "text": [
            "1)덧셈 2)뺄셈 3)곱셈 4)나눗셈\n",
            "어떤 연산을 원하는지 번호를 입력하세요: 1\n",
            "연산을 원하는 숫자 두 개를 입력하세요. \n",
            "1 1\n",
            "1 + 1 = 2\n"
          ]
        }
      ]
    }
  ]
}
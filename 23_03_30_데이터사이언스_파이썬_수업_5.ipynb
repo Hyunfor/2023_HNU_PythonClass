{
  "nbformat": 4,
  "nbformat_minor": 0,
  "metadata": {
    "colab": {
      "provenance": [],
      "authorship_tag": "ABX9TyN0YABjJWJmFVpB5mdh14j0",
      "include_colab_link": true
    },
    "kernelspec": {
      "name": "python3",
      "display_name": "Python 3"
    },
    "language_info": {
      "name": "python"
    }
  },
  "cells": [
    {
      "cell_type": "markdown",
      "metadata": {
        "id": "view-in-github",
        "colab_type": "text"
      },
      "source": [
        "<a href=\"https://colab.research.google.com/github/Hyunfor/2023_HNU_PythonClass/blob/master/23_03_30_%EB%8D%B0%EC%9D%B4%ED%84%B0%EC%82%AC%EC%9D%B4%EC%96%B8%EC%8A%A4_%ED%8C%8C%EC%9D%B4%EC%8D%AC_%EC%88%98%EC%97%85_5.ipynb\" target=\"_parent\"><img src=\"https://colab.research.google.com/assets/colab-badge.svg\" alt=\"Open In Colab\"/></a>"
      ]
    },
    {
      "cell_type": "code",
      "execution_count": 22,
      "metadata": {
        "id": "8cvAarBAoBAb",
        "colab": {
          "base_uri": "https://localhost:8080/"
        },
        "outputId": "4178e693-b7c9-4d1c-daea-043d8d4c95ed"
      },
      "outputs": [
        {
          "output_type": "stream",
          "name": "stdout",
          "text": [
            "ㅇㅇ\n",
            "0\n",
            "ㅇㅇ\n",
            "1\n",
            "ㅇㅇ\n",
            "2\n",
            "ㅇㅇ\n",
            "3\n",
            "ㅇㅇ\n",
            "4\n",
            "ㅇㅇㅇ\n",
            "1\n",
            "ㅇㅇㅇ\n",
            "2\n",
            "ㅇㅇㅇ\n",
            "3\n",
            "ㅇㅇㅇ\n",
            "4\n",
            "ㅇㅇㅇ\n",
            "5\n"
          ]
        }
      ],
      "source": [
        "for i in range(5):\n",
        "    print(\"ㅇㅇ\")\n",
        "    print(i)\n",
        "for x in [1, 2, 3, 4, 5]:\n",
        "    print(\"ㅇㅇㅇ\")\n",
        "    print(x)    "
      ]
    },
    {
      "cell_type": "code",
      "source": [
        "for i in [1, 2, 3, 4, 5]:\n",
        "    print(\"i = \", i)"
      ],
      "metadata": {
        "id": "XZl63U4XoDqF",
        "colab": {
          "base_uri": "https://localhost:8080/"
        },
        "outputId": "7d03861c-cd5c-43ab-85dc-218747afd4d2"
      },
      "execution_count": 20,
      "outputs": [
        {
          "output_type": "stream",
          "name": "stdout",
          "text": [
            "i =  1\n",
            "i =  2\n",
            "i =  3\n",
            "i =  4\n",
            "i =  5\n"
          ]
        }
      ]
    },
    {
      "cell_type": "code",
      "source": [
        "for i in [1, 2, 3, 4, 5]:\n",
        "    print(\"9 *\", i, \"=\", 9 * i)"
      ],
      "metadata": {
        "id": "_tAlpnLqoDnA",
        "colab": {
          "base_uri": "https://localhost:8080/"
        },
        "outputId": "53512bae-1805-456b-b78d-3c5a34fc481f"
      },
      "execution_count": 23,
      "outputs": [
        {
          "output_type": "stream",
          "name": "stdout",
          "text": [
            "9 * 1 = 9\n",
            "9 * 2 = 18\n",
            "9 * 3 = 27\n",
            "9 * 4 = 36\n",
            "9 * 5 = 45\n"
          ]
        }
      ]
    },
    {
      "cell_type": "code",
      "source": [
        "for x in range(10):\n",
        "    print(\"2 *\", x , \"=\", 2 * x)"
      ],
      "metadata": {
        "id": "4ETv2mKGoDjw",
        "colab": {
          "base_uri": "https://localhost:8080/"
        },
        "outputId": "90b5ff9b-301e-402e-8a78-35d6a70e351b"
      },
      "execution_count": 27,
      "outputs": [
        {
          "output_type": "stream",
          "name": "stdout",
          "text": [
            "2 * 0 = 0\n",
            "2 * 1 = 2\n",
            "2 * 2 = 4\n",
            "2 * 3 = 6\n",
            "2 * 4 = 8\n",
            "2 * 5 = 10\n",
            "2 * 6 = 12\n",
            "2 * 7 = 14\n",
            "2 * 8 = 16\n",
            "2 * 9 = 18\n"
          ]
        }
      ]
    },
    {
      "cell_type": "code",
      "source": [
        "for x in range(4, 101, 2):\n",
        "    print(x)"
      ],
      "metadata": {
        "id": "2oEFLLo_oDgZ",
        "colab": {
          "base_uri": "https://localhost:8080/"
        },
        "outputId": "c048ae24-7724-462f-bc0f-e82a3991f29c"
      },
      "execution_count": 35,
      "outputs": [
        {
          "output_type": "stream",
          "name": "stdout",
          "text": [
            "4\n",
            "6\n",
            "8\n",
            "10\n",
            "12\n",
            "14\n",
            "16\n",
            "18\n",
            "20\n",
            "22\n",
            "24\n",
            "26\n",
            "28\n",
            "30\n",
            "32\n",
            "34\n",
            "36\n",
            "38\n",
            "40\n",
            "42\n",
            "44\n",
            "46\n",
            "48\n",
            "50\n",
            "52\n",
            "54\n",
            "56\n",
            "58\n",
            "60\n",
            "62\n",
            "64\n",
            "66\n",
            "68\n",
            "70\n",
            "72\n",
            "74\n",
            "76\n",
            "78\n",
            "80\n",
            "82\n",
            "84\n",
            "86\n",
            "88\n",
            "90\n",
            "92\n",
            "94\n",
            "96\n",
            "98\n",
            "100\n"
          ]
        }
      ]
    },
    {
      "cell_type": "code",
      "source": [],
      "metadata": {
        "id": "1NX1LKVOoDdK"
      },
      "execution_count": null,
      "outputs": []
    },
    {
      "cell_type": "code",
      "source": [],
      "metadata": {
        "id": "jwKvcOcmEmnM"
      },
      "execution_count": null,
      "outputs": []
    },
    {
      "cell_type": "code",
      "source": [],
      "metadata": {
        "id": "eYpswFYloDZ1"
      },
      "execution_count": null,
      "outputs": []
    },
    {
      "cell_type": "code",
      "source": [],
      "metadata": {
        "id": "SQ7JLFan0Ccg"
      },
      "execution_count": null,
      "outputs": []
    },
    {
      "cell_type": "code",
      "source": [],
      "metadata": {
        "id": "I_1t2hqE0CVY"
      },
      "execution_count": null,
      "outputs": []
    },
    {
      "cell_type": "code",
      "source": [],
      "metadata": {
        "id": "YB6qDokU0CK5"
      },
      "execution_count": null,
      "outputs": []
    },
    {
      "cell_type": "code",
      "source": [],
      "metadata": {
        "id": "owZtxaV-EmZ5"
      },
      "execution_count": null,
      "outputs": []
    },
    {
      "cell_type": "code",
      "source": [],
      "metadata": {
        "id": "Y2vh_qt9EmXf"
      },
      "execution_count": null,
      "outputs": []
    },
    {
      "cell_type": "code",
      "source": [],
      "metadata": {
        "id": "Ucz8NKlGEmUb"
      },
      "execution_count": null,
      "outputs": []
    },
    {
      "cell_type": "code",
      "source": [],
      "metadata": {
        "id": "yxBqy-EuEmRZ"
      },
      "execution_count": null,
      "outputs": []
    },
    {
      "cell_type": "code",
      "source": [],
      "metadata": {
        "id": "IhjBsR_-EmO7"
      },
      "execution_count": null,
      "outputs": []
    },
    {
      "cell_type": "code",
      "source": [
        "# 수업이랑 상관없이 생각나서 해봄\n",
        "dan = 2\n",
        "\n",
        "while dan <= 9:\n",
        "  print(\"== {}단==\".format(dan))\n",
        "\n",
        "  i = 1\n",
        "\n",
        "  while i <= 9:\n",
        "    print(\"{} * {} = {}\".format(dan, i, dan * i))\n",
        "    i += 1\n",
        "\n",
        "  dan += 1"
      ],
      "metadata": {
        "id": "KynmyjM-oDWt",
        "colab": {
          "base_uri": "https://localhost:8080/"
        },
        "outputId": "6283dd47-660e-466a-bb31-b225cde1623f"
      },
      "execution_count": 1,
      "outputs": [
        {
          "output_type": "stream",
          "name": "stdout",
          "text": [
            "== 2단==\n",
            "2 * 1 = 2\n",
            "2 * 2 = 4\n",
            "2 * 3 = 6\n",
            "2 * 4 = 8\n",
            "2 * 5 = 10\n",
            "2 * 6 = 12\n",
            "2 * 7 = 14\n",
            "2 * 8 = 16\n",
            "2 * 9 = 18\n",
            "== 3단==\n",
            "3 * 1 = 3\n",
            "3 * 2 = 6\n",
            "3 * 3 = 9\n",
            "3 * 4 = 12\n",
            "3 * 5 = 15\n",
            "3 * 6 = 18\n",
            "3 * 7 = 21\n",
            "3 * 8 = 24\n",
            "3 * 9 = 27\n",
            "== 4단==\n",
            "4 * 1 = 4\n",
            "4 * 2 = 8\n",
            "4 * 3 = 12\n",
            "4 * 4 = 16\n",
            "4 * 5 = 20\n",
            "4 * 6 = 24\n",
            "4 * 7 = 28\n",
            "4 * 8 = 32\n",
            "4 * 9 = 36\n",
            "== 5단==\n",
            "5 * 1 = 5\n",
            "5 * 2 = 10\n",
            "5 * 3 = 15\n",
            "5 * 4 = 20\n",
            "5 * 5 = 25\n",
            "5 * 6 = 30\n",
            "5 * 7 = 35\n",
            "5 * 8 = 40\n",
            "5 * 9 = 45\n",
            "== 6단==\n",
            "6 * 1 = 6\n",
            "6 * 2 = 12\n",
            "6 * 3 = 18\n",
            "6 * 4 = 24\n",
            "6 * 5 = 30\n",
            "6 * 6 = 36\n",
            "6 * 7 = 42\n",
            "6 * 8 = 48\n",
            "6 * 9 = 54\n",
            "== 7단==\n",
            "7 * 1 = 7\n",
            "7 * 2 = 14\n",
            "7 * 3 = 21\n",
            "7 * 4 = 28\n",
            "7 * 5 = 35\n",
            "7 * 6 = 42\n",
            "7 * 7 = 49\n",
            "7 * 8 = 56\n",
            "7 * 9 = 63\n",
            "== 8단==\n",
            "8 * 1 = 8\n",
            "8 * 2 = 16\n",
            "8 * 3 = 24\n",
            "8 * 4 = 32\n",
            "8 * 5 = 40\n",
            "8 * 6 = 48\n",
            "8 * 7 = 56\n",
            "8 * 8 = 64\n",
            "8 * 9 = 72\n",
            "== 9단==\n",
            "9 * 1 = 9\n",
            "9 * 2 = 18\n",
            "9 * 3 = 27\n",
            "9 * 4 = 36\n",
            "9 * 5 = 45\n",
            "9 * 6 = 54\n",
            "9 * 7 = 63\n",
            "9 * 8 = 72\n",
            "9 * 9 = 81\n"
          ]
        }
      ]
    },
    {
      "cell_type": "code",
      "source": [
        "# 수업이랑 상관없이 생각나서 해봄\n",
        "dan = 7\n",
        "dan = dan + 1\n",
        "\n",
        "# 수정가능 시작\n",
        "\n",
        "i = 1\n",
        "\n",
        "\n",
        "print(\"== {}단 ==\".format(dan))\n",
        "\n",
        "while i <= 9:\n",
        "\n",
        "  print(\"{} * {} = {}\".format(dan, i, dan * i))\n",
        "  i += 1"
      ],
      "metadata": {
        "id": "0bm180IyoDTZ"
      },
      "execution_count": null,
      "outputs": []
    },
    {
      "cell_type": "code",
      "source": [
        "# 수업이랑 상관없이 생각나서 해봄\n",
        "dan = 8\n",
        "\n",
        "print(\"== {}단 ==\".format(dan))\n",
        "# +=는 기존의 것에 덧붙여서 출력. =는 다시 넣어서 출력. \\n 다음줄로 내려서 출력.\n",
        "s = \"\"\n",
        "s += \"8 * 1 = 8\\n\"\n",
        "s += \"8 * 2 = 16\\n\"\n",
        "s += \"8 * 3 = 24\\n\"\n",
        "s += \"8 * 4 = 32\\n\"\n",
        "s += \"8 * 5 = 40\\n\"\n",
        "s += \"8 * 6 = 48\\n\"\n",
        "s += \"8 * 7 = 56\\n\"\n",
        "s += \"8 * 8 = 64\\n\"\n",
        "s += \"8 * 9 = 72\\n\"\n",
        "\n",
        "print(s)"
      ],
      "metadata": {
        "id": "hJshV-fzoDQV"
      },
      "execution_count": null,
      "outputs": []
    },
    {
      "cell_type": "code",
      "source": [],
      "metadata": {
        "id": "0fqNMyqjoDNP"
      },
      "execution_count": null,
      "outputs": []
    },
    {
      "cell_type": "code",
      "source": [],
      "metadata": {
        "id": "7H9g4UcuoDKI"
      },
      "execution_count": null,
      "outputs": []
    },
    {
      "cell_type": "code",
      "source": [],
      "metadata": {
        "id": "oKhiFWVboDHF"
      },
      "execution_count": null,
      "outputs": []
    },
    {
      "cell_type": "code",
      "source": [],
      "metadata": {
        "id": "vpECmedWoDEG"
      },
      "execution_count": null,
      "outputs": []
    },
    {
      "cell_type": "code",
      "source": [],
      "metadata": {
        "id": "Yb5QRPc6oDBM"
      },
      "execution_count": null,
      "outputs": []
    },
    {
      "cell_type": "code",
      "source": [],
      "metadata": {
        "id": "urygr0__oC-F"
      },
      "execution_count": null,
      "outputs": []
    },
    {
      "cell_type": "code",
      "source": [],
      "metadata": {
        "id": "T4jD0XAToC7O"
      },
      "execution_count": null,
      "outputs": []
    },
    {
      "cell_type": "code",
      "source": [],
      "metadata": {
        "id": "SvqU5kM3oQlJ"
      },
      "execution_count": null,
      "outputs": []
    },
    {
      "cell_type": "code",
      "source": [],
      "metadata": {
        "id": "dK3fYoSGoQh3"
      },
      "execution_count": null,
      "outputs": []
    },
    {
      "cell_type": "code",
      "source": [],
      "metadata": {
        "id": "lKiq4ZkLoQdS"
      },
      "execution_count": null,
      "outputs": []
    },
    {
      "cell_type": "code",
      "source": [],
      "metadata": {
        "id": "QGRIX8aZoQaC"
      },
      "execution_count": null,
      "outputs": []
    },
    {
      "cell_type": "code",
      "source": [
        "#심화문제 풀이 ch.5 (P141 ~ 144)"
      ],
      "metadata": {
        "id": "KOY7r5McoC4N"
      },
      "execution_count": null,
      "outputs": []
    },
    {
      "cell_type": "code",
      "source": [
        "# 5-1\n",
        "result = \"\"\n",
        "for i in range(1, 101):\n",
        "   if i & 1:\n",
        "      result += \"%d, \" % i\n",
        "print('1에서 100까지의 수 중에서 홀수는 :',result[0:len(result)-2])\n"
      ],
      "metadata": {
        "colab": {
          "base_uri": "https://localhost:8080/"
        },
        "id": "luGK3kHloC1N",
        "outputId": "d9553fb9-bfd0-499a-e664-bef9ffbd6257"
      },
      "execution_count": null,
      "outputs": [
        {
          "output_type": "stream",
          "name": "stdout",
          "text": [
            "1에서 100까지의 수 중에서 홀수는 : 1, 3, 5, 7, 9, 11, 13, 15, 17, 19, 21, 23, 25, 27, 29, 31, 33, 35, 37, 39, 41, 43, 45, 47, 49, 51, 53, 55, 57, 59, 61, 63, 65, 67, 69, 71, 73, 75, 77, 79, 81, 83, 85, 87, 89, 91, 93, 95, 97, 99\n"
          ]
        }
      ]
    },
    {
      "cell_type": "code",
      "source": [
        "i = 1\n",
        "while i <= 100:\n",
        "  print(i, end = \", \")\n",
        "  i = i + 2"
      ],
      "metadata": {
        "colab": {
          "base_uri": "https://localhost:8080/"
        },
        "id": "Tqo04uZHpHgR",
        "outputId": "43cea6b5-b468-42a4-df75-05374a7d4876"
      },
      "execution_count": null,
      "outputs": [
        {
          "output_type": "stream",
          "name": "stdout",
          "text": [
            "1, 3, 5, 7, 9, 11, 13, 15, 17, 19, 21, 23, 25, 27, 29, 31, 33, 35, 37, 39, 41, 43, 45, 47, 49, 51, 53, 55, 57, 59, 61, 63, 65, 67, 69, 71, 73, 75, 77, 79, 81, 83, 85, 87, 89, 91, 93, 95, 97, 99, "
          ]
        }
      ]
    },
    {
      "cell_type": "code",
      "source": [
        "#for 반복문\n",
        "for i in range(1, 101):\n",
        "   if not (i & 1):\n",
        "      print(i, end = \", \")\n",
        "#while 반복문\n",
        "i = 1\n",
        "while i <= 50:\n",
        "  print(i*2, end = \", \")\n",
        "  i=i+1\n"
      ],
      "metadata": {
        "colab": {
          "base_uri": "https://localhost:8080/",
          "height": 137
        },
        "id": "3HvWJfx7pHSw",
        "outputId": "25cad9ce-76fd-4d6c-f81e-a8ef1480461f"
      },
      "execution_count": null,
      "outputs": [
        {
          "output_type": "error",
          "ename": "SyntaxError",
          "evalue": "ignored",
          "traceback": [
            "\u001b[0;36m  File \u001b[0;32m\"<ipython-input-7-1d640e337098>\"\u001b[0;36m, line \u001b[0;32m1\u001b[0m\n\u001b[0;31m    for 반복문;\u001b[0m\n\u001b[0m           ^\u001b[0m\n\u001b[0;31mSyntaxError\u001b[0m\u001b[0;31m:\u001b[0m invalid syntax\n"
          ]
        }
      ]
    },
    {
      "cell_type": "code",
      "source": [
        "# 5-2\n",
        "#for 반복문\n",
        "even = odd = 0 \n",
        "for i in range(1, 101):\n",
        "    if i % 2 == 0:\n",
        "        even += i\n",
        "    else:\n",
        "        odd += i\n",
        "\n",
        "print('1에서 100까지의 수 중에서 짝수 합 : ', even)\n",
        "print('1에서 100까지의 수 중에서 홀수 합 : ', odd)\n",
        "\n"
      ],
      "metadata": {
        "colab": {
          "base_uri": "https://localhost:8080/"
        },
        "id": "6jkf9BMAoCyU",
        "outputId": "ce690043-7897-4deb-ea01-29e92c57760d"
      },
      "execution_count": null,
      "outputs": [
        {
          "output_type": "stream",
          "name": "stdout",
          "text": [
            "1에서 100까지의 수 중에서 짝수 합 :  2550\n",
            "1에서 100까지의 수 중에서 홀수 합 :  2500\n"
          ]
        }
      ]
    },
    {
      "cell_type": "code",
      "source": [
        "#while 반복문\n",
        "x = 1\n",
        "짝수합 = 0\n",
        "홀수합 = 0\n",
        "\n",
        "while x < 101:\n",
        "    if x % 2 == 0:\n",
        "        짝수합 = 짝수합 + x\n",
        "    else:\n",
        "        홀수합 = 홀수합 + x\n",
        "    x = x+1\n",
        "\n",
        "print('짝수의 합은 : ', 짝수합)\n",
        "print('홀수의 합은 : ', 홀수합)"
      ],
      "metadata": {
        "colab": {
          "base_uri": "https://localhost:8080/"
        },
        "id": "Jdi3DxTWphKG",
        "outputId": "18b52e6e-1410-4e49-fae3-7f135ff4972a"
      },
      "execution_count": null,
      "outputs": [
        {
          "output_type": "stream",
          "name": "stdout",
          "text": [
            "짝수의 합은 :  2550\n",
            "홀수의 합은 :  2500\n"
          ]
        }
      ]
    },
    {
      "cell_type": "code",
      "source": [
        "a = int(input('시작 정수를 입력하세요 :'))\n",
        "b = int(input('끝 정수를 입력하세요 :'))\n",
        "if a>b:\n",
        "  a,b = b,a\n",
        "sum=0\n",
        "for i in range(a, b+1):\n",
        "  sum+=i\n",
        "print(a, '에서', b, '까지 정수의 합 : ', sum)"
      ],
      "metadata": {
        "colab": {
          "base_uri": "https://localhost:8080/"
        },
        "id": "lq9_P6SjoCvg",
        "outputId": "bb04a183-8e0e-4695-bb9e-beaebfff6cc5"
      },
      "execution_count": null,
      "outputs": [
        {
          "output_type": "stream",
          "name": "stdout",
          "text": [
            "시작 정수를 입력하세요 :1\n",
            "끝 정수를 입력하세요 :2\n",
            "1 에서 2 까지 정수의 합 :  3\n"
          ]
        }
      ]
    },
    {
      "cell_type": "code",
      "source": [
        "# 5-3\n",
        "print('맛나 식당에 오신 것을 환영합니다. 메뉴는 다음과 같습니다.')\n",
        "print('1) 햄버거\\n2) 치킨\\n3) 피자')\n",
        "order = int(input('1에서 3까지의 메뉴를 선택하세요 : '))\n",
        "if order == 1:\n",
        "  print('햄버거를 선택하였습니다.')\n",
        "if order == 2:\n",
        "  print('치킨을 선택하였습니다.')\n",
        "if order == 3:\n",
        "  print('피자를 선택하였습니다.')\n",
        "\n",
        "else:\n",
        "  while order>3 or order<0:\n",
        "    order = int(input('메뉴를 다시 입력하세요 : '))"
      ],
      "metadata": {
        "colab": {
          "base_uri": "https://localhost:8080/"
        },
        "id": "2ViXwNMbpwg9",
        "outputId": "7f78f4e8-1370-4fe2-b8ad-de59608fbe54"
      },
      "execution_count": null,
      "outputs": [
        {
          "output_type": "stream",
          "name": "stdout",
          "text": [
            "맛나 식당에 오신 것을 환영합니다. 메뉴는 다음과 같습니다.\n",
            "1) 햄버거\n",
            "2) 치킨\n",
            "3) 피자\n",
            "1에서 3까지의 메뉴를 선택하세요 : 1\n",
            "햄버거를 선택하였습니다.\n"
          ]
        }
      ]
    },
    {
      "cell_type": "code",
      "source": [
        "# 5-4\n",
        "x = int(input('숫자를 입력하세요 : '))\n",
        "i = 1*'*'\n",
        "while i <= 5*'*':\n",
        "  print(i, end = \"\\n\")\n",
        "  i = i + 1*'*'"
      ],
      "metadata": {
        "colab": {
          "base_uri": "https://localhost:8080/"
        },
        "id": "Rhen4sREoCso",
        "outputId": "5989f4ee-591f-45e7-8e8d-3160edca5199"
      },
      "execution_count": null,
      "outputs": [
        {
          "output_type": "stream",
          "name": "stdout",
          "text": [
            "숫자를 입력하세요 : 55\n",
            "*\n",
            "**\n",
            "***\n",
            "****\n",
            "*****\n"
          ]
        }
      ]
    },
    {
      "cell_type": "code",
      "source": [
        "# 5-5\n"
      ],
      "metadata": {
        "id": "5NT3V4cQoCp-"
      },
      "execution_count": null,
      "outputs": []
    },
    {
      "cell_type": "code",
      "source": [
        "# 5-6\n",
        "연료 = 500\n",
        "for i in range(3):\n",
        "  x = int(input('충전 또는 사용한 연료를 +/- 기호와 함께 입력하시오 : '))\n",
        "  연료증감 = 연료 + x\n",
        "  print('현재 탱크양은', 연료+x, '입니다.')\n",
        "while 연료 >100:\n",
        "  print(\"경고 : 연료가 10% 미만이니 충전하세요!\")\n",
        "  break"
      ],
      "metadata": {
        "colab": {
          "base_uri": "https://localhost:8080/"
        },
        "id": "UarUzr7GoYNC",
        "outputId": "97cbec24-5104-462e-9bf1-ef13f9c35c4c"
      },
      "execution_count": null,
      "outputs": [
        {
          "output_type": "stream",
          "name": "stdout",
          "text": [
            "충전 또는 사용한 연료를 +/- 기호와 함께 입력하시오 : 200\n",
            "현재 탱크양은 700 입니다.\n",
            "충전 또는 사용한 연료를 +/- 기호와 함께 입력하시오 : 100\n",
            "현재 탱크양은 600 입니다.\n",
            "충전 또는 사용한 연료를 +/- 기호와 함께 입력하시오 : -290\n",
            "현재 탱크양은 210 입니다.\n",
            "경고 : 연료가 10% 미만이니 충전하세요!\n"
          ]
        }
      ]
    },
    {
      "cell_type": "code",
      "source": [
        "# 5-7"
      ],
      "metadata": {
        "id": "Ag-dWAiyoXyK"
      },
      "execution_count": null,
      "outputs": []
    },
    {
      "cell_type": "code",
      "source": [
        "# 5-8\n",
        "n = list(map(int,str(input(\"정수를 입력하시오: \"))))\n",
        "n.reverse()\n",
        "m = \"\"\n",
        "for i in n:\n",
        "  m += str(i)\n",
        "if n == m:\n",
        "  print(m, \"은(는) 거꾸로 정수입니다.\")\n",
        "else:\n",
        "  print(m, \"은(는) 거꾸로 정수가 아닙니다.\")"
      ],
      "metadata": {
        "colab": {
          "base_uri": "https://localhost:8080/"
        },
        "id": "9bUL7I8FoXqB",
        "outputId": "5a1f54a5-19ee-4cdf-d0b7-1498b1b0e6a9"
      },
      "execution_count": null,
      "outputs": [
        {
          "output_type": "stream",
          "name": "stdout",
          "text": [
            "정수를 입력하시오: 234\n",
            "432 은(는) 거꾸로 정수가 아닙니다.\n"
          ]
        }
      ]
    },
    {
      "cell_type": "code",
      "source": [
        "# 5-9"
      ],
      "metadata": {
        "id": "la-PlgeyqXE-"
      },
      "execution_count": null,
      "outputs": []
    }
  ]
}
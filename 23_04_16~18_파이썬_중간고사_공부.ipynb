{
  "nbformat": 4,
  "nbformat_minor": 0,
  "metadata": {
    "colab": {
      "provenance": [],
      "authorship_tag": "ABX9TyOYE2CySothXOWnU3pnxqtn",
      "include_colab_link": true
    },
    "kernelspec": {
      "name": "python3",
      "display_name": "Python 3"
    },
    "language_info": {
      "name": "python"
    }
  },
  "cells": [
    {
      "cell_type": "markdown",
      "metadata": {
        "id": "view-in-github",
        "colab_type": "text"
      },
      "source": [
        "<a href=\"https://colab.research.google.com/github/Hyunfor/2023_HNU_PythonClass/blob/master/23_04_16~18_%ED%8C%8C%EC%9D%B4%EC%8D%AC_%EC%A4%91%EA%B0%84%EA%B3%A0%EC%82%AC_%EA%B3%B5%EB%B6%80.ipynb\" target=\"_parent\"><img src=\"https://colab.research.google.com/assets/colab-badge.svg\" alt=\"Open In Colab\"/></a>"
      ]
    },
    {
      "cell_type": "markdown",
      "source": [
        "2장"
      ],
      "metadata": {
        "id": "F1qoX9K_uNH0"
      }
    },
    {
      "cell_type": "code",
      "execution_count": null,
      "metadata": {
        "colab": {
          "base_uri": "https://localhost:8080/"
        },
        "id": "44srhtTXe_YL",
        "outputId": "e7ba523e-8f6f-4df5-82f9-e41bf91a4bcb"
      },
      "outputs": [
        {
          "output_type": "execute_result",
          "data": {
            "text/plain": [
              "24.772096710265558"
            ]
          },
          "metadata": {},
          "execution_count": 1
        }
      ],
      "source": [
        "#LAB 2-1\n",
        "#신체 질량 지수를 파이썬으로 계산하기\n",
        "# 키, 체중을 입력하면 자동으로 BMI값이 계산되어 변수 bmi에 저장, 그값을 출력\n",
        "height = 1.74\n",
        "weight = 75\n",
        "bmi = weight / height**2\n",
        "bmi"
      ]
    },
    {
      "cell_type": "code",
      "source": [
        "#LAB 2-2\n",
        "#피자의 면적을 계산해보자\n",
        "radius = 10\n",
        "area = 3.14 * radius**2\n",
        "print(\"피자의 면적은\", area)"
      ],
      "metadata": {
        "colab": {
          "base_uri": "https://localhost:8080/"
        },
        "id": "h4zCWqZ9gpAB",
        "outputId": "cba5fc3f-1067-42aa-ae3e-e3045e47b220"
      },
      "execution_count": null,
      "outputs": [
        {
          "output_type": "stream",
          "name": "stdout",
          "text": [
            "피자의 면적은 314.0\n"
          ]
        }
      ]
    },
    {
      "cell_type": "code",
      "source": [
        "#LAB 2-4\n",
        "#복리이자를 계산해보자 ( 원금 = principal, 이율 = interest_rate)\n",
        "principal = 10000\n",
        "years = 5\n",
        "interest_rate = 0.03\n",
        "money = principal * (1.0 + interest_rate) ** years\n",
        "\n",
        "print(\"원금: \", principal)\n",
        "print(\"이율: \", interest_rate)\n",
        "print(\"years: \", years)\n",
        "print(\"수령금액 : \", money)"
      ],
      "metadata": {
        "colab": {
          "base_uri": "https://localhost:8080/"
        },
        "id": "wJc_NY3Kg9dv",
        "outputId": "1987612f-ce62-40c0-f964-74101fc6b8f1"
      },
      "execution_count": null,
      "outputs": [
        {
          "output_type": "stream",
          "name": "stdout",
          "text": [
            "원금:  10000\n",
            "이율:  0.03\n",
            "years:  5\n",
            "수령금액 :  11592.740743\n"
          ]
        }
      ]
    },
    {
      "cell_type": "code",
      "source": [
        "#LAB 2-5\n",
        "# 로봇 기자가 야구기사 쓰다\n",
        "#사용자의 대답을 변수에 저장\n",
        "stadium = input(\"경기장은 어디입니까 ? \")\n",
        "winner = input(\"승리한 팀은 어디입니까 ? \")\n",
        "loser = input(\"패배한 팀은 어디입니까 ? \")\n",
        "vip = input(\"vip선수는 누구입니까 ? \")\n",
        "score = input(\"스코어는 얼마입니까 ? \")\n",
        "\n",
        "#사용자의 입력을 바탕으로 기사 작성\n",
        "print(\"\")\n",
        "print(\"=\" * 20)\n",
        "print(\"오늘\", stadium, \"에서 아구 경기가 진행되었습니다.\")\n",
        "print(winner, \"과\", loser, \"은 치열한 공방전을 펼쳤습니다.\")\n",
        "print(vip, \"의 맹활약으로 \", winner,\"가\", loser,\"를\", score, \"로 승리했습니다.\")\n",
        "print(\"=\" * 20)"
      ],
      "metadata": {
        "colab": {
          "base_uri": "https://localhost:8080/",
          "height": 400
        },
        "id": "cw0DQdL_iB0E",
        "outputId": "ed267842-3bdc-43e6-d635-27383f4c096d"
      },
      "execution_count": 10,
      "outputs": [
        {
          "output_type": "error",
          "ename": "KeyboardInterrupt",
          "evalue": "ignored",
          "traceback": [
            "\u001b[0;31m---------------------------------------------------------------------------\u001b[0m",
            "\u001b[0;31mKeyboardInterrupt\u001b[0m                         Traceback (most recent call last)",
            "\u001b[0;32m<ipython-input-10-f789f6483755>\u001b[0m in \u001b[0;36m<cell line: 4>\u001b[0;34m()\u001b[0m\n\u001b[1;32m      2\u001b[0m \u001b[0;31m# 로봇 기자가 야구기사 쓰다\u001b[0m\u001b[0;34m\u001b[0m\u001b[0;34m\u001b[0m\u001b[0m\n\u001b[1;32m      3\u001b[0m \u001b[0;31m#사용자의 대답을 변수에 저장\u001b[0m\u001b[0;34m\u001b[0m\u001b[0;34m\u001b[0m\u001b[0m\n\u001b[0;32m----> 4\u001b[0;31m \u001b[0mstadium\u001b[0m \u001b[0;34m=\u001b[0m \u001b[0minput\u001b[0m\u001b[0;34m(\u001b[0m\u001b[0;34m\"경기장은 어디입니까 ? \"\u001b[0m\u001b[0;34m)\u001b[0m\u001b[0;34m\u001b[0m\u001b[0;34m\u001b[0m\u001b[0m\n\u001b[0m\u001b[1;32m      5\u001b[0m \u001b[0mwinner\u001b[0m \u001b[0;34m=\u001b[0m \u001b[0minput\u001b[0m\u001b[0;34m(\u001b[0m\u001b[0;34m\"승리한 팀은 어디입니까 ? \"\u001b[0m\u001b[0;34m)\u001b[0m\u001b[0;34m\u001b[0m\u001b[0;34m\u001b[0m\u001b[0m\n\u001b[1;32m      6\u001b[0m \u001b[0mloser\u001b[0m \u001b[0;34m=\u001b[0m \u001b[0minput\u001b[0m\u001b[0;34m(\u001b[0m\u001b[0;34m\"패배한 팀은 어디입니까 ? \"\u001b[0m\u001b[0;34m)\u001b[0m\u001b[0;34m\u001b[0m\u001b[0;34m\u001b[0m\u001b[0m\n",
            "\u001b[0;32m/usr/local/lib/python3.9/dist-packages/ipykernel/kernelbase.py\u001b[0m in \u001b[0;36mraw_input\u001b[0;34m(self, prompt)\u001b[0m\n\u001b[1;32m    849\u001b[0m                 \u001b[0;34m\"raw_input was called, but this frontend does not support input requests.\"\u001b[0m\u001b[0;34m\u001b[0m\u001b[0;34m\u001b[0m\u001b[0m\n\u001b[1;32m    850\u001b[0m             )\n\u001b[0;32m--> 851\u001b[0;31m         return self._input_request(str(prompt),\n\u001b[0m\u001b[1;32m    852\u001b[0m             \u001b[0mself\u001b[0m\u001b[0;34m.\u001b[0m\u001b[0m_parent_ident\u001b[0m\u001b[0;34m,\u001b[0m\u001b[0;34m\u001b[0m\u001b[0;34m\u001b[0m\u001b[0m\n\u001b[1;32m    853\u001b[0m             \u001b[0mself\u001b[0m\u001b[0;34m.\u001b[0m\u001b[0m_parent_header\u001b[0m\u001b[0;34m,\u001b[0m\u001b[0;34m\u001b[0m\u001b[0;34m\u001b[0m\u001b[0m\n",
            "\u001b[0;32m/usr/local/lib/python3.9/dist-packages/ipykernel/kernelbase.py\u001b[0m in \u001b[0;36m_input_request\u001b[0;34m(self, prompt, ident, parent, password)\u001b[0m\n\u001b[1;32m    893\u001b[0m             \u001b[0;32mexcept\u001b[0m \u001b[0mKeyboardInterrupt\u001b[0m\u001b[0;34m:\u001b[0m\u001b[0;34m\u001b[0m\u001b[0;34m\u001b[0m\u001b[0m\n\u001b[1;32m    894\u001b[0m                 \u001b[0;31m# re-raise KeyboardInterrupt, to truncate traceback\u001b[0m\u001b[0;34m\u001b[0m\u001b[0;34m\u001b[0m\u001b[0m\n\u001b[0;32m--> 895\u001b[0;31m                 \u001b[0;32mraise\u001b[0m \u001b[0mKeyboardInterrupt\u001b[0m\u001b[0;34m(\u001b[0m\u001b[0;34m\"Interrupted by user\"\u001b[0m\u001b[0;34m)\u001b[0m \u001b[0;32mfrom\u001b[0m \u001b[0;32mNone\u001b[0m\u001b[0;34m\u001b[0m\u001b[0;34m\u001b[0m\u001b[0m\n\u001b[0m\u001b[1;32m    896\u001b[0m             \u001b[0;32mexcept\u001b[0m \u001b[0mException\u001b[0m \u001b[0;32mas\u001b[0m \u001b[0me\u001b[0m\u001b[0;34m:\u001b[0m\u001b[0;34m\u001b[0m\u001b[0;34m\u001b[0m\u001b[0m\n\u001b[1;32m    897\u001b[0m                 \u001b[0mself\u001b[0m\u001b[0;34m.\u001b[0m\u001b[0mlog\u001b[0m\u001b[0;34m.\u001b[0m\u001b[0mwarning\u001b[0m\u001b[0;34m(\u001b[0m\u001b[0;34m\"Invalid Message:\"\u001b[0m\u001b[0;34m,\u001b[0m \u001b[0mexc_info\u001b[0m\u001b[0;34m=\u001b[0m\u001b[0;32mTrue\u001b[0m\u001b[0;34m)\u001b[0m\u001b[0;34m\u001b[0m\u001b[0;34m\u001b[0m\u001b[0m\n",
            "\u001b[0;31mKeyboardInterrupt\u001b[0m: Interrupted by user"
          ]
        }
      ]
    },
    {
      "cell_type": "code",
      "source": [
        "#LAB 2-6\n",
        "# 부동산 광고 만들기에 도전\n",
        "street = \"서울시 종로구\"\n",
        "st = \"아파트\"\n",
        "number_room = 4\n",
        "price = 5000\n",
        "\n",
        "print(\"=\" * 5)\n",
        "print(\" # 부동산 매물 광고 # \")\n",
        "print(\"=\" * 5)\n",
        "print(street, \"에 위치한 역세권\", st, \"가 매물로 나왔습니다. 이\",st,\" 는\", number_room, \" 개의 방을 가지고 있으며 가격은\", price, \" 입니다.\" )"
      ],
      "metadata": {
        "colab": {
          "base_uri": "https://localhost:8080/"
        },
        "id": "Ey9zNZDhjQ25",
        "outputId": "99fdc45a-147f-45b4-aafc-99e31908fe3c"
      },
      "execution_count": null,
      "outputs": [
        {
          "output_type": "stream",
          "name": "stdout",
          "text": [
            "=====\n",
            " # 부동산 매물 광고 # \n",
            "=====\n",
            "서울시 종로구 에 위치한 역세권 아파트 가 매물로 나왔습니다. 이 아파트  는 4  개의 방을 가지고 있으며 가격은 5000  입니다.\n"
          ]
        }
      ]
    },
    {
      "cell_type": "code",
      "source": [
        "# 심화문제 2-1\n",
        "print(200, \"+\", 300, \"+\", 400, \"=\", 200+300+400)\n",
        "print(\"=\" * 20)\n",
        "# 심화문제 2-2\n",
        "# 너비, 높이 변수\n",
        "width = 30\n",
        "height = 60\n",
        "print(width)\n",
        "print(height)\n",
        "print(\"=\" * 20)\n",
        "# 심화문제 2-3\n",
        "# 너비, 높이 변수\n",
        "width, height = 30, 60\n",
        "print(width)\n",
        "print(height)\n",
        "print(\"=\" * 20)\n",
        "# 심화문제 2-4\n",
        "# 삼각형의 면적을 구하는 프로그램\n",
        "width, height = 40, 20\n",
        "area = width*height*0.5\n",
        "print('삼각형의 면적:', area)\n",
        "print(\"=\" * 20)\n",
        "# 심화문제 2-5\n",
        "#정사각형의 면적을 구하기 위해 사용자로 부터 밑변의 길이를 정수로 입력받아 출력\n",
        "width = int(input(\"정사각형의 밑변을 입력하시오:\"))\n",
        "area = width*width\n",
        "print(\"정사각형의 면적:\", area)\n",
        "print(\"=\" * 20)\n",
        "# 심화문제 2-6\n",
        "# 함수와 + 연산을 9개 이용하여 1~10까지 합 출력\n",
        "print(\"1에서 10까지의 합:\", 1+2+3+4+5+6+7+8+9+10)\n",
        "print(\"=\" * 20)\n",
        "# 심화문제 2-7\n",
        "# 함수와 * 연산을 9개 이용하여 10!을 출력\n",
        "print(\"10!=\", 1*2*3*4*5*6*7*8*9*10)\n",
        "print(\"=\" * 20)\n",
        "# 심화문제 2-8\n",
        "# 섭씨온도를 화씨온도로 변환하는 식은\n",
        "# fahrenheit = (9/5) * celsius + 32 이다.\n",
        "# 0도에서 50도까지 10씩 증가시키면서 화씨온도를 출력\n",
        "for C in range(0, 51, 10):\n",
        "  F=(9/5)*C+32\n",
        "  print(C, \" \", round(F, 2))\n",
        "print(\"=\" * 20)\n",
        "# 심화문제 2-9\n",
        "# 섭씨온도를 화씨온도로 변환하는 식을 바탕으로 사용자로부터 섭씨온도를 입력받아 화씨온도로 출력\n",
        "celsius = int(input (\"섭씨온도를 입력하세요: \"))\n",
        "fahrenheit = (9/5)*celsius+32\n",
        "print(\"섭씨\", celsius, \"도는 화씨\", fahrenheit, \"도입니다.\")\n",
        "print(\"=\" * 20)\n",
        "# 심화문제 2-10\n",
        "# 사용자로부터 반지름 값을 입력받아, 반지름을 가진 원의 둘레와 면적을 출력하라\n",
        "# Pl=3.141592라는 변수 사용\n",
        "PI = 3.141592\n",
        "radius = int(input(\"원의 반지름을 입력하세요:\"))\n",
        "circum = 2*radius*PI\n",
        "area = radius**2*PI\n",
        "print(\"원의 둘레=\", circum, \"원의 면적=\", area)\n",
        "print(\"=\" * 20)\n",
        "# 심화문제 2-11\n",
        "# 다음 내용 출력\n",
        "print(\"It's really hot!\")\n",
        "print('I said \"Hello!\" to him.')\n",
        "print(\"He said \\\"What's there?\\\"\")\n",
        "print(\"Newline character is \\\\n, Tab character is \\\\t.\")\n",
        "print(\"Working directory is C;\\\\workspace\\\\mywork.\")"
      ],
      "metadata": {
        "colab": {
          "base_uri": "https://localhost:8080/"
        },
        "id": "_B9Yws_sl2I3",
        "outputId": "c1b61cf0-745f-4590-9a2d-ab794d383ce1"
      },
      "execution_count": 22,
      "outputs": [
        {
          "output_type": "stream",
          "name": "stdout",
          "text": [
            "200 + 300 + 400 = 900\n",
            "30\n",
            "60\n",
            "====================\n",
            "30\n",
            "60\n",
            "====================\n",
            "삼각형의 면적: 400.0\n",
            "====================\n",
            "정사각형의 밑변을 입력하시오:1\n",
            "정사각형의 면적: 1\n",
            "====================\n",
            "1에서 10까지의 합: 55\n",
            "====================\n",
            "10!= 3628800\n",
            "====================\n",
            "0   32.0\n",
            "10   50.0\n",
            "20   68.0\n",
            "30   86.0\n",
            "40   104.0\n",
            "50   122.0\n",
            "====================\n",
            "섭씨온도를 입력하세요: 1\n",
            "섭씨 1 도는 화씨 33.8 도입니다.\n",
            "====================\n",
            "원의 반지름을 입력하세요:1\n",
            "원의 둘레= 6.283184 원의 면적= 3.141592\n",
            "====================\n",
            "It's really hot!\n",
            "I said \"Hello!\" to him.\n",
            "He said \"What's there?\"\n",
            "Newline character is \\n, Tab character is \\t.\n",
            "Working directory is C;\\workspace\\mywork.\n"
          ]
        }
      ]
    },
    {
      "cell_type": "markdown",
      "source": [
        "3장\n"
      ],
      "metadata": {
        "id": "5KpzFijyuQJF"
      }
    },
    {
      "cell_type": "markdown",
      "source": [
        "연산자 기호 덧셈 + 뻴셈 - 곱셈 * 제곱 ** 나눗셈(정수 몫) // 나눗셈(실수) / 나머지 %"
      ],
      "metadata": {
        "id": "5S_m_hD_2tHU"
      }
    },
    {
      "cell_type": "markdown",
      "source": [
        "x and y 모두 참일 경우에 참. 하나라도 거짓이면 거짓,\n",
        "x or y 하나라도 참이면 참, 둘다 거짓이면 거짓,\n",
        "not x x가 참이면 거짓, x가 거짓이면 참"
      ],
      "metadata": {
        "id": "3aTuQH0E25xw"
      }
    },
    {
      "cell_type": "code",
      "source": [
        "#LAB 3-2\n",
        "# 화씨온도를 섭씨온도로 변환\n",
        "# 식은 C = (F - 32) * 5 / 9\n",
        "fahrenheit = int(input(\"화씨온도 : \"))\n",
        "celsius = (fahrenheit - 32) * 5 / 9\n",
        "print(\"섭씨 온도: \", celsius)\n",
        "print(\"=\" * 20)\n",
        "#LAB 3-2\n",
        "# 몸무게와 키를 입력받아 BMI 계산\n",
        "# BMI = w / h2\n",
        "weight = float(input(\"몸무게를 kg 단위로 입력하시오 : \"))\n",
        "height = float(input(\"몸무게를 미터 단위로 입력하시오 : \"))\n",
        "bmi = (weight / (height ** 2))\n",
        "print(\"당신의 BMI=\", bmi)\n",
        "print(\"=\" * 20)\n",
        "#LAB 3-3\n",
        "# 자동 판매기 프로그램\n",
        "money = int(input(\"투입한 돈: \"))\n",
        "price = int(input(\"물건값: \"))\n",
        "change = money - price\n",
        "print(\"거스름돈 : \", change)\n",
        "coin500s = change // 500\n",
        "change = change % 500\n",
        "coin100s = change // 100\n",
        "print(\"500원 동전의 개수 : \", coin500s)\n",
        "print(\"100원 동전의 개수 : \", coin100s)\n",
        "print(\"=\" * 20)\n",
        "#LAB 3-5\n",
        "# 평균값 구하기 - 연산자 우선순위\n",
        "x = int(input(\"첫 번째 수를 입력하시오: \"))\n",
        "y = int(input(\"두 번째 수를 입력하시오: \"))\n",
        "z = int(input(\"세 번째 수를 입력하시오: \"))\n",
        "avg = (x + y + z) / 3 \n",
        "print(\"평균 = \", avg)\n",
        "print(\"=\" * 20)"
      ],
      "metadata": {
        "colab": {
          "base_uri": "https://localhost:8080/"
        },
        "id": "Cs7BQKGWuRPc",
        "outputId": "1f15093e-ebbf-4eed-e990-c228f7fec410"
      },
      "execution_count": 27,
      "outputs": [
        {
          "output_type": "stream",
          "name": "stdout",
          "text": [
            "화씨온도 : 1\n",
            "섭씨 온도:  -17.22222222222222\n",
            "====================\n",
            "몸무게를 kg 단위로 입력하시오 : 1\n",
            "몸무게를 미터 단위로 입력하시오 : 1\n",
            "당신의 BMI= 1.0\n",
            "====================\n",
            "투입한 돈: 1\n",
            "물건값: 1\n",
            "거스름돈 :  0\n",
            "500원 동전의 개수 :  0\n",
            "100원 동전의 개수 :  0\n",
            "====================\n",
            "첫 번째 수를 입력하시오: 1\n",
            "두 번째 수를 입력하시오: 2\n",
            "세 번째 수를 입력하시오: 3\n",
            "평균 =  2.0\n",
            "====================\n"
          ]
        }
      ]
    },
    {
      "cell_type": "code",
      "source": [
        "# 심화문제 3-1\n",
        "# 2~6 까지 제곱 값을 표로 출력하는 프로그램\n",
        "input_number = int(input(\"제곱을 구할 값을 입력하세요 : \"))\n",
        "print(input_number, \"의 제곱 = \", input_number**2)\n",
        "print(\"=\" * 20)\n",
        "# 심화문제 3-2\n",
        "# 거듭제곱 연산자(**)를 이용하여, 1~10의 제곱근 출력 \n",
        "input_number = int(input(\"제곱근을 구할 값을 입력하세요 : \"))\n",
        "print(input_number, \"의 제곱근 = \", input_number**0.5)\n",
        "print(\"=\" * 20)\n",
        "# 심화문제 3-6 (수업시간에 문제풀음)\n",
        "# 2개의 정수를 입력받은 다음 a를 b로 나눈 몫을 출력\n",
        "a = int(input('정수 a를 입력하시오 : '))\n",
        "b = int(input('정수 b를 입력하시오 : '))\n",
        "print('a / b의 몫 : ', a // b)\n",
        "print('a / b의 나머지 : ', a % b)\n",
        "print(\"=\" * 20)\n",
        "# 심화문제 3-7 (수업시간에 문제풀음)\n",
        "# 3자리 정수를 입력받아서 100, 10, 1의 자리 출력\n",
        "number = int(input('세 자리 정수 입력'))\n",
        "print(number // 100)\n",
        "print((number%100) // 10)\n",
        "print(number // 100)\n",
        "print(\"=\" * 20)\n",
        "# 심화문제 3-8\n",
        "# 3자리 정수를 입력받아서 100, 10, 1의 자리 역순으로 출력\n",
        "number = int(input('세 자리 정수 입력'))\n",
        "print(number % 10)\n",
        "print((number%100) // 10)\n",
        "print(number // 100)\n",
        "number = int(input('세 자리 정수 입력'))\n",
        "print(number % 10,((number%100) // 10), (number // 100))\n",
        "print(\"=\" * 20)\n",
        "# 심화문제 3-9\n",
        "# 이동 거리 구하기: 평균 시속과 이동시간을 입력 받아 시간, 분, 초 단위로 출력 및 이동거리 계산\n",
        "s = float(input('평균 시속(km/h)을 입력하세요 : '))\n",
        "h = float(input('이동시간(h)을 입력하세요 : '))\n",
        "sec = h*60*60\n",
        "print('평균 시속 : ', s, 'km/h')\n",
        "print('이동 시간 : ', int(h//1), '시간', int((h%1)*60), '분', int(sec%60), '초')\n",
        "print('이동 거리 : ', s*h, 'km')\n",
        "print(\"=\" * 20)\n",
        "# 심화문제 3-10\n",
        "# 두 점의 좌표를 입력받아 두 점사이의 거리를 출력\n",
        "x1 = int(input('x1 좌표를 입력하시오'))\n",
        "y1 = int(input('y1 좌표를 입력하시오'))\n",
        "x2 = int(input('x2 좌표를 입력하시오'))\n",
        "y2 = int(input('y2 좌표를 입력하시오'))\n",
        "street = (((x1 - x2)**2) + ((y1 - y2)**2))**0.5\n",
        "print(\" 두 점의 거리 = \", street)\n",
        "print(\"=\" * 20)\n",
        "# 심화문제 3-11 (수업시간에 문제풀음)\n",
        "# 두 점의 좌표를 입력받아 직각삼각형의 면적을 구하는 프로그램\n",
        "x1 = int(input('x1 좌표를 입력하시오'))\n",
        "y1 = int(input('y1 좌표를 입력하시오'))\n",
        "x2 = int(input('x2 좌표를 입력하시오'))\n",
        "y2 = int(input('y2 좌표를 입력하시오'))\n",
        "street = ((x2 - x1) * (y2 - y1))/2\n",
        "print(\" 직각삼각형의 면적은 = \", street)\n",
        "print(\"=\" * 20)"
      ],
      "metadata": {
        "colab": {
          "base_uri": "https://localhost:8080/",
          "height": 676
        },
        "id": "qRvzpn7I4DnL",
        "outputId": "9a6d84ac-b4a3-4ada-8b39-70caf5eb274e"
      },
      "execution_count": 28,
      "outputs": [
        {
          "output_type": "stream",
          "name": "stdout",
          "text": [
            "제곱을 구할 값을 입력하세요 : 1\n",
            "1 의 제곱 =  1\n",
            "====================\n",
            "제곱근을 구할 값을 입력하세요 : 1\n",
            "1 의 제곱근 =  1.0\n",
            "====================\n",
            "정수 a를 입력하시오 : 1\n",
            "정수 b를 입력하시오 : 2\n",
            "a / b의 몫 :  0\n",
            "a / b의 나머지 :  1\n",
            "====================\n",
            "세 자리 정수 입력123\n",
            "1\n",
            "2\n",
            "====================\n"
          ]
        },
        {
          "output_type": "error",
          "ename": "KeyboardInterrupt",
          "evalue": "ignored",
          "traceback": [
            "\u001b[0;31m---------------------------------------------------------------------------\u001b[0m",
            "\u001b[0;31mKeyboardInterrupt\u001b[0m                         Traceback (most recent call last)",
            "\u001b[0;32m<ipython-input-28-777041e89c3e>\u001b[0m in \u001b[0;36m<cell line: 25>\u001b[0;34m()\u001b[0m\n\u001b[1;32m     23\u001b[0m \u001b[0mprint\u001b[0m\u001b[0;34m(\u001b[0m\u001b[0;34m\"=\"\u001b[0m \u001b[0;34m*\u001b[0m \u001b[0;36m20\u001b[0m\u001b[0;34m)\u001b[0m\u001b[0;34m\u001b[0m\u001b[0;34m\u001b[0m\u001b[0m\n\u001b[1;32m     24\u001b[0m \u001b[0;31m# 심화문제 3-8\u001b[0m\u001b[0;34m\u001b[0m\u001b[0;34m\u001b[0m\u001b[0m\n\u001b[0;32m---> 25\u001b[0;31m \u001b[0mnumber\u001b[0m \u001b[0;34m=\u001b[0m \u001b[0mint\u001b[0m\u001b[0;34m(\u001b[0m\u001b[0minput\u001b[0m\u001b[0;34m(\u001b[0m\u001b[0;34m'세 자리 정수 입력'\u001b[0m\u001b[0;34m)\u001b[0m\u001b[0;34m)\u001b[0m\u001b[0;34m\u001b[0m\u001b[0;34m\u001b[0m\u001b[0m\n\u001b[0m\u001b[1;32m     26\u001b[0m \u001b[0mprint\u001b[0m\u001b[0;34m(\u001b[0m\u001b[0mnumber\u001b[0m \u001b[0;34m%\u001b[0m \u001b[0;36m10\u001b[0m\u001b[0;34m)\u001b[0m\u001b[0;34m\u001b[0m\u001b[0;34m\u001b[0m\u001b[0m\n\u001b[1;32m     27\u001b[0m \u001b[0mprint\u001b[0m\u001b[0;34m(\u001b[0m\u001b[0;34m(\u001b[0m\u001b[0mnumber\u001b[0m\u001b[0;34m%\u001b[0m\u001b[0;36m100\u001b[0m\u001b[0;34m)\u001b[0m \u001b[0;34m//\u001b[0m \u001b[0;36m10\u001b[0m\u001b[0;34m)\u001b[0m\u001b[0;34m\u001b[0m\u001b[0;34m\u001b[0m\u001b[0m\n",
            "\u001b[0;32m/usr/local/lib/python3.9/dist-packages/ipykernel/kernelbase.py\u001b[0m in \u001b[0;36mraw_input\u001b[0;34m(self, prompt)\u001b[0m\n\u001b[1;32m    849\u001b[0m                 \u001b[0;34m\"raw_input was called, but this frontend does not support input requests.\"\u001b[0m\u001b[0;34m\u001b[0m\u001b[0;34m\u001b[0m\u001b[0m\n\u001b[1;32m    850\u001b[0m             )\n\u001b[0;32m--> 851\u001b[0;31m         return self._input_request(str(prompt),\n\u001b[0m\u001b[1;32m    852\u001b[0m             \u001b[0mself\u001b[0m\u001b[0;34m.\u001b[0m\u001b[0m_parent_ident\u001b[0m\u001b[0;34m,\u001b[0m\u001b[0;34m\u001b[0m\u001b[0;34m\u001b[0m\u001b[0m\n\u001b[1;32m    853\u001b[0m             \u001b[0mself\u001b[0m\u001b[0;34m.\u001b[0m\u001b[0m_parent_header\u001b[0m\u001b[0;34m,\u001b[0m\u001b[0;34m\u001b[0m\u001b[0;34m\u001b[0m\u001b[0m\n",
            "\u001b[0;32m/usr/local/lib/python3.9/dist-packages/ipykernel/kernelbase.py\u001b[0m in \u001b[0;36m_input_request\u001b[0;34m(self, prompt, ident, parent, password)\u001b[0m\n\u001b[1;32m    893\u001b[0m             \u001b[0;32mexcept\u001b[0m \u001b[0mKeyboardInterrupt\u001b[0m\u001b[0;34m:\u001b[0m\u001b[0;34m\u001b[0m\u001b[0;34m\u001b[0m\u001b[0m\n\u001b[1;32m    894\u001b[0m                 \u001b[0;31m# re-raise KeyboardInterrupt, to truncate traceback\u001b[0m\u001b[0;34m\u001b[0m\u001b[0;34m\u001b[0m\u001b[0m\n\u001b[0;32m--> 895\u001b[0;31m                 \u001b[0;32mraise\u001b[0m \u001b[0mKeyboardInterrupt\u001b[0m\u001b[0;34m(\u001b[0m\u001b[0;34m\"Interrupted by user\"\u001b[0m\u001b[0;34m)\u001b[0m \u001b[0;32mfrom\u001b[0m \u001b[0;32mNone\u001b[0m\u001b[0;34m\u001b[0m\u001b[0;34m\u001b[0m\u001b[0m\n\u001b[0m\u001b[1;32m    896\u001b[0m             \u001b[0;32mexcept\u001b[0m \u001b[0mException\u001b[0m \u001b[0;32mas\u001b[0m \u001b[0me\u001b[0m\u001b[0;34m:\u001b[0m\u001b[0;34m\u001b[0m\u001b[0;34m\u001b[0m\u001b[0m\n\u001b[1;32m    897\u001b[0m                 \u001b[0mself\u001b[0m\u001b[0;34m.\u001b[0m\u001b[0mlog\u001b[0m\u001b[0;34m.\u001b[0m\u001b[0mwarning\u001b[0m\u001b[0;34m(\u001b[0m\u001b[0;34m\"Invalid Message:\"\u001b[0m\u001b[0;34m,\u001b[0m \u001b[0mexc_info\u001b[0m\u001b[0;34m=\u001b[0m\u001b[0;32mTrue\u001b[0m\u001b[0;34m)\u001b[0m\u001b[0;34m\u001b[0m\u001b[0;34m\u001b[0m\u001b[0m\n",
            "\u001b[0;31mKeyboardInterrupt\u001b[0m: Interrupted by user"
          ]
        }
      ]
    },
    {
      "cell_type": "markdown",
      "source": [
        "4장"
      ],
      "metadata": {
        "id": "Oz6wKvvd6HPy"
      }
    },
    {
      "cell_type": "code",
      "source": [
        "#LAB 4-2\n",
        "# 영화를 볼 수 있는 나이 제한 검사를 하자\n",
        "age = int(input(\"나이를 입력하세요. : \"))\n",
        "if age >= 15:\n",
        "    print(\"본 영화를 관람할 수 있습니다.\")\n",
        "else :\n",
        "    print(\"본 영화는 관람할 수 없습니다.\") \n",
        "print(\"=\" * 20)\n",
        "#LAB 4-4\n",
        "# 윤연 판단을 어떻게 하지\n",
        "year = int(input(\"년도를 입력하세요: \"))\n",
        "if(year % 4 == 0 and year % 100 != 0) or year % 400 == 0:\n",
        "    print(year, \"년은 윤년입니다.\")\n",
        "else:\n",
        "    print(year, \"년은 윤년이 아닙니다.\")    \n",
        "print(\"=\" * 20)\n",
        "#LAB 4-5\n",
        "# 랜덤 함수로 동전 던지기 게임을 만들자\n",
        "import random\n",
        "print(\"동전 던지기 게임을 시작\")\n",
        "coin = random.randrange(2)\n",
        "if coin == 0:\n",
        "    print(\"앞면\")\n",
        "else : \n",
        "    print(\"뒷면\")\n",
        "print(\"게임 종료\")            \n",
        "print(\"=\" * 20)\n",
        "#LAB 4-7\n",
        "# 로그인 처리\n",
        "import random\n",
        "id = \"admin\"\n",
        "info = input(\"아이디를 입력: \")\n",
        "if info == id:\n",
        "    print(\"로그인 성공\")\n",
        "else:\n",
        "    print(\"아이디 없음\")             \n",
        "print(\"=\" * 20)\n",
        "#LAB 4-8\n",
        "# 승부차기 게임\n",
        "import random\n",
        "n = random.randint(1, 3) # 1, 2, 3 하나의 난수 생성\n",
        "if n == 1:\n",
        "    computer_choice = '왼쪽'\n",
        "elif n == 2:\n",
        "    computer_choice = '중앙'\n",
        "else :\n",
        "    computer_choice = '오른쪽'\n",
        "\n",
        "user_choice = input(\"공격할 위치를 정해주세요.(왼쪽, 중앙, 오른쪽) : \")\n",
        "if computer_choice == user_choice:\n",
        "    print(\"공격에 실패했습니다.\")\n",
        "else :\n",
        "        print(\"축하합니다! 공격에 성공!\")\n",
        "print(\"컴퓨터의 수비 위치 : \", computer_choice)              \n",
        "print(\"=\" * 20)"
      ],
      "metadata": {
        "colab": {
          "base_uri": "https://localhost:8080/"
        },
        "id": "162MLT9Q60Ef",
        "outputId": "ba3d31a7-b9e8-4bb7-94b2-75523a9cb91b"
      },
      "execution_count": 30,
      "outputs": [
        {
          "output_type": "stream",
          "name": "stdout",
          "text": [
            "나이를 입력하세요. : 20\n",
            "본 영화를 관람할 수 있습니다.\n",
            "====================\n",
            "년도를 입력하세요: 1\n",
            "1 년은 윤년이 아닙니다.\n",
            "====================\n",
            "동전 던지기 게임을 시작\n",
            "뒷면\n",
            "게임 종료\n",
            "====================\n",
            "아이디를 입력: admin\n",
            "로그인 성공\n",
            "====================\n"
          ]
        }
      ]
    },
    {
      "cell_type": "code",
      "source": [
        "# 심화문제 4-1\n",
        "# a ~ z 까지 하나를 입력받아 a, e, i, o, u일 경우 모음입니다 출력, 그외엔 자음입니다 출력\n",
        "x = ['a','b','c', 'd','e','f','g','h','i','j','k','l','m','n','o','p','q','r','s','t','v','w','x','y','z']\n",
        "x = str(input('알파벳을 입력하시오 : '))\n",
        "if x == 'a' or x=='e' or x=='i' or x=='o' or x=='u':\n",
        "  print(x, '(은)는 모음입니다.')\n",
        "else :\n",
        "  print(x, '(은)는 자음입니다.')\n",
        "print(\"=\" * 20)\n",
        "# 심화문제 4-2\n",
        "# 임의의 정수3개를 입력 받아 큰 수부터 작은 수까지 나열\n",
        "# (if문만 사용해서 구함)\n",
        "a, b, c = map(int, input('세 정수를 입력하시오 : ').split())\n",
        "if b > a and b > c:\n",
        "  a,b = b,a\n",
        "if c > a and c > b:\n",
        "  a,c = c,a\n",
        "if c > b:\n",
        "  b,c = c,b\n",
        "print(a, b, c)\n",
        "print(\"=\" * 20)\n",
        "# 심화문제 4-3\n",
        "# 20살 이상이면 Adult, 10 이상 20 미만이면 Youth, 10미만이면 Kid 출력\n",
        "age = int(input('나이를 입력하시오: '))\n",
        "if age >= 20:\n",
        "  print('Adult')\n",
        "elif age >= 10 and age < 10:\n",
        "  print('Youth')\n",
        "else:\n",
        "  print('Kid')\n",
        "print(\"=\" * 20)\n",
        "# 심화문제 4-4\n",
        "# 하나의 정수를 입력받아, 2로 나누어지는지, 3으로 나누어지는지,혹은 두 정수 모두로도 나누어지는 프로그램\n",
        "print(\"v1\")\n",
        "num = int(input(\"정수를 입력하시오 : \"))\n",
        "if num % 2 == 0 :\n",
        "  print(num, '는(은) 2로 나누어 집니다.')\n",
        "else :\n",
        "  print(num, '는(은) 2로 나누어지지 않습니다.')\n",
        "\n",
        "if num % 3 == 0 :\n",
        "  print(num, '는(은) 3으로 나누어 집니다.')\n",
        "else :\n",
        "  print(num, '는(은) 3으로 나누어지지 않습니다.')\n",
        "\n",
        "if num % 2 == 0 and num % 3 == 0:\n",
        "  print(num, '2와(과) 3 모두로 나누어 집니다.')\n",
        "else :\n",
        "  print(num, '2와(과) 3 모두로 나누어지지 않습니다.')\n",
        "print(\"=\" * 20)\n",
        "print(\"v2\")\n",
        "num = int(input(\"정수를 입력하시오 : \"))\n",
        "if num % 2 == 0 :\n",
        "  print(str(num) + '는(은) 2로 나누어 집니다.')\n",
        "else :\n",
        "  print(str(num) + '는(은) 2로 나누어지지 않습니다.')\n",
        "\n",
        "if num % 3 == 0 :\n",
        "  print(str(num) + '는(은) 3으로 나누어 집니다.')\n",
        "else :\n",
        "  print(str(num) + '는(은) 3으로 나누어지지 않습니다.')\n",
        "\n",
        "if num % 2 == 0 and num % 3 == 0:\n",
        "  print(str(num) + '2와(과) 3 모두로 나누어 집니다.')\n",
        "else :\n",
        "  print(str(num) + '2와(과) 3 모두로 나누어지지 않습니다.')\n",
        "print(\"=\" * 20)  \n",
        "# 심화문제 4-5\n",
        "# 0~9사이 복권번호 3개 생성 3개 1억, 2개 1천, 1개 1만원 출력\n",
        "import random\n",
        "me = map(int, input('세 복권번호를 입력하시오 : ').split())\n",
        "\n",
        "alist=[]\n",
        "for i in range(3):\n",
        "  lotto = random.randint(0, 9)\n",
        "  print(\"당첨번호는\", lotto, \"입니다.\")\n",
        "while lotto in alist :\n",
        "  lotto = random.randint(1,9)\n",
        "\n",
        "if (lotto == me):\n",
        "  print(\"상금은 1억원입니다.\")\n",
        "else:\n",
        "   print(\"다음 기회에...\")\n",
        "print(\"=\" * 20)\n",
        "# 심화문제 4-6\n",
        "# b, c, p 중 하나를 선택 및 매뉴에 없는 경우 메뉴가 없음 출력\n",
        "print('우리식당에 오신것을 환영합니다. 메뉴는 다음과 같습니다.')\n",
        "print('b)햄버거 c)치킨 p)피자')\n",
        "order = str(input('b, c, p 메뉴 선택'))\n",
        "while order != 'b' and order != 'c' and order != 'p':\n",
        "\torder = input('메뉴를 선택하세요.: ')\n",
        "if order == 'b':\n",
        "  print('햄버거를 선택하였습니다.')\n",
        "if order == 'c':\n",
        "  print('치킨을 선택하였습니다.')\n",
        "if order == 'p':\n",
        "  print('피자를 선택하였습니다.')\n",
        "else:\n",
        "  print(\"선택한 메뉴가 없습니다.\")\n",
        "print(\"=\" * 20)\n",
        "# 심화문제 4-7\n",
        "# 1~100 사이의 임의의 난수 2개 생성. 사용자가 두 수의 합을 맞추면 잘했어요 출력\n",
        "import random\n",
        "x = random.randint(1, 100)\n",
        "y = random.randint(1, 100)\n",
        "s = str(x)+'+'+str(y)+'='\n",
        "num = int(input(s))\n",
        "if num == x+y:\n",
        "\tprint(\"잘했어요!!\")\n",
        "else:\n",
        "\tprint(\"정답은\", x+y, '입니다.')\n",
        "print(\"=\" * 20)\n",
        "# 심화문제 4-8\n",
        "# +, -, *, / 계산 프로그램\n",
        "print('1)덧셈 2)뺄셈 3)곱셈 4)나눗셈')\n",
        "s = int(input('어떤 연산을 원하는지 번호를 입력하세요: '))\n",
        "x, y = map(int, input('연산을 원하는 숫자 두 개를 입력하세요. \\n').split())\n",
        "if s == 1:\n",
        "\tprint(x, '+', y, '=', x+y)\n",
        "elif s == 2:\n",
        "\tprint(x, '-', y, '=', x-y)\n",
        "elif s == 3:\n",
        "\tprint(x, '*', y, '=', x*y)\n",
        "elif s == 4:\n",
        "\tprint(x, '/', y, '=', x/y)\n",
        "else:\n",
        "\tprint('잘못 입력하였습니다.')"
      ],
      "metadata": {
        "colab": {
          "base_uri": "https://localhost:8080/",
          "height": 982
        },
        "id": "8yhHeLbI_iky",
        "outputId": "2f283772-59d9-4201-ec8f-9c1dec8ef786"
      },
      "execution_count": 38,
      "outputs": [
        {
          "name": "stdout",
          "output_type": "stream",
          "text": [
            "알파벳을 입력하시오 : a\n",
            "a (은)는 모음입니다.\n",
            "====================\n",
            "세 정수를 입력하시오 : 3 2 1\n",
            "3 2 1\n",
            "====================\n",
            "나이를 입력하시오: 20\n",
            "Adult\n",
            "====================\n",
            "v1\n",
            "정수를 입력하시오 : 2\n",
            "2 는(은) 2로 나누어 집니다.\n",
            "2 는(은) 3으로 나누어지지 않습니다.\n",
            "2 2와(과) 3 모두로 나누어지지 않습니다.\n",
            "====================\n",
            "v2\n",
            "정수를 입력하시오 : 10\n",
            "10는(은) 2로 나누어 집니다.\n",
            "10는(은) 3으로 나누어지지 않습니다.\n",
            "102와(과) 3 모두로 나누어지지 않습니다.\n",
            "====================\n",
            "세 복권번호를 입력하시오 : 5\n",
            "당첨번호는 6 입니다.\n",
            "당첨번호는 8 입니다.\n",
            "당첨번호는 9 입니다.\n",
            "다음 기회에...\n",
            "====================\n",
            "우리식당에 오신것을 환영합니다. 메뉴는 다음과 같습니다.\n",
            "b)햄버거 c)치킨 p)피자\n",
            "b, c, p 메뉴 선택c\n",
            "치킨을 선택하였습니다.\n",
            "선택한 메뉴가 없습니다.\n",
            "====================\n",
            "34+43=12\n",
            "정답은 77 입니다.\n",
            "====================\n",
            "1)덧셈 2)뺄셈 3)곱셈 4)나눗셈\n",
            "어떤 연산을 원하는지 번호를 입력하세요: 1\n",
            "연산을 원하는 숫자 두 개를 입력하세요. \n",
            "12\n"
          ]
        },
        {
          "output_type": "error",
          "ename": "ValueError",
          "evalue": "ignored",
          "traceback": [
            "\u001b[0;31m---------------------------------------------------------------------------\u001b[0m",
            "\u001b[0;31mValueError\u001b[0m                                Traceback (most recent call last)",
            "\u001b[0;32m<ipython-input-38-fa2ea23b8fbb>\u001b[0m in \u001b[0;36m<cell line: 117>\u001b[0;34m()\u001b[0m\n\u001b[1;32m    115\u001b[0m \u001b[0mprint\u001b[0m\u001b[0;34m(\u001b[0m\u001b[0;34m'1)덧셈 2)뺄셈 3)곱셈 4)나눗셈'\u001b[0m\u001b[0;34m)\u001b[0m\u001b[0;34m\u001b[0m\u001b[0;34m\u001b[0m\u001b[0m\n\u001b[1;32m    116\u001b[0m \u001b[0ms\u001b[0m \u001b[0;34m=\u001b[0m \u001b[0mint\u001b[0m\u001b[0;34m(\u001b[0m\u001b[0minput\u001b[0m\u001b[0;34m(\u001b[0m\u001b[0;34m'어떤 연산을 원하는지 번호를 입력하세요: '\u001b[0m\u001b[0;34m)\u001b[0m\u001b[0;34m)\u001b[0m\u001b[0;34m\u001b[0m\u001b[0;34m\u001b[0m\u001b[0m\n\u001b[0;32m--> 117\u001b[0;31m \u001b[0mx\u001b[0m\u001b[0;34m,\u001b[0m \u001b[0my\u001b[0m \u001b[0;34m=\u001b[0m \u001b[0mmap\u001b[0m\u001b[0;34m(\u001b[0m\u001b[0mint\u001b[0m\u001b[0;34m,\u001b[0m \u001b[0minput\u001b[0m\u001b[0;34m(\u001b[0m\u001b[0;34m'연산을 원하는 숫자 두 개를 입력하세요. \\n'\u001b[0m\u001b[0;34m)\u001b[0m\u001b[0;34m.\u001b[0m\u001b[0msplit\u001b[0m\u001b[0;34m(\u001b[0m\u001b[0;34m)\u001b[0m\u001b[0;34m)\u001b[0m\u001b[0;34m\u001b[0m\u001b[0;34m\u001b[0m\u001b[0m\n\u001b[0m\u001b[1;32m    118\u001b[0m \u001b[0;32mif\u001b[0m \u001b[0ms\u001b[0m \u001b[0;34m==\u001b[0m \u001b[0;36m1\u001b[0m\u001b[0;34m:\u001b[0m\u001b[0;34m\u001b[0m\u001b[0;34m\u001b[0m\u001b[0m\n\u001b[1;32m    119\u001b[0m         \u001b[0mprint\u001b[0m\u001b[0;34m(\u001b[0m\u001b[0mx\u001b[0m\u001b[0;34m,\u001b[0m \u001b[0;34m'+'\u001b[0m\u001b[0;34m,\u001b[0m \u001b[0my\u001b[0m\u001b[0;34m,\u001b[0m \u001b[0;34m'='\u001b[0m\u001b[0;34m,\u001b[0m \u001b[0mx\u001b[0m\u001b[0;34m+\u001b[0m\u001b[0my\u001b[0m\u001b[0;34m)\u001b[0m\u001b[0;34m\u001b[0m\u001b[0;34m\u001b[0m\u001b[0m\n",
            "\u001b[0;31mValueError\u001b[0m: not enough values to unpack (expected 2, got 1)"
          ]
        }
      ]
    }
  ]
}
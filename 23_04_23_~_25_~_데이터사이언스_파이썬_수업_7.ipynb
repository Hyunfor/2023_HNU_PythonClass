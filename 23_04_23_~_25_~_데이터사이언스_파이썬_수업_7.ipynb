{
  "nbformat": 4,
  "nbformat_minor": 0,
  "metadata": {
    "colab": {
      "provenance": [],
      "authorship_tag": "ABX9TyPAGQLM22CxGPJPKH6iPv8Y",
      "include_colab_link": true
    },
    "kernelspec": {
      "name": "python3",
      "display_name": "Python 3"
    },
    "language_info": {
      "name": "python"
    }
  },
  "cells": [
    {
      "cell_type": "markdown",
      "metadata": {
        "id": "view-in-github",
        "colab_type": "text"
      },
      "source": [
        "<a href=\"https://colab.research.google.com/github/Hyunfor/2023_HNU_PythonClass/blob/master/23_04_23_~_25_~_%EB%8D%B0%EC%9D%B4%ED%84%B0%EC%82%AC%EC%9D%B4%EC%96%B8%EC%8A%A4_%ED%8C%8C%EC%9D%B4%EC%8D%AC_%EC%88%98%EC%97%85_7.ipynb\" target=\"_parent\"><img src=\"https://colab.research.google.com/assets/colab-badge.svg\" alt=\"Open In Colab\"/></a>"
      ]
    },
    {
      "cell_type": "code",
      "source": [
        "# LAB 7-1\n",
        "fruits = []\n",
        "\n",
        "name = input(\"좋아하는 과일을 입력하세요 : \")\n",
        "fruits.append(name)\n",
        "name = input(\"좋아하는 과일을 입력하세요 : \")\n",
        "fruits.append(name)\n",
        "name = input(\"좋아하는 과일을 입력하세요 : \")\n",
        "fruits.append(name)\n",
        "\n",
        "name = input(\"과일의 이름을 입력하세요 : \")\n",
        "if name in fruits:\n",
        "    print(\"이 과일은 당신이 좋아하는 과일입니다.\")\n",
        "else:\n",
        "    print(\"이 과일은 당신이 좋아하는 과일이 아닙니다.\")    "
      ],
      "metadata": {
        "id": "KQBBed2-MFTq",
        "colab": {
          "base_uri": "https://localhost:8080/"
        },
        "outputId": "e5dadeff-f5f6-4683-c2cd-c1ae3ce91655"
      },
      "execution_count": 1,
      "outputs": [
        {
          "output_type": "stream",
          "name": "stdout",
          "text": [
            "좋아하는 과일을 입력하세요 : 수박\n",
            "좋아하는 과일을 입력하세요 : 딸기\n",
            "좋아하는 과일을 입력하세요 : 바나나\n",
            "과일의 이름을 입력하세요 : 두리안\n",
            "이 과일은 당신이 좋아하는 과일이 아닙니다.\n"
          ]
        }
      ]
    },
    {
      "cell_type": "code",
      "source": [
        "# LAB 7-2\n",
        "# 인구 통계(단위 : 천명)\n",
        "Seoul = 9765\n",
        "Busan = 3441\n",
        "Incheon = 2954\n",
        "city_pop = [Seoul, Busan, Incheon]\n",
        "print(city_pop)\n",
        "\n",
        "#최대 인구, 최소 인구, 평균 인구 결과 도출하기\n",
        "Daejeon = 1531\n",
        "city_pop.append(Daejeon)\n",
        "\n",
        "max_pop = 0\n",
        "min_pop = 1000000\n",
        "pop_sum = 0\n",
        "n = 0\n",
        "\n",
        "for pop in city_pop: # 순환문을 돌면서 최대, 최소값을 구한다.\n",
        "    if pop > max_pop :\n",
        "        max_pop = pop\n",
        "    if pop < min_pop : \n",
        "        min_pop = pop\n",
        "    pop_sum += pop\n",
        "    n += 1\n",
        "\n",
        "print(\"최대 인구: \", max_pop)\n",
        "print(\"최소 인구: \", min_pop)\n",
        "print(\"평균 인구: \", pop_sum / n)   "
      ],
      "metadata": {
        "colab": {
          "base_uri": "https://localhost:8080/"
        },
        "id": "cXnZZoo9ydtk",
        "outputId": "b01dc8e4-3e9f-40f4-81f6-88133646b55d"
      },
      "execution_count": 1,
      "outputs": [
        {
          "output_type": "stream",
          "name": "stdout",
          "text": [
            "[9765, 3441, 2954]\n",
            "최대 인구:  9765\n",
            "최소 인구:  1531\n",
            "평균 인구:  4422.75\n"
          ]
        }
      ]
    },
    {
      "cell_type": "code",
      "source": [
        "# LAB 7-3\n",
        "# 도시의 인구 자료에 대한 슬라이싱을 해보자\n",
        "population = [\"Seoul\", 9765,\"Busan\", 3441, \"Incheon\", 2954]\n",
        "\n",
        "print(\"서울 인구\", population[1])\n",
        "print(\"인천 인구\", population[-1])\n",
        "\n",
        "cities = population[0::2]\n",
        "print(\"도시의 리스트\", cities)\n",
        "pops = population[1::2]\n",
        "print(\"인구의 합\", sum(pops))\n",
        "\n",
        "# 1번\n",
        "for i in population:\n",
        "    if type(0) == type(i): \n",
        "        print(\"도시의 인구\", i)\n",
        "\n",
        "# 2번\n",
        "for i in range(len(population)):\n",
        "    population[i]\n",
        "        "
      ],
      "metadata": {
        "colab": {
          "base_uri": "https://localhost:8080/"
        },
        "id": "GOXi5NY80QoW",
        "outputId": "94ca958f-7219-4803-e3a4-34ab2ae6f228"
      },
      "execution_count": 3,
      "outputs": [
        {
          "output_type": "stream",
          "name": "stdout",
          "text": [
            "서울 인구 9765\n",
            "인천 인구 2954\n",
            "도시의 리스트 ['Seoul', 'Busan', 'Incheon']\n",
            "인구의 합 16160\n",
            "도시의 인구 9765\n",
            "도시의 인구 3441\n",
            "도시의 인구 2954\n"
          ]
        }
      ]
    },
    {
      "cell_type": "code",
      "source": [
        "# for 반복문\n",
        "s = []\n",
        "for x in [1, 2, 3, 4, 5]:\n",
        "    s.append(x**2)\n",
        "\n",
        "# 리스트 함축 \n",
        "s = [x**2 for x in [1, 2, 3, 4, 5]]\n",
        "print(s) # 리스트 함축 코드 출력\n",
        "[1, 4, 9, 16, 25]"
      ],
      "metadata": {
        "colab": {
          "base_uri": "https://localhost:8080/"
        },
        "id": "0r6uZZgtK2cd",
        "outputId": "a1cf499c-98d1-4d91-fbc3-6b38dff70495"
      },
      "execution_count": 8,
      "outputs": [
        {
          "output_type": "stream",
          "name": "stdout",
          "text": [
            "[1, 4, 9, 16, 25]\n"
          ]
        }
      ]
    },
    {
      "cell_type": "code",
      "source": [
        "# 리스트 함축은 코드를 간결하게 만드는데 사용\n",
        "[x for x in range(10)] # 0 ~ 9까지 숫자를 포함하는 리스트\n",
        "[x  * x for x in range(10)] # 0 ~ 9까지 수의 제곱 값\n",
        "st = 'Hello World'\n",
        "[x.upper() for x in st] # 문자열 각각에 대해 upper() 메소드 적용\n",
        "\n",
        "a = ['welcome','to', 'the', 'python', 'world']\n",
        "first_a = [s[0].upper() for s in a] # 첫 알파벳에 대한 대문자 변환\n",
        "print(first_a)"
      ],
      "metadata": {
        "colab": {
          "base_uri": "https://localhost:8080/"
        },
        "id": "KsmjcrSAMBG2",
        "outputId": "c5addac1-c85b-4da8-d228-eddecb59af79"
      },
      "execution_count": 10,
      "outputs": [
        {
          "output_type": "stream",
          "name": "stdout",
          "text": [
            "['W', 'T', 'T', 'P', 'W']\n"
          ]
        }
      ]
    },
    {
      "cell_type": "code",
      "source": [
        "# LAB 7-4\n",
        "# 오늘의 명언을 골라주는 기능을 만들자\n",
        "import random\n",
        "quotes = []\n"
      ],
      "metadata": {
        "colab": {
          "base_uri": "https://localhost:8080/",
          "height": 331
        },
        "id": "KHokg4dD6KjY",
        "outputId": "65a38e80-813b-471d-82d1-85a30227ad45"
      },
      "execution_count": 2,
      "outputs": [
        {
          "output_type": "error",
          "ename": "IndexError",
          "evalue": "ignored",
          "traceback": [
            "\u001b[0;31m---------------------------------------------------------------------------\u001b[0m",
            "\u001b[0;31mIndexError\u001b[0m                                Traceback (most recent call last)",
            "\u001b[0;32m<ipython-input-2-b582f41620b5>\u001b[0m in \u001b[0;36m<cell line: 5>\u001b[0;34m()\u001b[0m\n\u001b[1;32m      3\u001b[0m \u001b[0;32mimport\u001b[0m \u001b[0mrandom\u001b[0m\u001b[0;34m\u001b[0m\u001b[0;34m\u001b[0m\u001b[0m\n\u001b[1;32m      4\u001b[0m \u001b[0mquotes\u001b[0m \u001b[0;34m=\u001b[0m \u001b[0;34m[\u001b[0m\u001b[0;34m]\u001b[0m\u001b[0;34m\u001b[0m\u001b[0;34m\u001b[0m\u001b[0m\n\u001b[0;32m----> 5\u001b[0;31m \u001b[0mrandom\u001b[0m\u001b[0;34m.\u001b[0m\u001b[0mchoice\u001b[0m\u001b[0;34m(\u001b[0m\u001b[0mquotes\u001b[0m\u001b[0;34m)\u001b[0m\u001b[0;34m\u001b[0m\u001b[0;34m\u001b[0m\u001b[0m\n\u001b[0m",
            "\u001b[0;32m/usr/lib/python3.9/random.py\u001b[0m in \u001b[0;36mchoice\u001b[0;34m(self, seq)\u001b[0m\n\u001b[1;32m    344\u001b[0m         \u001b[0;34m\"\"\"Choose a random element from a non-empty sequence.\"\"\"\u001b[0m\u001b[0;34m\u001b[0m\u001b[0;34m\u001b[0m\u001b[0m\n\u001b[1;32m    345\u001b[0m         \u001b[0;31m# raises IndexError if seq is empty\u001b[0m\u001b[0;34m\u001b[0m\u001b[0;34m\u001b[0m\u001b[0m\n\u001b[0;32m--> 346\u001b[0;31m         \u001b[0;32mreturn\u001b[0m \u001b[0mseq\u001b[0m\u001b[0;34m[\u001b[0m\u001b[0mself\u001b[0m\u001b[0;34m.\u001b[0m\u001b[0m_randbelow\u001b[0m\u001b[0;34m(\u001b[0m\u001b[0mlen\u001b[0m\u001b[0;34m(\u001b[0m\u001b[0mseq\u001b[0m\u001b[0;34m)\u001b[0m\u001b[0;34m)\u001b[0m\u001b[0;34m]\u001b[0m\u001b[0;34m\u001b[0m\u001b[0;34m\u001b[0m\u001b[0m\n\u001b[0m\u001b[1;32m    347\u001b[0m \u001b[0;34m\u001b[0m\u001b[0m\n\u001b[1;32m    348\u001b[0m     \u001b[0;32mdef\u001b[0m \u001b[0mshuffle\u001b[0m\u001b[0;34m(\u001b[0m\u001b[0mself\u001b[0m\u001b[0;34m,\u001b[0m \u001b[0mx\u001b[0m\u001b[0;34m,\u001b[0m \u001b[0mrandom\u001b[0m\u001b[0;34m=\u001b[0m\u001b[0;32mNone\u001b[0m\u001b[0;34m)\u001b[0m\u001b[0;34m:\u001b[0m\u001b[0;34m\u001b[0m\u001b[0;34m\u001b[0m\u001b[0m\n",
            "\u001b[0;31mIndexError\u001b[0m: list index out of range"
          ]
        }
      ]
    }
  ]
}
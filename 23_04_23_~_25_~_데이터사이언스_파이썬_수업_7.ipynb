{
  "nbformat": 4,
  "nbformat_minor": 0,
  "metadata": {
    "colab": {
      "provenance": [],
      "authorship_tag": "ABX9TyMKKUolZKi+S+J8dBoi7yKZ",
      "include_colab_link": true
    },
    "kernelspec": {
      "name": "python3",
      "display_name": "Python 3"
    },
    "language_info": {
      "name": "python"
    }
  },
  "cells": [
    {
      "cell_type": "markdown",
      "metadata": {
        "id": "view-in-github",
        "colab_type": "text"
      },
      "source": [
        "<a href=\"https://colab.research.google.com/github/Hyunfor/2023_HNU_PythonClass/blob/master/23_04_23_~_25_~_%EB%8D%B0%EC%9D%B4%ED%84%B0%EC%82%AC%EC%9D%B4%EC%96%B8%EC%8A%A4_%ED%8C%8C%EC%9D%B4%EC%8D%AC_%EC%88%98%EC%97%85_7.ipynb\" target=\"_parent\"><img src=\"https://colab.research.google.com/assets/colab-badge.svg\" alt=\"Open In Colab\"/></a>"
      ]
    },
    {
      "cell_type": "code",
      "source": [
        "# LAB 7-1\n",
        "fruits = []\n",
        "\n",
        "name = input(\"좋아하는 과일을 입력하세요 : \")\n",
        "fruits.append(name)\n",
        "name = input(\"좋아하는 과일을 입력하세요 : \")\n",
        "fruits.append(name)\n",
        "name = input(\"좋아하는 과일을 입력하세요 : \")\n",
        "fruits.append(name)\n",
        "\n",
        "name = input(\"과일의 이름을 입력하세요 : \")\n",
        "if name in fruits:\n",
        "    print(\"이 과일은 당신이 좋아하는 과일입니다.\")\n",
        "else:\n",
        "    print(\"이 과일은 당신이 좋아하는 과일이 아닙니다.\")    "
      ],
      "metadata": {
        "id": "KQBBed2-MFTq",
        "colab": {
          "base_uri": "https://localhost:8080/"
        },
        "outputId": "e5dadeff-f5f6-4683-c2cd-c1ae3ce91655"
      },
      "execution_count": 1,
      "outputs": [
        {
          "output_type": "stream",
          "name": "stdout",
          "text": [
            "좋아하는 과일을 입력하세요 : 수박\n",
            "좋아하는 과일을 입력하세요 : 딸기\n",
            "좋아하는 과일을 입력하세요 : 바나나\n",
            "과일의 이름을 입력하세요 : 두리안\n",
            "이 과일은 당신이 좋아하는 과일이 아닙니다.\n"
          ]
        }
      ]
    },
    {
      "cell_type": "code",
      "source": [
        "# LAB 7-2\n",
        "# 인구 통계(단위 : 천명)\n",
        "Seoul = 9765\n",
        "Busan = 3441\n",
        "Incheon = 2954\n",
        "city_pop = [Seoul, Busan, Incheon]\n",
        "print(city_pop)\n",
        "\n",
        "#최대 인구, 최소 인구, 평균 인구 결과 도출하기"
      ],
      "metadata": {
        "colab": {
          "base_uri": "https://localhost:8080/"
        },
        "id": "cXnZZoo9ydtk",
        "outputId": "5465bd4e-242c-40bc-a3f8-bb2c683af6b6"
      },
      "execution_count": 2,
      "outputs": [
        {
          "output_type": "stream",
          "name": "stdout",
          "text": [
            "[9765, 3441, 2954]\n"
          ]
        }
      ]
    },
    {
      "cell_type": "code",
      "source": [
        "# LAB 7-3\n",
        "# 도시의 인구 자료에 대한 슬라이싱을 해보자\n",
        "population = [\"Seoul\", 9765,\"Busan\", 3441, \"Incheon\", 2954]\n",
        "\n",
        "print(\"서울 인구\", population[1])\n",
        "print(\"인천 인구\", population[-1])\n",
        "\n",
        "cities = population[0::2]\n",
        "print(\"도시의 리스트\", cities)\n",
        "pops = population[1::2]\n",
        "print(\"인구의 합\", sum(pops))\n",
        "\n",
        "# 1번\n",
        "for i in population:\n",
        "    if type(0) == type(i): \n",
        "        print(\"도시의 인구\", i)\n",
        "\n",
        "# 2번\n",
        "for i in range(len(population)):\n",
        "    population[i]\n",
        "        "
      ],
      "metadata": {
        "colab": {
          "base_uri": "https://localhost:8080/"
        },
        "id": "GOXi5NY80QoW",
        "outputId": "cfe8c09f-2c31-4261-c628-df50ccf67555"
      },
      "execution_count": 18,
      "outputs": [
        {
          "output_type": "stream",
          "name": "stdout",
          "text": [
            "서울 인구 9765\n",
            "인천 인구 2954\n",
            "도시의 리스트 ['Seoul', 'Busan', 'Incheon']\n",
            "인구의 합 16160\n",
            "도시의 인구 9765\n",
            "도시의 인구 3441\n",
            "도시의 인구 2954\n"
          ]
        }
      ]
    },
    {
      "cell_type": "code",
      "source": [
        "# LAB 7-4"
      ],
      "metadata": {
        "id": "KHokg4dD6KjY"
      },
      "execution_count": null,
      "outputs": []
    }
  ]
}
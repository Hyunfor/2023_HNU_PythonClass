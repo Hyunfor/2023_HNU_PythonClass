{
  "nbformat": 4,
  "nbformat_minor": 0,
  "metadata": {
    "colab": {
      "provenance": [],
      "authorship_tag": "ABX9TyMi5y6jb6NMo/dC1kz+hk6e",
      "include_colab_link": true
    },
    "kernelspec": {
      "name": "python3",
      "display_name": "Python 3"
    },
    "language_info": {
      "name": "python"
    }
  },
  "cells": [
    {
      "cell_type": "markdown",
      "metadata": {
        "id": "view-in-github",
        "colab_type": "text"
      },
      "source": [
        "<a href=\"https://colab.research.google.com/github/Hyunfor/2023_HNU_PythonClass/blob/master/23_04_23_~_%EB%8D%B0%EC%9D%B4%ED%84%B0%EC%82%AC%EC%9D%B4%EC%96%B8%EC%8A%A4_%ED%8C%8C%EC%9D%B4%EC%8D%AC_%EC%88%98%EC%97%85_7.ipynb\" target=\"_parent\"><img src=\"https://colab.research.google.com/assets/colab-badge.svg\" alt=\"Open In Colab\"/></a>"
      ]
    },
    {
      "cell_type": "code",
      "source": [
        "# LAB 7-1\n",
        "fruits = []\n",
        "\n",
        "name = input(\"좋아하는 과일을 입력하세요 : \")\n",
        "fruits.append(name)\n",
        "name = input(\"좋아하는 과일을 입력하세요 : \")\n",
        "fruits.append(name)\n",
        "name = input(\"좋아하는 과일을 입력하세요 : \")\n",
        "fruits.append(name)\n",
        "\n",
        "name = input(\"과일의 이름을 입력하세요 : \")\n",
        "if name in fruits:\n",
        "    print(\"이 과일은 당신이 좋아하는 과일입니다.\")\n",
        "else:\n",
        "    print(\"이 과일은 당신이 좋아하는 과일이 아닙니다.\")    "
      ],
      "metadata": {
        "id": "KQBBed2-MFTq",
        "colab": {
          "base_uri": "https://localhost:8080/"
        },
        "outputId": "e5dadeff-f5f6-4683-c2cd-c1ae3ce91655"
      },
      "execution_count": 1,
      "outputs": [
        {
          "output_type": "stream",
          "name": "stdout",
          "text": [
            "좋아하는 과일을 입력하세요 : 수박\n",
            "좋아하는 과일을 입력하세요 : 딸기\n",
            "좋아하는 과일을 입력하세요 : 바나나\n",
            "과일의 이름을 입력하세요 : 두리안\n",
            "이 과일은 당신이 좋아하는 과일이 아닙니다.\n"
          ]
        }
      ]
    },
    {
      "cell_type": "code",
      "source": [],
      "metadata": {
        "id": "cXnZZoo9ydtk"
      },
      "execution_count": null,
      "outputs": []
    }
  ]
}
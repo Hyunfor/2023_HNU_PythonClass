{
  "nbformat": 4,
  "nbformat_minor": 0,
  "metadata": {
    "colab": {
      "provenance": [],
      "authorship_tag": "ABX9TyM2Zcc67T+htj5z5lRGt4K+",
      "include_colab_link": true
    },
    "kernelspec": {
      "name": "python3",
      "display_name": "Python 3"
    },
    "language_info": {
      "name": "python"
    }
  },
  "cells": [
    {
      "cell_type": "markdown",
      "metadata": {
        "id": "view-in-github",
        "colab_type": "text"
      },
      "source": [
        "<a href=\"https://colab.research.google.com/github/Hyunfor/2023_HNU_PythonClass/blob/master/23_05_02_~_%EB%8D%B0%EC%9D%B4%ED%84%B0%EC%82%AC%EC%9D%B4%EC%96%B8%EC%8A%A4_%ED%8C%8C%EC%9D%B4%EC%8D%AC_%EC%88%98%EC%97%85_9(8%EC%9E%A5)_~_10_(_9%EC%9E%A5_%EC%99%84%2C_10%EC%9E%A5_%EC%A7%84%ED%96%89).ipynb\" target=\"_parent\"><img src=\"https://colab.research.google.com/assets/colab-badge.svg\" alt=\"Open In Colab\"/></a>"
      ]
    },
    {
      "cell_type": "markdown",
      "source": [
        "8장\n"
      ],
      "metadata": {
        "id": "OhveMlhBTIHS"
      }
    },
    {
      "cell_type": "code",
      "execution_count": null,
      "metadata": {
        "colab": {
          "base_uri": "https://localhost:8080/"
        },
        "id": "ejWjt4ziwUqA",
        "outputId": "9fdbdf7a-b961-44cc-9b1c-474c7790327e"
      },
      "outputs": [
        {
          "output_type": "stream",
          "name": "stdout",
          "text": [
            "{'전우치': '010-2233-4455'}\n",
            "{'전우치': '010-2233-4455', '도사협회': '01-1133-4455', '빌런협회': '04-7733-4455'}\n",
            "전우치 : 010-2233-4455\n",
            "도사협회 : 01-1133-4455\n",
            "빌런협회 : 04-7733-4455\n"
          ]
        }
      ],
      "source": [
        "# 딕셔너리 장점 \n",
        "# 어떤 자료형도 받을 수 있다.\n",
        "# 튜플은 보안상의 이유로 따로 둠\n",
        "\n",
        "# 리스트와 튜플은 순서자료형\n",
        "phone_num_list = {}\n",
        "phone_num_list[\"전우치\"] = \"010-2233-4455\"\n",
        "print(phone_num_list)\n",
        "\n",
        "phone_num_list[\"도사협회\"] = \"01-1133-4455\"\n",
        "phone_num_list[\"빌런협회\"] = \"04-7733-4455\"\n",
        "print(phone_num_list)\n",
        "\n",
        "# 리스트에서 인덱스, 딕셔너리에서는 키가 있어야 값을 찾을 수 있다.\n",
        "# 모든 키를 출력하려면 keys()라는 메소드를 사용\n",
        "# 반면 딕셔너리에서 사용되는 모든 값을 출력하려면 values()를 사용.\n",
        "# 딕셔너리 내부의 모든 값을 출력하려면 items()를 사용\n",
        "# items()를 쓰면 튜플로 출력 (출력된 값)\n",
        "# Key()는 [(출력된 값), (출력된 값)]\n",
        "for name, phone_num in phone_num_list.items():\n",
        "    print(name,':',phone_num)"
      ]
    },
    {
      "cell_type": "code",
      "source": [
        "person_dic = {'Name': \"홍길동\", 'Age': 27, 'Class': \"초급\"}\n",
        "print(person_dic['Name']) # 딕셔너리의 Name키로 값을 조회\n",
        "print(person_dic['Age']) # 딕셔너리의 Age키로 값을 조회\n",
        "print(person_dic['Class'])"
      ],
      "metadata": {
        "colab": {
          "base_uri": "https://localhost:8080/"
        },
        "id": "hiMN1Zy871ol",
        "outputId": "1b7a3b0b-9435-46d3-cea5-a16361ac1a8a"
      },
      "execution_count": null,
      "outputs": [
        {
          "output_type": "stream",
          "name": "stdout",
          "text": [
            "홍길동\n",
            "27\n",
            "초급\n"
          ]
        }
      ]
    },
    {
      "cell_type": "code",
      "source": [
        "def sum(a, b): # 일반적인 함수문\n",
        "    return a+b\n",
        "print(sum(3,4))\n",
        "\n",
        "sum = lambda a,b : a+b # lambda함수로 일반적인 함수 코드를 간결하게 만들 수 있음.\n",
        "print(sum(3,4))"
      ],
      "metadata": {
        "colab": {
          "base_uri": "https://localhost:8080/"
        },
        "id": "cJAKJG07-Sc_",
        "outputId": "b3cea730-6586-4955-9406-f265fa7149ea"
      },
      "execution_count": null,
      "outputs": [
        {
          "output_type": "stream",
          "name": "stdout",
          "text": [
            "7\n",
            "7\n"
          ]
        }
      ]
    },
    {
      "cell_type": "code",
      "source": [
        "f = lambda x : x**2\n",
        "f(3)"
      ],
      "metadata": {
        "colab": {
          "base_uri": "https://localhost:8080/"
        },
        "id": "Cr_E9o2B-0nv",
        "outputId": "b3b825ab-4fc6-477a-9a79-162e2ec9ca1e"
      },
      "execution_count": null,
      "outputs": [
        {
          "output_type": "execute_result",
          "data": {
            "text/plain": [
              "9"
            ]
          },
          "metadata": {},
          "execution_count": 13
        }
      ]
    },
    {
      "cell_type": "code",
      "source": [
        "f = lambda x : x/2\n",
        "f(4)\n"
      ],
      "metadata": {
        "colab": {
          "base_uri": "https://localhost:8080/"
        },
        "id": "XDwHLPns_F2r",
        "outputId": "70032173-2dea-45ad-ca4d-29da92b6e09d"
      },
      "execution_count": null,
      "outputs": [
        {
          "output_type": "execute_result",
          "data": {
            "text/plain": [
              "2.0"
            ]
          },
          "metadata": {},
          "execution_count": 14
        }
      ]
    },
    {
      "cell_type": "code",
      "source": [
        "even_power = lambda x : x**2 if x%2 == 0 else x\n",
        "print(even_power(2))\n",
        "print(even_power(3))"
      ],
      "metadata": {
        "colab": {
          "base_uri": "https://localhost:8080/"
        },
        "id": "AgW3hopy_PIY",
        "outputId": "09870b50-f83f-4804-b8c0-eacd40f0e62e"
      },
      "execution_count": null,
      "outputs": [
        {
          "output_type": "stream",
          "name": "stdout",
          "text": [
            "4\n",
            "3\n"
          ]
        }
      ]
    },
    {
      "cell_type": "code",
      "source": [
        "# 심화문제 8.3 한번 풀어보기\n",
        "# 학번, 이름, 전화번호의 3쌍의 요소를 가지는 student_tup라는 튜플이 존재\n",
        "\n",
        "# 1) 튜플을 수정하여 {학번 : [이름, 전화번호]}의 쌍으로 이루어진 딕셔너리를 만들어서 출력\n",
        "\n",
        "# 2) 학생의 학번을 입력받아서 이름과 전화번호를 출력하는 학사 정보 프로그램을 작성\n",
        "\n",
        "# 3) student_tup의 마지막 항목으로 직전학기 학점을 추가. 세 학생의 학점은 각각 4.3, 3.9, 4.25이다. \n",
        "# 이를 바탕으로 딕셔너리를 만들어 학생 정보를 출력하라\n",
        "\n",
        "# 4) 3)의 정보를 이용하여 for 반보문과 인덱싱을 통해서 세 학생의 학점 평균값을 다음과 같이 출력하라."
      ],
      "metadata": {
        "id": "0-3HU_hWAAAc"
      },
      "execution_count": null,
      "outputs": []
    },
    {
      "cell_type": "markdown",
      "source": [
        "9장"
      ],
      "metadata": {
        "id": "0H6bwQWnTEh_"
      }
    },
    {
      "cell_type": "code",
      "source": [
        "# 문자열도 순서자료형 - > 인덱스를 가지고 있다 & 반복문에 사용가능\n",
        "# split() - > 문자열 분리\n",
        "# join() - > 문자열 합치기\n",
        "# replace() - > 문자열 변경\n",
        "# strip() - > 공백 제거거"
      ],
      "metadata": {
        "id": "SIpOsz4aMtdV"
      },
      "execution_count": null,
      "outputs": []
    },
    {
      "cell_type": "code",
      "source": [
        "s = 'www.booksr.co.kr'\n",
        "s.find('.kr')"
      ],
      "metadata": {
        "colab": {
          "base_uri": "https://localhost:8080/"
        },
        "id": "O6eyDxjmQKlP",
        "outputId": "eb0ff169-f35f-45de-daa9-2a3ca0f44340"
      },
      "execution_count": null,
      "outputs": [
        {
          "output_type": "execute_result",
          "data": {
            "text/plain": [
              "13"
            ]
          },
          "metadata": {},
          "execution_count": 4
        }
      ]
    },
    {
      "cell_type": "code",
      "source": [
        "s = 'www.booksr.co.kr'\n",
        "s.find('x')"
      ],
      "metadata": {
        "colab": {
          "base_uri": "https://localhost:8080/"
        },
        "id": "dDhHsic2QYC0",
        "outputId": "650effd8-f6da-4950-e8d6-bbf2b5081698"
      },
      "execution_count": null,
      "outputs": [
        {
          "output_type": "execute_result",
          "data": {
            "text/plain": [
              "-1"
            ]
          },
          "metadata": {},
          "execution_count": 5
        }
      ]
    },
    {
      "cell_type": "code",
      "source": [
        "s = 'www.booksr.co.kr'\n",
        "print(s.index('.kr'))"
      ],
      "metadata": {
        "colab": {
          "base_uri": "https://localhost:8080/"
        },
        "id": "mP2esYGDQern",
        "outputId": "4c662e8f-35ad-4e69-e160-7e155027e99d"
      },
      "execution_count": null,
      "outputs": [
        {
          "output_type": "stream",
          "name": "stdout",
          "text": [
            "13\n"
          ]
        }
      ]
    },
    {
      "cell_type": "code",
      "source": [
        "s = 'www.booksr.co.kr'\n",
        "print(s.index('x'))"
      ],
      "metadata": {
        "colab": {
          "base_uri": "https://localhost:8080/",
          "height": 189
        },
        "id": "STu1F_85QkJM",
        "outputId": "ce477823-a980-4d7f-91b0-ba991262b912"
      },
      "execution_count": null,
      "outputs": [
        {
          "output_type": "error",
          "ename": "ValueError",
          "evalue": "ignored",
          "traceback": [
            "\u001b[0;31m---------------------------------------------------------------------------\u001b[0m",
            "\u001b[0;31mValueError\u001b[0m                                Traceback (most recent call last)",
            "\u001b[0;32m<ipython-input-9-cb5821cae723>\u001b[0m in \u001b[0;36m<cell line: 2>\u001b[0;34m()\u001b[0m\n\u001b[1;32m      1\u001b[0m \u001b[0ms\u001b[0m \u001b[0;34m=\u001b[0m \u001b[0;34m'www.booksr.co.kr'\u001b[0m\u001b[0;34m\u001b[0m\u001b[0;34m\u001b[0m\u001b[0m\n\u001b[0;32m----> 2\u001b[0;31m \u001b[0mprint\u001b[0m\u001b[0;34m(\u001b[0m\u001b[0ms\u001b[0m\u001b[0;34m.\u001b[0m\u001b[0mindex\u001b[0m\u001b[0;34m(\u001b[0m\u001b[0;34m'x'\u001b[0m\u001b[0;34m)\u001b[0m\u001b[0;34m)\u001b[0m\u001b[0;34m\u001b[0m\u001b[0;34m\u001b[0m\u001b[0m\n\u001b[0m",
            "\u001b[0;31mValueError\u001b[0m: substring not found"
          ]
        }
      ]
    },
    {
      "cell_type": "code",
      "source": [
        "# LAB 9-2\n",
        "# 트위터 메시지 처리의 단어 추출\n",
        "t = \"There's a reason some people are working to make it harder to vote, especially for people of color. It's because when we show up, things change.\"\n",
        "length = len(t.split(' '))\n",
        "print('world count:', length)"
      ],
      "metadata": {
        "id": "Hvnhd56iRnud",
        "colab": {
          "base_uri": "https://localhost:8080/"
        },
        "outputId": "8380df53-192b-42c5-d03e-6ffe531b8a0b"
      },
      "execution_count": 2,
      "outputs": [
        {
          "output_type": "stream",
          "name": "stdout",
          "text": [
            "world count: 26\n"
          ]
        }
      ]
    },
    {
      "cell_type": "code",
      "source": [
        "# 9.7 워드클라우드 내용은 스스로 학습\n",
        "# 9.8 정규표현식 내용은 프로젝트 진행시 필요시 학습"
      ],
      "metadata": {
        "id": "ElToS-lKSdTh"
      },
      "execution_count": null,
      "outputs": []
    },
    {
      "cell_type": "code",
      "source": [
        "# 심화문제 9.1 9.5, 9.6 집에서 해보기"
      ],
      "metadata": {
        "id": "-KrCIFu4SwJy"
      },
      "execution_count": null,
      "outputs": []
    },
    {
      "cell_type": "code",
      "source": [
        "# 심화문제 9.1\n",
        "# 영문 이름을 입력받은 후 중간 이름을 출력하라\n",
        "name = input(\"영문 이름을 입력하세요: \")\n",
        "names_list = name.split()  # 공백을 기준으로 문자열을 단어 단위로 분리합니다.\n",
        "num_names = len(names_list)  # 입력된 이름의 단어 개수를 구합니다.\n",
        "\n",
        "# 입력된 이름이 두 개 이상의 단어로 이루어져 있다면 중간 단어를 출력합니다.\n",
        "if num_names >= 2:\n",
        "    middle_index = num_names // 2  # 중간 단어의 인덱스를 계산합니다.\n",
        "    middle_name = names_list[middle_index]  # 중간 단어를 가져옵니다.\n",
        "    print(\"중간 이름은\", middle_name, \"입니다.\")\n",
        "else:\n",
        "    print(\"입력된 이름이 너무 짧습니다.\")"
      ],
      "metadata": {
        "colab": {
          "base_uri": "https://localhost:8080/"
        },
        "id": "l8L5VE6m5zir",
        "outputId": "3b8af791-c72b-4cee-e9c7-6b851c3a4e7f"
      },
      "execution_count": 3,
      "outputs": [
        {
          "output_type": "stream",
          "name": "stdout",
          "text": [
            "영문 이름을 입력하세요: jon smths meguel\n",
            "중간 이름은 smths 입니다.\n"
          ]
        }
      ]
    },
    {
      "cell_type": "code",
      "source": [
        "# 심화문제 9.5\n",
        "# s = Korea is awesome! I REALLY LOVE KOREA.\n",
        "# Korea가 몇번 나타나는가 출력하라. 이때 KOREA, Korea와 korea는 같은 문자열로 간주한다.\n",
        "s = \"Korea is awesome! I REALLY LOVE KOREA.\"\n",
        "count = s.lower().count(\"korea\")  # 대소문자를 구분하지 않고 \"Korea\"가 몇 번 나타나는지 계산합니다.\n",
        "print(\"Korea가 총\", count, \"번 나타납니다.\")"
      ],
      "metadata": {
        "colab": {
          "base_uri": "https://localhost:8080/"
        },
        "id": "VN1ZPHDp6PSE",
        "outputId": "63a4c9d9-9ff1-4907-81b6-4e34d88fc2c0"
      },
      "execution_count": 4,
      "outputs": [
        {
          "output_type": "stream",
          "name": "stdout",
          "text": [
            "Korea가 총 2 번 나타납니다.\n"
          ]
        }
      ]
    },
    {
      "cell_type": "code",
      "source": [
        "# 심화문제 9.6\n",
        "# 문장에 'English = 98'와 같이 과목점수가 저장되어 있다. 이문장을 분석하여 숫자로 이루어진 점수를 읽어서 합과 평균점수를 구하라\n",
        "# 문장 s : English = 89, Science = 90, Math = 92, History = 80.\n",
        "# 총점 : 351\n",
        "# 평균점수 87.75\n",
        "s = \"English = 89, Science = 90, Math = 92, History = 80.\"\n",
        "scores = []  # 점수를 저장할 리스트를 초기화합니다.\n",
        "for item in s.split(\",\"):  # 쉼표를 기준으로 문자열을 분리합니다.\n",
        "    score = item.split(\"=\")[-1].strip()  # 등호를 기준으로 문자열을 분리하여 숫자를 추출합니다.\n",
        "    scores.append(int(score))  # 추출한 숫자를 정수형으로 변환하여 리스트에 추가합니다.\n",
        "total = sum(scores)  # 총점을 계산합니다.\n",
        "average = total / len(scores)  # 평균점수를 계산합니다.\n",
        "print(\"총점:\", total)\n",
        "print(\"평균점수:\", round(average, 2))"
      ],
      "metadata": {
        "colab": {
          "base_uri": "https://localhost:8080/",
          "height": 242
        },
        "id": "3t-zZ8IA6w88",
        "outputId": "98690e8b-c5bc-453a-b83e-ff98c55957b6"
      },
      "execution_count": 5,
      "outputs": [
        {
          "output_type": "error",
          "ename": "ValueError",
          "evalue": "ignored",
          "traceback": [
            "\u001b[0;31m---------------------------------------------------------------------------\u001b[0m",
            "\u001b[0;31mValueError\u001b[0m                                Traceback (most recent call last)",
            "\u001b[0;32m<ipython-input-5-c4c7745bc969>\u001b[0m in \u001b[0;36m<cell line: 8>\u001b[0;34m()\u001b[0m\n\u001b[1;32m      8\u001b[0m \u001b[0;32mfor\u001b[0m \u001b[0mitem\u001b[0m \u001b[0;32min\u001b[0m \u001b[0ms\u001b[0m\u001b[0;34m.\u001b[0m\u001b[0msplit\u001b[0m\u001b[0;34m(\u001b[0m\u001b[0;34m\",\"\u001b[0m\u001b[0;34m)\u001b[0m\u001b[0;34m:\u001b[0m  \u001b[0;31m# 쉼표를 기준으로 문자열을 분리합니다.\u001b[0m\u001b[0;34m\u001b[0m\u001b[0;34m\u001b[0m\u001b[0m\n\u001b[1;32m      9\u001b[0m     \u001b[0mscore\u001b[0m \u001b[0;34m=\u001b[0m \u001b[0mitem\u001b[0m\u001b[0;34m.\u001b[0m\u001b[0msplit\u001b[0m\u001b[0;34m(\u001b[0m\u001b[0;34m\"=\"\u001b[0m\u001b[0;34m)\u001b[0m\u001b[0;34m[\u001b[0m\u001b[0;34m-\u001b[0m\u001b[0;36m1\u001b[0m\u001b[0;34m]\u001b[0m\u001b[0;34m.\u001b[0m\u001b[0mstrip\u001b[0m\u001b[0;34m(\u001b[0m\u001b[0;34m)\u001b[0m  \u001b[0;31m# 등호를 기준으로 문자열을 분리하여 숫자를 추출합니다.\u001b[0m\u001b[0;34m\u001b[0m\u001b[0;34m\u001b[0m\u001b[0m\n\u001b[0;32m---> 10\u001b[0;31m     \u001b[0mscores\u001b[0m\u001b[0;34m.\u001b[0m\u001b[0mappend\u001b[0m\u001b[0;34m(\u001b[0m\u001b[0mint\u001b[0m\u001b[0;34m(\u001b[0m\u001b[0mscore\u001b[0m\u001b[0;34m)\u001b[0m\u001b[0;34m)\u001b[0m  \u001b[0;31m# 추출한 숫자를 정수형으로 변환하여 리스트에 추가합니다.\u001b[0m\u001b[0;34m\u001b[0m\u001b[0;34m\u001b[0m\u001b[0m\n\u001b[0m\u001b[1;32m     11\u001b[0m \u001b[0mtotal\u001b[0m \u001b[0;34m=\u001b[0m \u001b[0msum\u001b[0m\u001b[0;34m(\u001b[0m\u001b[0mscores\u001b[0m\u001b[0;34m)\u001b[0m  \u001b[0;31m# 총점을 계산합니다.\u001b[0m\u001b[0;34m\u001b[0m\u001b[0;34m\u001b[0m\u001b[0m\n\u001b[1;32m     12\u001b[0m \u001b[0maverage\u001b[0m \u001b[0;34m=\u001b[0m \u001b[0mtotal\u001b[0m \u001b[0;34m/\u001b[0m \u001b[0mlen\u001b[0m\u001b[0;34m(\u001b[0m\u001b[0mscores\u001b[0m\u001b[0;34m)\u001b[0m  \u001b[0;31m# 평균점수를 계산합니다.\u001b[0m\u001b[0;34m\u001b[0m\u001b[0;34m\u001b[0m\u001b[0m\n",
            "\u001b[0;31mValueError\u001b[0m: invalid literal for int() with base 10: '80.'"
          ]
        }
      ]
    },
    {
      "cell_type": "code",
      "source": [
        "s = \"English = 89, Science = 90, Math = 92, History = 80.\"\n",
        "scores = []\n",
        "for item in s.split(\",\"):\n",
        "    score = item.split(\"=\")[-1].strip()\n",
        "    scores.append(float(score))  # 정수 대신 실수로 변환합니다.\n",
        "total = sum(scores)\n",
        "average = total / len(scores)\n",
        "print(\"총점:\", total)\n",
        "print(\"평균점수:\", round(average, 2))"
      ],
      "metadata": {
        "colab": {
          "base_uri": "https://localhost:8080/"
        },
        "id": "_WbOjICn8TVj",
        "outputId": "56d4dc80-ed65-466e-80a9-e0590ea7cf52"
      },
      "execution_count": 7,
      "outputs": [
        {
          "output_type": "stream",
          "name": "stdout",
          "text": [
            "총점: 351.0\n",
            "평균점수: 87.75\n"
          ]
        }
      ]
    },
    {
      "cell_type": "markdown",
      "source": [
        "10장\n",
        "numpy"
      ],
      "metadata": {
        "id": "VhVfcOteTAYx"
      }
    },
    {
      "cell_type": "code",
      "source": [],
      "metadata": {
        "id": "Pl8278hCS208"
      },
      "execution_count": null,
      "outputs": []
    }
  ]
}
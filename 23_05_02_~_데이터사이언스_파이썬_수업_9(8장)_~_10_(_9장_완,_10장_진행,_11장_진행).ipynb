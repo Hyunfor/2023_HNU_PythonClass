{
  "nbformat": 4,
  "nbformat_minor": 0,
  "metadata": {
    "colab": {
      "provenance": [],
      "authorship_tag": "ABX9TyP6mxwFh8SsIg7EhqK7/IFQ",
      "include_colab_link": true
    },
    "kernelspec": {
      "name": "python3",
      "display_name": "Python 3"
    },
    "language_info": {
      "name": "python"
    }
  },
  "cells": [
    {
      "cell_type": "markdown",
      "metadata": {
        "id": "view-in-github",
        "colab_type": "text"
      },
      "source": [
        "<a href=\"https://colab.research.google.com/github/Hyunfor/2023_HNU_PythonClass/blob/master/23_05_02_~_%EB%8D%B0%EC%9D%B4%ED%84%B0%EC%82%AC%EC%9D%B4%EC%96%B8%EC%8A%A4_%ED%8C%8C%EC%9D%B4%EC%8D%AC_%EC%88%98%EC%97%85_9(8%EC%9E%A5)_~_10_(_9%EC%9E%A5_%EC%99%84%2C_10%EC%9E%A5_%EC%A7%84%ED%96%89%2C_11%EC%9E%A5_%EC%A7%84%ED%96%89).ipynb\" target=\"_parent\"><img src=\"https://colab.research.google.com/assets/colab-badge.svg\" alt=\"Open In Colab\"/></a>"
      ]
    },
    {
      "cell_type": "markdown",
      "source": [
        "8장\n"
      ],
      "metadata": {
        "id": "OhveMlhBTIHS"
      }
    },
    {
      "cell_type": "code",
      "execution_count": null,
      "metadata": {
        "colab": {
          "base_uri": "https://localhost:8080/"
        },
        "id": "ejWjt4ziwUqA",
        "outputId": "9fdbdf7a-b961-44cc-9b1c-474c7790327e"
      },
      "outputs": [
        {
          "output_type": "stream",
          "name": "stdout",
          "text": [
            "{'전우치': '010-2233-4455'}\n",
            "{'전우치': '010-2233-4455', '도사협회': '01-1133-4455', '빌런협회': '04-7733-4455'}\n",
            "전우치 : 010-2233-4455\n",
            "도사협회 : 01-1133-4455\n",
            "빌런협회 : 04-7733-4455\n"
          ]
        }
      ],
      "source": [
        "# 딕셔너리 장점 \n",
        "# 어떤 자료형도 받을 수 있다.\n",
        "# 튜플은 보안상의 이유로 따로 둠\n",
        "\n",
        "# 리스트와 튜플은 순서자료형\n",
        "phone_num_list = {}\n",
        "phone_num_list[\"전우치\"] = \"010-2233-4455\"\n",
        "print(phone_num_list)\n",
        "\n",
        "phone_num_list[\"도사협회\"] = \"01-1133-4455\"\n",
        "phone_num_list[\"빌런협회\"] = \"04-7733-4455\"\n",
        "print(phone_num_list)\n",
        "\n",
        "# 리스트에서 인덱스, 딕셔너리에서는 키가 있어야 값을 찾을 수 있다.\n",
        "# 모든 키를 출력하려면 keys()라는 메소드를 사용\n",
        "# 반면 딕셔너리에서 사용되는 모든 값을 출력하려면 values()를 사용.\n",
        "# 딕셔너리 내부의 모든 값을 출력하려면 items()를 사용\n",
        "# items()를 쓰면 튜플로 출력 (출력된 값)\n",
        "# Key()는 [(출력된 값), (출력된 값)]\n",
        "for name, phone_num in phone_num_list.items():\n",
        "    print(name,':',phone_num)"
      ]
    },
    {
      "cell_type": "code",
      "source": [
        "person_dic = {'Name': \"홍길동\", 'Age': 27, 'Class': \"초급\"}\n",
        "print(person_dic['Name']) # 딕셔너리의 Name키로 값을 조회\n",
        "print(person_dic['Age']) # 딕셔너리의 Age키로 값을 조회\n",
        "print(person_dic['Class'])"
      ],
      "metadata": {
        "colab": {
          "base_uri": "https://localhost:8080/"
        },
        "id": "hiMN1Zy871ol",
        "outputId": "1b7a3b0b-9435-46d3-cea5-a16361ac1a8a"
      },
      "execution_count": null,
      "outputs": [
        {
          "output_type": "stream",
          "name": "stdout",
          "text": [
            "홍길동\n",
            "27\n",
            "초급\n"
          ]
        }
      ]
    },
    {
      "cell_type": "code",
      "source": [
        "def sum(a, b): # 일반적인 함수문\n",
        "    return a+b\n",
        "print(sum(3,4))\n",
        "\n",
        "sum = lambda a,b : a+b # lambda함수로 일반적인 함수 코드를 간결하게 만들 수 있음.\n",
        "print(sum(3,4))"
      ],
      "metadata": {
        "colab": {
          "base_uri": "https://localhost:8080/"
        },
        "id": "cJAKJG07-Sc_",
        "outputId": "b3cea730-6586-4955-9406-f265fa7149ea"
      },
      "execution_count": null,
      "outputs": [
        {
          "output_type": "stream",
          "name": "stdout",
          "text": [
            "7\n",
            "7\n"
          ]
        }
      ]
    },
    {
      "cell_type": "code",
      "source": [
        "f = lambda x : x**2\n",
        "f(3)"
      ],
      "metadata": {
        "colab": {
          "base_uri": "https://localhost:8080/"
        },
        "id": "Cr_E9o2B-0nv",
        "outputId": "b3b825ab-4fc6-477a-9a79-162e2ec9ca1e"
      },
      "execution_count": null,
      "outputs": [
        {
          "output_type": "execute_result",
          "data": {
            "text/plain": [
              "9"
            ]
          },
          "metadata": {},
          "execution_count": 13
        }
      ]
    },
    {
      "cell_type": "code",
      "source": [
        "f = lambda x : x/2\n",
        "f(4)\n"
      ],
      "metadata": {
        "colab": {
          "base_uri": "https://localhost:8080/"
        },
        "id": "XDwHLPns_F2r",
        "outputId": "70032173-2dea-45ad-ca4d-29da92b6e09d"
      },
      "execution_count": null,
      "outputs": [
        {
          "output_type": "execute_result",
          "data": {
            "text/plain": [
              "2.0"
            ]
          },
          "metadata": {},
          "execution_count": 14
        }
      ]
    },
    {
      "cell_type": "code",
      "source": [
        "even_power = lambda x : x**2 if x%2 == 0 else x\n",
        "print(even_power(2))\n",
        "print(even_power(3))"
      ],
      "metadata": {
        "colab": {
          "base_uri": "https://localhost:8080/"
        },
        "id": "AgW3hopy_PIY",
        "outputId": "09870b50-f83f-4804-b8c0-eacd40f0e62e"
      },
      "execution_count": null,
      "outputs": [
        {
          "output_type": "stream",
          "name": "stdout",
          "text": [
            "4\n",
            "3\n"
          ]
        }
      ]
    },
    {
      "cell_type": "code",
      "source": [
        "# 심화문제 8.3 한번 풀어보기\n",
        "# 학번, 이름, 전화번호의 3쌍의 요소를 가지는 student_tup라는 튜플이 존재\n",
        "\n",
        "# 1) 튜플을 수정하여 {학번 : [이름, 전화번호]}의 쌍으로 이루어진 딕셔너리를 만들어서 출력\n",
        "\n",
        "# 2) 학생의 학번을 입력받아서 이름과 전화번호를 출력하는 학사 정보 프로그램을 작성\n",
        "\n",
        "# 3) student_tup의 마지막 항목으로 직전학기 학점을 추가. 세 학생의 학점은 각각 4.3, 3.9, 4.25이다. \n",
        "# 이를 바탕으로 딕셔너리를 만들어 학생 정보를 출력하라\n",
        "\n",
        "# 4) 3)의 정보를 이용하여 for 반보문과 인덱싱을 통해서 세 학생의 학점 평균값을 다음과 같이 출력하라."
      ],
      "metadata": {
        "id": "0-3HU_hWAAAc"
      },
      "execution_count": null,
      "outputs": []
    },
    {
      "cell_type": "markdown",
      "source": [
        "9장"
      ],
      "metadata": {
        "id": "0H6bwQWnTEh_"
      }
    },
    {
      "cell_type": "code",
      "source": [
        "# 문자열도 순서자료형 - > 인덱스를 가지고 있다 & 반복문에 사용가능\n",
        "# split() - > 문자열 분리\n",
        "# join() - > 문자열 합치기\n",
        "# replace() - > 문자열 변경\n",
        "# strip() - > 공백 제거거"
      ],
      "metadata": {
        "id": "SIpOsz4aMtdV"
      },
      "execution_count": null,
      "outputs": []
    },
    {
      "cell_type": "code",
      "source": [
        "s = 'www.booksr.co.kr'\n",
        "s.find('.kr')"
      ],
      "metadata": {
        "colab": {
          "base_uri": "https://localhost:8080/"
        },
        "id": "O6eyDxjmQKlP",
        "outputId": "eb0ff169-f35f-45de-daa9-2a3ca0f44340"
      },
      "execution_count": null,
      "outputs": [
        {
          "output_type": "execute_result",
          "data": {
            "text/plain": [
              "13"
            ]
          },
          "metadata": {},
          "execution_count": 4
        }
      ]
    },
    {
      "cell_type": "code",
      "source": [
        "s = 'www.booksr.co.kr'\n",
        "s.find('x')"
      ],
      "metadata": {
        "colab": {
          "base_uri": "https://localhost:8080/"
        },
        "id": "dDhHsic2QYC0",
        "outputId": "650effd8-f6da-4950-e8d6-bbf2b5081698"
      },
      "execution_count": null,
      "outputs": [
        {
          "output_type": "execute_result",
          "data": {
            "text/plain": [
              "-1"
            ]
          },
          "metadata": {},
          "execution_count": 5
        }
      ]
    },
    {
      "cell_type": "code",
      "source": [
        "s = 'www.booksr.co.kr'\n",
        "print(s.index('.kr'))"
      ],
      "metadata": {
        "colab": {
          "base_uri": "https://localhost:8080/"
        },
        "id": "mP2esYGDQern",
        "outputId": "4c662e8f-35ad-4e69-e160-7e155027e99d"
      },
      "execution_count": null,
      "outputs": [
        {
          "output_type": "stream",
          "name": "stdout",
          "text": [
            "13\n"
          ]
        }
      ]
    },
    {
      "cell_type": "code",
      "source": [
        "s = 'www.booksr.co.kr'\n",
        "print(s.index('x'))"
      ],
      "metadata": {
        "colab": {
          "base_uri": "https://localhost:8080/",
          "height": 189
        },
        "id": "STu1F_85QkJM",
        "outputId": "ce477823-a980-4d7f-91b0-ba991262b912"
      },
      "execution_count": null,
      "outputs": [
        {
          "output_type": "error",
          "ename": "ValueError",
          "evalue": "ignored",
          "traceback": [
            "\u001b[0;31m---------------------------------------------------------------------------\u001b[0m",
            "\u001b[0;31mValueError\u001b[0m                                Traceback (most recent call last)",
            "\u001b[0;32m<ipython-input-9-cb5821cae723>\u001b[0m in \u001b[0;36m<cell line: 2>\u001b[0;34m()\u001b[0m\n\u001b[1;32m      1\u001b[0m \u001b[0ms\u001b[0m \u001b[0;34m=\u001b[0m \u001b[0;34m'www.booksr.co.kr'\u001b[0m\u001b[0;34m\u001b[0m\u001b[0;34m\u001b[0m\u001b[0m\n\u001b[0;32m----> 2\u001b[0;31m \u001b[0mprint\u001b[0m\u001b[0;34m(\u001b[0m\u001b[0ms\u001b[0m\u001b[0;34m.\u001b[0m\u001b[0mindex\u001b[0m\u001b[0;34m(\u001b[0m\u001b[0;34m'x'\u001b[0m\u001b[0;34m)\u001b[0m\u001b[0;34m)\u001b[0m\u001b[0;34m\u001b[0m\u001b[0;34m\u001b[0m\u001b[0m\n\u001b[0m",
            "\u001b[0;31mValueError\u001b[0m: substring not found"
          ]
        }
      ]
    },
    {
      "cell_type": "code",
      "source": [
        "# LAB 9-2\n",
        "# 트위터 메시지 처리의 단어 추출\n",
        "t = \"There's a reason some people are working to make it harder to vote, especially for people of color. It's because when we show up, things change.\"\n",
        "length = len(t.split(' '))\n",
        "print('world count:', length)"
      ],
      "metadata": {
        "id": "Hvnhd56iRnud",
        "colab": {
          "base_uri": "https://localhost:8080/"
        },
        "outputId": "8380df53-192b-42c5-d03e-6ffe531b8a0b"
      },
      "execution_count": null,
      "outputs": [
        {
          "output_type": "stream",
          "name": "stdout",
          "text": [
            "world count: 26\n"
          ]
        }
      ]
    },
    {
      "cell_type": "code",
      "source": [
        "# 9.7 워드클라우드 내용은 스스로 학습\n",
        "# 9.8 정규표현식 내용은 프로젝트 진행시 필요시 학습"
      ],
      "metadata": {
        "id": "ElToS-lKSdTh"
      },
      "execution_count": null,
      "outputs": []
    },
    {
      "cell_type": "code",
      "source": [
        "# 심화문제 9.1 9.5, 9.6 집에서 해보기"
      ],
      "metadata": {
        "id": "-KrCIFu4SwJy"
      },
      "execution_count": null,
      "outputs": []
    },
    {
      "cell_type": "code",
      "source": [
        "# 심화문제 9.1\n",
        "# 영문 이름을 입력받은 후 중간 이름을 출력하라\n",
        "name = input(\"영문 이름을 입력하세요: \")\n",
        "names_list = name.split()  # 공백을 기준으로 문자열을 단어 단위로 분리합니다.\n",
        "num_names = len(names_list)  # 입력된 이름의 단어 개수를 구합니다.\n",
        "\n",
        "# 입력된 이름이 두 개 이상의 단어로 이루어져 있다면 중간 단어를 출력합니다.\n",
        "if num_names >= 2:\n",
        "    middle_index = num_names // 2  # 중간 단어의 인덱스를 계산합니다.\n",
        "    middle_name = names_list[middle_index]  # 중간 단어를 가져옵니다.\n",
        "    print(\"중간 이름은\", middle_name, \"입니다.\")\n",
        "else:\n",
        "    print(\"입력된 이름이 너무 짧습니다.\")"
      ],
      "metadata": {
        "colab": {
          "base_uri": "https://localhost:8080/"
        },
        "id": "l8L5VE6m5zir",
        "outputId": "3b8af791-c72b-4cee-e9c7-6b851c3a4e7f"
      },
      "execution_count": null,
      "outputs": [
        {
          "output_type": "stream",
          "name": "stdout",
          "text": [
            "영문 이름을 입력하세요: jon smths meguel\n",
            "중간 이름은 smths 입니다.\n"
          ]
        }
      ]
    },
    {
      "cell_type": "code",
      "source": [
        "# 심화문제 9.5\n",
        "# s = Korea is awesome! I REALLY LOVE KOREA.\n",
        "# Korea가 몇번 나타나는가 출력하라. 이때 KOREA, Korea와 korea는 같은 문자열로 간주한다.\n",
        "s = \"Korea is awesome! I REALLY LOVE KOREA.\"\n",
        "count = s.lower().count(\"korea\")  # 대소문자를 구분하지 않고 \"Korea\"가 몇 번 나타나는지 계산합니다.\n",
        "print(\"Korea가 총\", count, \"번 나타납니다.\")"
      ],
      "metadata": {
        "colab": {
          "base_uri": "https://localhost:8080/"
        },
        "id": "VN1ZPHDp6PSE",
        "outputId": "63a4c9d9-9ff1-4907-81b6-4e34d88fc2c0"
      },
      "execution_count": null,
      "outputs": [
        {
          "output_type": "stream",
          "name": "stdout",
          "text": [
            "Korea가 총 2 번 나타납니다.\n"
          ]
        }
      ]
    },
    {
      "cell_type": "code",
      "source": [
        "# 심화문제 9.6\n",
        "# 문장에 'English = 98'와 같이 과목점수가 저장되어 있다. 이문장을 분석하여 숫자로 이루어진 점수를 읽어서 합과 평균점수를 구하라\n",
        "# 문장 s : English = 89, Science = 90, Math = 92, History = 80.\n",
        "# 총점 : 351\n",
        "# 평균점수 87.75\n",
        "s = \"English = 89, Science = 90, Math = 92, History = 80.\"\n",
        "scores = []  # 점수를 저장할 리스트를 초기화합니다.\n",
        "for item in s.split(\",\"):  # 쉼표를 기준으로 문자열을 분리합니다.\n",
        "    score = item.split(\"=\")[-1].strip()  # 등호를 기준으로 문자열을 분리하여 숫자를 추출합니다.\n",
        "    scores.append(int(score))  # 추출한 숫자를 정수형으로 변환하여 리스트에 추가합니다.\n",
        "total = sum(scores)  # 총점을 계산합니다.\n",
        "average = total / len(scores)  # 평균점수를 계산합니다.\n",
        "print(\"총점:\", total)\n",
        "print(\"평균점수:\", round(average, 2))"
      ],
      "metadata": {
        "colab": {
          "base_uri": "https://localhost:8080/",
          "height": 242
        },
        "id": "3t-zZ8IA6w88",
        "outputId": "98690e8b-c5bc-453a-b83e-ff98c55957b6"
      },
      "execution_count": null,
      "outputs": [
        {
          "output_type": "error",
          "ename": "ValueError",
          "evalue": "ignored",
          "traceback": [
            "\u001b[0;31m---------------------------------------------------------------------------\u001b[0m",
            "\u001b[0;31mValueError\u001b[0m                                Traceback (most recent call last)",
            "\u001b[0;32m<ipython-input-5-c4c7745bc969>\u001b[0m in \u001b[0;36m<cell line: 8>\u001b[0;34m()\u001b[0m\n\u001b[1;32m      8\u001b[0m \u001b[0;32mfor\u001b[0m \u001b[0mitem\u001b[0m \u001b[0;32min\u001b[0m \u001b[0ms\u001b[0m\u001b[0;34m.\u001b[0m\u001b[0msplit\u001b[0m\u001b[0;34m(\u001b[0m\u001b[0;34m\",\"\u001b[0m\u001b[0;34m)\u001b[0m\u001b[0;34m:\u001b[0m  \u001b[0;31m# 쉼표를 기준으로 문자열을 분리합니다.\u001b[0m\u001b[0;34m\u001b[0m\u001b[0;34m\u001b[0m\u001b[0m\n\u001b[1;32m      9\u001b[0m     \u001b[0mscore\u001b[0m \u001b[0;34m=\u001b[0m \u001b[0mitem\u001b[0m\u001b[0;34m.\u001b[0m\u001b[0msplit\u001b[0m\u001b[0;34m(\u001b[0m\u001b[0;34m\"=\"\u001b[0m\u001b[0;34m)\u001b[0m\u001b[0;34m[\u001b[0m\u001b[0;34m-\u001b[0m\u001b[0;36m1\u001b[0m\u001b[0;34m]\u001b[0m\u001b[0;34m.\u001b[0m\u001b[0mstrip\u001b[0m\u001b[0;34m(\u001b[0m\u001b[0;34m)\u001b[0m  \u001b[0;31m# 등호를 기준으로 문자열을 분리하여 숫자를 추출합니다.\u001b[0m\u001b[0;34m\u001b[0m\u001b[0;34m\u001b[0m\u001b[0m\n\u001b[0;32m---> 10\u001b[0;31m     \u001b[0mscores\u001b[0m\u001b[0;34m.\u001b[0m\u001b[0mappend\u001b[0m\u001b[0;34m(\u001b[0m\u001b[0mint\u001b[0m\u001b[0;34m(\u001b[0m\u001b[0mscore\u001b[0m\u001b[0;34m)\u001b[0m\u001b[0;34m)\u001b[0m  \u001b[0;31m# 추출한 숫자를 정수형으로 변환하여 리스트에 추가합니다.\u001b[0m\u001b[0;34m\u001b[0m\u001b[0;34m\u001b[0m\u001b[0m\n\u001b[0m\u001b[1;32m     11\u001b[0m \u001b[0mtotal\u001b[0m \u001b[0;34m=\u001b[0m \u001b[0msum\u001b[0m\u001b[0;34m(\u001b[0m\u001b[0mscores\u001b[0m\u001b[0;34m)\u001b[0m  \u001b[0;31m# 총점을 계산합니다.\u001b[0m\u001b[0;34m\u001b[0m\u001b[0;34m\u001b[0m\u001b[0m\n\u001b[1;32m     12\u001b[0m \u001b[0maverage\u001b[0m \u001b[0;34m=\u001b[0m \u001b[0mtotal\u001b[0m \u001b[0;34m/\u001b[0m \u001b[0mlen\u001b[0m\u001b[0;34m(\u001b[0m\u001b[0mscores\u001b[0m\u001b[0;34m)\u001b[0m  \u001b[0;31m# 평균점수를 계산합니다.\u001b[0m\u001b[0;34m\u001b[0m\u001b[0;34m\u001b[0m\u001b[0m\n",
            "\u001b[0;31mValueError\u001b[0m: invalid literal for int() with base 10: '80.'"
          ]
        }
      ]
    },
    {
      "cell_type": "code",
      "source": [
        "s = \"English = 89, Science = 90, Math = 92, History = 80.\"\n",
        "scores = []\n",
        "for item in s.split(\",\"):\n",
        "    score = item.split(\"=\")[-1].strip()\n",
        "    scores.append(float(score))  # 정수 대신 실수로 변환합니다.\n",
        "total = sum(scores)\n",
        "average = total / len(scores)\n",
        "print(\"총점:\", total)\n",
        "print(\"평균점수:\", round(average, 2))"
      ],
      "metadata": {
        "colab": {
          "base_uri": "https://localhost:8080/"
        },
        "id": "_WbOjICn8TVj",
        "outputId": "56d4dc80-ed65-466e-80a9-e0590ea7cf52"
      },
      "execution_count": null,
      "outputs": [
        {
          "output_type": "stream",
          "name": "stdout",
          "text": [
            "총점: 351.0\n",
            "평균점수: 87.75\n"
          ]
        }
      ]
    },
    {
      "cell_type": "markdown",
      "source": [
        "10장\n",
        "numpy"
      ],
      "metadata": {
        "id": "VhVfcOteTAYx"
      }
    },
    {
      "cell_type": "code",
      "source": [
        "# numpy의 핵심적인 객체는 다차원 배열\n",
        "# 2차원 배열(테이블)을 넘파이를 이용해서 생성\n",
        "# 배열의 각 요소는 index라 불리는 정수들로 참조\n",
        "# 넘파이에서 차원은 axis 축 이라고도 함\n",
        "# 행이 0, 축이 1"
      ],
      "metadata": {
        "id": "Pl8278hCS208"
      },
      "execution_count": null,
      "outputs": []
    },
    {
      "cell_type": "code",
      "source": [
        "import numpy as np"
      ],
      "metadata": {
        "id": "sb4tDg5V5fFr"
      },
      "execution_count": null,
      "outputs": []
    },
    {
      "cell_type": "code",
      "source": [
        "mid_scores = np.array([10, 20, 30])\n",
        "final_scores = np.array([60, 70, 80])\n",
        "total = mid_scores + final_scores\n",
        "print('시험성적의 합계 : ', total) # 각 요소별 합계가 나타난다\n",
        "print(type(mid_scores))\n",
        "print('시험성적의 평균 : ', total/2) # 모든 요소를 2로 나눈다\n",
        "print(type(final_scores))"
      ],
      "metadata": {
        "colab": {
          "base_uri": "https://localhost:8080/"
        },
        "id": "SZ32fAKE58AW",
        "outputId": "cfed7468-da22-47c5-90bf-6a0c4a370081"
      },
      "execution_count": null,
      "outputs": [
        {
          "output_type": "stream",
          "name": "stdout",
          "text": [
            "시험성적의 합계 :  [ 70  90 110]\n",
            "<class 'numpy.ndarray'>\n",
            "시험성적의 평균 :  [35. 45. 55.]\n",
            "<class 'numpy.ndarray'>\n"
          ]
        }
      ]
    },
    {
      "cell_type": "code",
      "source": [
        "a = np.array([1, 2, 3])\n",
        "print(a.shape)# 객체의 형태\n",
        "print(a.ndim) # 객채의 차원\n",
        "print(a.dtype) # 객체의 내부 자료형\n",
        "print(a.itemsize) # 객체 내부 자료형이 차지하는 메모리 크기\n",
        "print(a.size) # 객체의 전체 크기(항목 수수)"
      ],
      "metadata": {
        "colab": {
          "base_uri": "https://localhost:8080/"
        },
        "id": "80qV706k7flD",
        "outputId": "e68d0bc6-645d-4e2d-821b-3e7b74fbbbfe"
      },
      "execution_count": null,
      "outputs": [
        {
          "output_type": "stream",
          "name": "stdout",
          "text": [
            "(3,)\n",
            "1\n",
            "int64\n",
            "8\n",
            "3\n"
          ]
        }
      ]
    },
    {
      "cell_type": "code",
      "source": [
        "# 넘파이의 배열, broadcasting브로드캐스팅이라 함함"
      ],
      "metadata": {
        "id": "S4wv-30775xd"
      },
      "execution_count": null,
      "outputs": []
    },
    {
      "cell_type": "code",
      "source": [
        "# LAB10-2 해보기\n",
        "# 넘파이를 이용하여 다수의 인원에 대해 BMI 계싼을 효율적으로 적용하자\n",
        "# 키를 저장하는 리스트 heights, 다른 하나는 몸무게를 저장하는 weights\n",
        "# BMI를 한번에 계산 할 수 있는 방법은 ? \n",
        "heights = [1.83, 1.76, 1.69, 1.86, 1.77, 1.73]\n",
        "weights = [86, 74, 59, 95, 80, 68]\n",
        "\n",
        "np_heights = np.array(heights)\n",
        "np_weights = np.array(weights)\n",
        "\n",
        "bmi = np_heights/(np_heights**2)\n",
        "print('대상자들의 키: ', np_heights)\n",
        "print('대상자들의 몸무게: ', np_weights)\n",
        "print('대상자들의 BMI')\n",
        "print(bmi)"
      ],
      "metadata": {
        "colab": {
          "base_uri": "https://localhost:8080/"
        },
        "id": "a1zJI4Kb9Ua0",
        "outputId": "c63b4cc2-25d9-49e6-e511-1df539c883bf"
      },
      "execution_count": null,
      "outputs": [
        {
          "output_type": "stream",
          "name": "stdout",
          "text": [
            "대상자들의 키:  [1.83 1.76 1.69 1.86 1.77 1.73]\n",
            "대상자들의 몸무게:  [86 74 59 95 80 68]\n",
            "대상자들의 BMI\n",
            "[0.54644809 0.56818182 0.59171598 0.53763441 0.56497175 0.57803468]\n"
          ]
        }
      ]
    },
    {
      "cell_type": "code",
      "source": [
        "scores = np.array([88, 72, 93, 94, 89, 78, 99])\n",
        "print(scores[2])\n",
        "print(scores[-1])\n",
        "print(scores[1:4]) # 두번째 , 세번째 , 네번째 항목을 슬라이싱\n",
        "print(scores[3:]) # 마지막 인덱스를 생략 하면 디폴트 값은 -1\n",
        "print(scores[4:-1]) # 마지막 인덱스로 -1을 사용할 경우 -1의 앞에 있는 78까지 슬라이싱\n",
        "y = scores > 80\n",
        "y\n",
        "#array([False, False, True, True, True])\n",
        "print(scores[scores > 80])"
      ],
      "metadata": {
        "colab": {
          "base_uri": "https://localhost:8080/"
        },
        "id": "XkQzwBsM98DQ",
        "outputId": "9f07c579-120f-435c-9895-0656a2472b1e"
      },
      "execution_count": null,
      "outputs": [
        {
          "output_type": "stream",
          "name": "stdout",
          "text": [
            "93\n",
            "99\n",
            "[72 93 94]\n",
            "[94 89 78 99]\n",
            "[89 78]\n",
            "[88 93 94 89 99]\n"
          ]
        }
      ]
    },
    {
      "cell_type": "code",
      "source": [
        "y = [[1,2,3], [4,5,6], [7,8,9]] # 2차원 배열(리스트 자료형형)\n",
        "print(y)\n",
        "\n",
        "np_array = np.array(y) # 2차원 배열(넘파이 다차원 배열열)\n",
        "np_array\n",
        "\n",
        "np_array[0][2] "
      ],
      "metadata": {
        "colab": {
          "base_uri": "https://localhost:8080/"
        },
        "id": "4sLZOAgD-pXc",
        "outputId": "a74d7157-1ac3-4566-c7e7-f75b22e7e5b5"
      },
      "execution_count": null,
      "outputs": [
        {
          "output_type": "stream",
          "name": "stdout",
          "text": [
            "[[1, 2, 3], [4, 5, 6], [7, 8, 9]]\n"
          ]
        },
        {
          "output_type": "execute_result",
          "data": {
            "text/plain": [
              "3"
            ]
          },
          "metadata": {},
          "execution_count": 13
        }
      ]
    },
    {
      "cell_type": "code",
      "source": [
        "# LAB10-3\n",
        "# 문자 데이터를 저장하고 있는 어떤 2차원 넘파이 배열 x에서 'c' 문자가 몇개 있는지 알고 싶다. 'c'만 추출하여 배열을 만들어라\n",
        "# 그리고 다음과 같은 두 개의 2차원 배열에 정수를 담아 mat_a에서 mat_b를 뺀 결과를 확인해 봐라.\n",
        "x = np.array([['a', 'b', 'c', 'd'], ['c', 'c', 'g', 'h']])\n",
        "print(x [ x == 'c'])\n",
        "mat_a = np.array([[10, 20, 30], [10, 20, 30]])\n",
        "mat_b = np.array([[2, 2, 2], [1, 2, 3]])\n",
        "print(mat_a - mat_b)"
      ],
      "metadata": {
        "colab": {
          "base_uri": "https://localhost:8080/"
        },
        "id": "7QVpxK2dCo2_",
        "outputId": "c0f18f78-2ec6-4479-bef5-b93f2be0ac84"
      },
      "execution_count": null,
      "outputs": [
        {
          "output_type": "stream",
          "name": "stdout",
          "text": [
            "['c' 'c' 'c']\n",
            "[[ 8 18 28]\n",
            " [ 9 18 27]]\n"
          ]
        }
      ]
    },
    {
      "cell_type": "code",
      "source": [
        "# LAB10-4\n",
        "# 검사 대상자들의 키와 몸무게가 다음과 같이 2차원 넘파이 배열에 저장되어있다.\n",
        "# x,y 그리고 z의 형태가 어떠한지 확인하고 이 정보를 바탕으로 각 대상자들의 BMI값을 저장한 배열을 생성하라\n",
        "x = np.array([[1.83, 1.76, 1.69, 1.86, 1.77, 1.73], [86.0, 74.0, 59.0, 95.0, 80.0, 68.0]])\n",
        "y = x[0:2, 1:3]\n",
        "z = x[0:2][1:3]\n",
        "\n",
        "print('x shape : ', x.shape)\n",
        "print('y shape : ', y.shape)\n",
        "print('z shape : ', z.shape)\n",
        "print('z values = : ', z)\n",
        "bmi = x[1] / x[0]**2\n",
        "print('BMI data')\n",
        "print(bmi)"
      ],
      "metadata": {
        "colab": {
          "base_uri": "https://localhost:8080/"
        },
        "id": "FsNtyLwQDY3C",
        "outputId": "d1a09bda-19c0-4ae2-98aa-cca2960a38ec"
      },
      "execution_count": null,
      "outputs": [
        {
          "output_type": "stream",
          "name": "stdout",
          "text": [
            "x shape :  (2, 6)\n",
            "y shape :  (2, 2)\n",
            "z shape :  (1, 6)\n",
            "z values = :  [[86. 74. 59. 95. 80. 68.]]\n",
            "BMI data\n",
            "[25.68007405 23.88946281 20.65754    27.45982194 25.53544639 22.72043837]\n"
          ]
        }
      ]
    },
    {
      "cell_type": "code",
      "source": [
        "# LAB10-5\n",
        "# 선수들의 키와 몸무게가 하나의 리스트를 구성하고 있으며, 이들의 리스트로 이루어진 데이터 player가 있다.\n",
        "players = [[170, 76.4], [183, 86.2], [181, 78.5], [176, 80.1]]\n",
        "# 이를 바탕으로 넘파이 2차원 배열을 만들고, 선수들 가운데 몸무게가 80이 넘는 선수들만 골라서 정보를 추출해보고, 키가 180 이상인 선수들의 정보도 추출하자\n",
        "np_players = np.array(players)\n",
        "print('몸무게가 80 이상인 선수 정보')\n",
        "print(np_players[ np_players[:, 1] >= 80.0])\n",
        "print('키가 180 이상인 선수 정보')\n",
        "print(np_players[ np_players[:, 0] >= 180.0])"
      ],
      "metadata": {
        "colab": {
          "base_uri": "https://localhost:8080/"
        },
        "id": "XvF1bGlMSwO4",
        "outputId": "b98e5e3f-7187-46b8-f73f-ebeb5f1b3073"
      },
      "execution_count": null,
      "outputs": [
        {
          "output_type": "stream",
          "name": "stdout",
          "text": [
            "몸무게가 80 이상인 선수 정보\n",
            "[[183.   86.2]\n",
            " [176.   80.1]]\n",
            "키가 180 이상인 선수 정보\n",
            "[[183.   86.2]\n",
            " [181.   78.5]]\n"
          ]
        }
      ]
    },
    {
      "cell_type": "code",
      "source": [
        "# arange() 함수와 range()함수 비교\n",
        "# 사용법은 동일"
      ],
      "metadata": {
        "id": "TDoNEreMRMkE"
      },
      "execution_count": null,
      "outputs": []
    },
    {
      "cell_type": "code",
      "source": [
        "# 평균, 중앙값 계산\n",
        "a = np.array([3, 7, 1, 2, 21]) # 21은 전체데이터 중에서 비정상적으로 큰 값\n",
        "print(np.mean(a)) # 평균\n",
        "print(np.median(a)) # 중앙값 - [3, 7, 1, 2, 21]들 중 가운데 항목을 가져옴."
      ],
      "metadata": {
        "colab": {
          "base_uri": "https://localhost:8080/"
        },
        "id": "ef_mTV-wR1q8",
        "outputId": "03a29ea5-4510-4398-94f5-04f87d5f05fd"
      },
      "execution_count": null,
      "outputs": [
        {
          "output_type": "stream",
          "name": "stdout",
          "text": [
            "6.8\n",
            "3.0\n"
          ]
        }
      ]
    },
    {
      "cell_type": "markdown",
      "source": [
        "11장 pandas"
      ],
      "metadata": {
        "id": "8EyU81W-Hr1y"
      }
    },
    {
      "cell_type": "code",
      "source": [
        "# numpy , pandas 둘다 중요하지만 pandas가 더 중요\n",
        "# pandas는 엑셀을 파이썬으로 한다고 보면됨\n",
        "# numpy 자료형 - 배열 array , 2차원 배열 만들 수 있음.\n",
        "# list는 모든 자료형을 받을 수 있지만 array는 불가능\n",
        "# pandas 자료형\n",
        "# Series - index와 elements(데이터)를 가지고 있는 1차원 배열 \n",
        "# 스프레드 시트에서의 column에 해당. column 하나\n",
        "# Dataframe - Series들의 집합으로 이루어진 스프레드 시트를 의미."
      ],
      "metadata": {
        "id": "Gi4Ceo83HnHH"
      },
      "execution_count": 10,
      "outputs": []
    },
    {
      "cell_type": "code",
      "source": [
        "import pandas as pd\n",
        "import numpy as np"
      ],
      "metadata": {
        "id": "Z-QonYmLVa_0"
      },
      "execution_count": 3,
      "outputs": []
    },
    {
      "cell_type": "code",
      "source": [
        "s1 = pd.Series(['smile', 'love', 'peace'])\n",
        "s1"
      ],
      "metadata": {
        "id": "rRbS7fA4Vpyt",
        "colab": {
          "base_uri": "https://localhost:8080/"
        },
        "outputId": "2bacf6e4-f715-41f0-eb8f-dd743ec6199e"
      },
      "execution_count": 9,
      "outputs": [
        {
          "output_type": "execute_result",
          "data": {
            "text/plain": [
              "0    smile\n",
              "1     love\n",
              "2    peace\n",
              "dtype: object"
            ]
          },
          "metadata": {},
          "execution_count": 9
        }
      ]
    },
    {
      "cell_type": "code",
      "source": [
        "s2 = pd.Series(np.arange(5), index=['a', 'b', 'c', 'd', 'e'])\n",
        "s2\n",
        "print(s2['a'])\n",
        "print()\n",
        "print(s2[['a', 'c', 'e']]) # 여러개의 값으 indexing 할 경우, 리스트 형태로 넣어줌."
      ],
      "metadata": {
        "colab": {
          "base_uri": "https://localhost:8080/"
        },
        "id": "sy0m9Fsx8hxG",
        "outputId": "9cef2dab-ae2a-47d3-c660-63f394ff6250"
      },
      "execution_count": 12,
      "outputs": [
        {
          "output_type": "stream",
          "name": "stdout",
          "text": [
            "0\n",
            "\n",
            "a    0\n",
            "c    2\n",
            "e    4\n",
            "dtype: int64\n"
          ]
        }
      ]
    },
    {
      "cell_type": "code",
      "source": [
        "#Dataframe 같은 길이의 리스트를 가지는 딕셔너리를 이용하여 생성\n",
        "poli_dict = {\"이름\" :['박원순', '김문수', '안철수'], \"정당\" :['더불어민주당', '자유한국당', '바른미래당'], \"기호\" : [1, 2, 3]}\n",
        "poli_df = pd.DataFrame(poli_dict, index = [\"후보1\", \"후복2\", \"후보3\"])\n",
        "poli_df"
      ],
      "metadata": {
        "colab": {
          "base_uri": "https://localhost:8080/",
          "height": 143
        },
        "id": "RuIbXT6--kdP",
        "outputId": "be967566-b8ad-4a44-edfe-c966fc21a5fc"
      },
      "execution_count": 15,
      "outputs": [
        {
          "output_type": "execute_result",
          "data": {
            "text/plain": [
              "      이름      정당  기호\n",
              "후보1  박원순  더불어민주당   1\n",
              "후복2  김문수   자유한국당   2\n",
              "후보3  안철수   바른미래당   3"
            ],
            "text/html": [
              "\n",
              "  <div id=\"df-2b59b9d5-d99b-4b5d-bfe4-ced28605468c\">\n",
              "    <div class=\"colab-df-container\">\n",
              "      <div>\n",
              "<style scoped>\n",
              "    .dataframe tbody tr th:only-of-type {\n",
              "        vertical-align: middle;\n",
              "    }\n",
              "\n",
              "    .dataframe tbody tr th {\n",
              "        vertical-align: top;\n",
              "    }\n",
              "\n",
              "    .dataframe thead th {\n",
              "        text-align: right;\n",
              "    }\n",
              "</style>\n",
              "<table border=\"1\" class=\"dataframe\">\n",
              "  <thead>\n",
              "    <tr style=\"text-align: right;\">\n",
              "      <th></th>\n",
              "      <th>이름</th>\n",
              "      <th>정당</th>\n",
              "      <th>기호</th>\n",
              "    </tr>\n",
              "  </thead>\n",
              "  <tbody>\n",
              "    <tr>\n",
              "      <th>후보1</th>\n",
              "      <td>박원순</td>\n",
              "      <td>더불어민주당</td>\n",
              "      <td>1</td>\n",
              "    </tr>\n",
              "    <tr>\n",
              "      <th>후복2</th>\n",
              "      <td>김문수</td>\n",
              "      <td>자유한국당</td>\n",
              "      <td>2</td>\n",
              "    </tr>\n",
              "    <tr>\n",
              "      <th>후보3</th>\n",
              "      <td>안철수</td>\n",
              "      <td>바른미래당</td>\n",
              "      <td>3</td>\n",
              "    </tr>\n",
              "  </tbody>\n",
              "</table>\n",
              "</div>\n",
              "      <button class=\"colab-df-convert\" onclick=\"convertToInteractive('df-2b59b9d5-d99b-4b5d-bfe4-ced28605468c')\"\n",
              "              title=\"Convert this dataframe to an interactive table.\"\n",
              "              style=\"display:none;\">\n",
              "        \n",
              "  <svg xmlns=\"http://www.w3.org/2000/svg\" height=\"24px\"viewBox=\"0 0 24 24\"\n",
              "       width=\"24px\">\n",
              "    <path d=\"M0 0h24v24H0V0z\" fill=\"none\"/>\n",
              "    <path d=\"M18.56 5.44l.94 2.06.94-2.06 2.06-.94-2.06-.94-.94-2.06-.94 2.06-2.06.94zm-11 1L8.5 8.5l.94-2.06 2.06-.94-2.06-.94L8.5 2.5l-.94 2.06-2.06.94zm10 10l.94 2.06.94-2.06 2.06-.94-2.06-.94-.94-2.06-.94 2.06-2.06.94z\"/><path d=\"M17.41 7.96l-1.37-1.37c-.4-.4-.92-.59-1.43-.59-.52 0-1.04.2-1.43.59L10.3 9.45l-7.72 7.72c-.78.78-.78 2.05 0 2.83L4 21.41c.39.39.9.59 1.41.59.51 0 1.02-.2 1.41-.59l7.78-7.78 2.81-2.81c.8-.78.8-2.07 0-2.86zM5.41 20L4 18.59l7.72-7.72 1.47 1.35L5.41 20z\"/>\n",
              "  </svg>\n",
              "      </button>\n",
              "      \n",
              "  <style>\n",
              "    .colab-df-container {\n",
              "      display:flex;\n",
              "      flex-wrap:wrap;\n",
              "      gap: 12px;\n",
              "    }\n",
              "\n",
              "    .colab-df-convert {\n",
              "      background-color: #E8F0FE;\n",
              "      border: none;\n",
              "      border-radius: 50%;\n",
              "      cursor: pointer;\n",
              "      display: none;\n",
              "      fill: #1967D2;\n",
              "      height: 32px;\n",
              "      padding: 0 0 0 0;\n",
              "      width: 32px;\n",
              "    }\n",
              "\n",
              "    .colab-df-convert:hover {\n",
              "      background-color: #E2EBFA;\n",
              "      box-shadow: 0px 1px 2px rgba(60, 64, 67, 0.3), 0px 1px 3px 1px rgba(60, 64, 67, 0.15);\n",
              "      fill: #174EA6;\n",
              "    }\n",
              "\n",
              "    [theme=dark] .colab-df-convert {\n",
              "      background-color: #3B4455;\n",
              "      fill: #D2E3FC;\n",
              "    }\n",
              "\n",
              "    [theme=dark] .colab-df-convert:hover {\n",
              "      background-color: #434B5C;\n",
              "      box-shadow: 0px 1px 3px 1px rgba(0, 0, 0, 0.15);\n",
              "      filter: drop-shadow(0px 1px 2px rgba(0, 0, 0, 0.3));\n",
              "      fill: #FFFFFF;\n",
              "    }\n",
              "  </style>\n",
              "\n",
              "      <script>\n",
              "        const buttonEl =\n",
              "          document.querySelector('#df-2b59b9d5-d99b-4b5d-bfe4-ced28605468c button.colab-df-convert');\n",
              "        buttonEl.style.display =\n",
              "          google.colab.kernel.accessAllowed ? 'block' : 'none';\n",
              "\n",
              "        async function convertToInteractive(key) {\n",
              "          const element = document.querySelector('#df-2b59b9d5-d99b-4b5d-bfe4-ced28605468c');\n",
              "          const dataTable =\n",
              "            await google.colab.kernel.invokeFunction('convertToInteractive',\n",
              "                                                     [key], {});\n",
              "          if (!dataTable) return;\n",
              "\n",
              "          const docLinkHtml = 'Like what you see? Visit the ' +\n",
              "            '<a target=\"_blank\" href=https://colab.research.google.com/notebooks/data_table.ipynb>data table notebook</a>'\n",
              "            + ' to learn more about interactive tables.';\n",
              "          element.innerHTML = '';\n",
              "          dataTable['output_type'] = 'display_data';\n",
              "          await google.colab.output.renderOutput(dataTable, element);\n",
              "          const docLink = document.createElement('div');\n",
              "          docLink.innerHTML = docLinkHtml;\n",
              "          element.appendChild(docLink);\n",
              "        }\n",
              "      </script>\n",
              "    </div>\n",
              "  </div>\n",
              "  "
            ]
          },
          "metadata": {},
          "execution_count": 15
        }
      ]
    }
  ]
}
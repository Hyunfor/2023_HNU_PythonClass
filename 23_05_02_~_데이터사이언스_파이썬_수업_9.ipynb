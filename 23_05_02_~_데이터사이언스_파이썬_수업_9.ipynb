{
  "nbformat": 4,
  "nbformat_minor": 0,
  "metadata": {
    "colab": {
      "provenance": [],
      "authorship_tag": "ABX9TyMc1cQ+PHg9RWn87IS1dQ9J",
      "include_colab_link": true
    },
    "kernelspec": {
      "name": "python3",
      "display_name": "Python 3"
    },
    "language_info": {
      "name": "python"
    }
  },
  "cells": [
    {
      "cell_type": "markdown",
      "metadata": {
        "id": "view-in-github",
        "colab_type": "text"
      },
      "source": [
        "<a href=\"https://colab.research.google.com/github/Hyunfor/2023_HNU_PythonClass/blob/master/23_05_02_~_%EB%8D%B0%EC%9D%B4%ED%84%B0%EC%82%AC%EC%9D%B4%EC%96%B8%EC%8A%A4_%ED%8C%8C%EC%9D%B4%EC%8D%AC_%EC%88%98%EC%97%85_9.ipynb\" target=\"_parent\"><img src=\"https://colab.research.google.com/assets/colab-badge.svg\" alt=\"Open In Colab\"/></a>"
      ]
    },
    {
      "cell_type": "code",
      "execution_count": 4,
      "metadata": {
        "colab": {
          "base_uri": "https://localhost:8080/"
        },
        "id": "ejWjt4ziwUqA",
        "outputId": "c421d75b-f25a-4b77-9cca-a5dbb63bf3ff"
      },
      "outputs": [
        {
          "output_type": "stream",
          "name": "stdout",
          "text": [
            "{'전우치': '010-2233-4455'}\n",
            "{'전우치': '010-2233-4455', '도사협회': '01-1133-4455', '빌런협회': '04-7733-4455'}\n",
            "전우치 : 010-2233-4455\n",
            "도사협회 : 01-1133-4455\n",
            "빌런협회 : 04-7733-4455\n"
          ]
        }
      ],
      "source": [
        "# 튜플은 보안상의 이유로 따로 둠\n",
        "phone_num_list = {}\n",
        "phone_num_list[\"전우치\"] = \"010-2233-4455\"\n",
        "print(phone_num_list)\n",
        "\n",
        "phone_num_list[\"도사협회\"] = \"01-1133-4455\"\n",
        "phone_num_list[\"빌런협회\"] = \"04-7733-4455\"\n",
        "print(phone_num_list)\n",
        "\n",
        "# 리스트에서 인덱스, 딕셔너리에서는 키가 있어야 값을 찾을 수 있다.\n",
        "# 모든 키를 출력하려면 keys()라는 메소드를 사용\n",
        "# 반면 딕셔너리에서 사용되는 모든 값을 출력하려면 values()를 사용.\n",
        "# 딕셔너리 내부의 모든 값을 출력하려면 items()를 사용\n",
        "for name, phone_num in phone_num_list.items():\n",
        "    print(name,':',phone_num)"
      ]
    }
  ]
}
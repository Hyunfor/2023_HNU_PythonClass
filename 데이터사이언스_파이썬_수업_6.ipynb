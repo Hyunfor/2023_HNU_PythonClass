{
  "nbformat": 4,
  "nbformat_minor": 0,
  "metadata": {
    "colab": {
      "provenance": [],
      "authorship_tag": "ABX9TyPSv+5XmPlbQe2sAkxlEcyw",
      "include_colab_link": true
    },
    "kernelspec": {
      "name": "python3",
      "display_name": "Python 3"
    },
    "language_info": {
      "name": "python"
    }
  },
  "cells": [
    {
      "cell_type": "markdown",
      "metadata": {
        "id": "view-in-github",
        "colab_type": "text"
      },
      "source": [
        "<a href=\"https://colab.research.google.com/github/Hyunfor/2023_HNU_PythonClass/blob/master/%EB%8D%B0%EC%9D%B4%ED%84%B0%EC%82%AC%EC%9D%B4%EC%96%B8%EC%8A%A4_%ED%8C%8C%EC%9D%B4%EC%8D%AC_%EC%88%98%EC%97%85_6.ipynb\" target=\"_parent\"><img src=\"https://colab.research.google.com/assets/colab-badge.svg\" alt=\"Open In Colab\"/></a>"
      ]
    },
    {
      "cell_type": "code",
      "execution_count": 1,
      "metadata": {
        "id": "0WJ4vfp--Cd6",
        "colab": {
          "base_uri": "https://localhost:8080/"
        },
        "outputId": "4b5f348b-5dd0-4d58-b53c-025348e79049"
      },
      "outputs": [
        {
          "output_type": "stream",
          "name": "stdout",
          "text": [
            "경상북도\n",
            "울릉군 울릉읍\n",
            "독도리 산 1-96번지지\n"
          ]
        }
      ],
      "source": [
        "# 함수에 인자 넣기전\n",
        "# 함수에 인자가 있거나, 없을 수도 있음. \n",
        "def print_address():\n",
        "    print(\"경상북도\")\n",
        "    print(\"울릉군 울릉읍\")\n",
        "    print(\"독도리 산 1-96번지지\")\n",
        "\n",
        "print_address()    "
      ]
    },
    {
      "cell_type": "code",
      "source": [
        "# 함수에 인자값 넣은후\n",
        "def print_address(name):\n",
        "    print(\"경상북도\")\n",
        "    print(\"울릉군 울릉읍\")\n",
        "    print(name)\n",
        "\n",
        "print_address(\"전우치\")\n",
        "print_address(\"도사\")  "
      ],
      "metadata": {
        "colab": {
          "base_uri": "https://localhost:8080/"
        },
        "id": "ChSygHx8Dd3a",
        "outputId": "cb443223-4536-4376-cb98-2acc4de2717c"
      },
      "execution_count": 3,
      "outputs": [
        {
          "output_type": "stream",
          "name": "stdout",
          "text": [
            "경상북도\n",
            "울릉군 울릉읍\n",
            "전우치\n",
            "경상북도\n",
            "울릉군 울릉읍\n",
            "도사\n"
          ]
        }
      ]
    },
    {
      "cell_type": "code",
      "source": [
        "# return값이 없으면 None 출력 \n",
        "def print_address():\n",
        "    print(\"경상북도\")\n",
        "    print(\"울릉군 울릉읍\")\n",
        "    print(\"독도리 산 1-96번지지\")\n",
        "\n",
        "x = print_address()\n",
        "print(x) "
      ],
      "metadata": {
        "colab": {
          "base_uri": "https://localhost:8080/"
        },
        "id": "XKWNcHBGDdxV",
        "outputId": "452f528e-25f4-4536-b5d1-b60ba451b10b"
      },
      "execution_count": 2,
      "outputs": [
        {
          "output_type": "stream",
          "name": "stdout",
          "text": [
            "경상북도\n",
            "울릉군 울릉읍\n",
            "독도리 산 1-96번지지\n",
            "None\n"
          ]
        }
      ]
    },
    {
      "cell_type": "code",
      "source": [
        "def get_sum(start, end):\n",
        "    s = 0\n",
        "    for i in range(start, end+1):\n",
        "        s += i\n",
        "    return s\n",
        "print(get_sum(1, 10))        "
      ],
      "metadata": {
        "colab": {
          "base_uri": "https://localhost:8080/"
        },
        "id": "BK1iMNkDov4c",
        "outputId": "024be209-d6f4-4754-d5d4-989e04470866"
      },
      "execution_count": 5,
      "outputs": [
        {
          "output_type": "stream",
          "name": "stdout",
          "text": [
            "55\n"
          ]
        }
      ]
    },
    {
      "cell_type": "code",
      "source": [
        "print(get_sum(1, 10))"
      ],
      "metadata": {
        "colab": {
          "base_uri": "https://localhost:8080/"
        },
        "id": "glpHCaPBovxr",
        "outputId": "c451985c-4304-4dd5-9bea-48832afdfced"
      },
      "execution_count": 6,
      "outputs": [
        {
          "output_type": "stream",
          "name": "stdout",
          "text": [
            "55\n"
          ]
        }
      ]
    },
    {
      "cell_type": "code",
      "source": [
        "def calc(n1, n2):\n",
        "    return n1 + n2, n1 - n2, n1 * n2, n1 / n2\n",
        "\n",
        "n1, n2 = 200, 100\n",
        "t1, t2, t3, t4 = calc(n1, n2)\n",
        "print(n1, \"+\" , n2, \"=\", t1) \n",
        "print(n1, \"-\" , n2, \"=\", t2) \n",
        "print(n1, \"*\" , n2, \"=\", t3) \n",
        "print(n1, \"/\" , n2, \"=\", t4)    "
      ],
      "metadata": {
        "colab": {
          "base_uri": "https://localhost:8080/"
        },
        "id": "yGkfZQIwovnK",
        "outputId": "89479209-543f-419d-b527-c3d322366fbd"
      },
      "execution_count": 8,
      "outputs": [
        {
          "output_type": "stream",
          "name": "stdout",
          "text": [
            "200 + 100 = 300\n",
            "200 - 100 = 100\n",
            "200 * 100 = 20000\n",
            "200 / 100 = 2.0\n"
          ]
        }
      ]
    },
    {
      "cell_type": "code",
      "source": [
        "def calc(n1, n2): # format 방식으로 해보기\n",
        "    return n1 + n2, n1 - n2, n1 * n2, n1 / n2\n",
        "\n",
        "n1, n2 = 200, 100\n",
        "t1, t2, t3, t4 = calc(n1, n2)\n",
        "x = 'n1'.format\n",
        "print(n1, \"+\" , n2, \"=\", t1) \n",
        "print(n1, \"-\" , n2, \"=\", t2) \n",
        "print(n1, \"*\" , n2, \"=\", t3) \n",
        "print(n1, \"/\" , n2, \"=\", t4)  "
      ],
      "metadata": {
        "id": "wM2ozJtbDdqb"
      },
      "execution_count": null,
      "outputs": []
    },
    {
      "cell_type": "code",
      "source": [],
      "metadata": {
        "id": "hMnQV3AtDdlL"
      },
      "execution_count": null,
      "outputs": []
    },
    {
      "cell_type": "code",
      "source": [],
      "metadata": {
        "id": "UjrHaB5--Jrc"
      },
      "execution_count": null,
      "outputs": []
    },
    {
      "cell_type": "code",
      "source": [],
      "metadata": {
        "id": "f5U8soLq-JoN"
      },
      "execution_count": null,
      "outputs": []
    },
    {
      "cell_type": "code",
      "source": [],
      "metadata": {
        "id": "CXmBll_Y-Jku"
      },
      "execution_count": null,
      "outputs": []
    },
    {
      "cell_type": "code",
      "source": [],
      "metadata": {
        "id": "JGvs5H8l-Jhw"
      },
      "execution_count": null,
      "outputs": []
    },
    {
      "cell_type": "code",
      "source": [],
      "metadata": {
        "id": "tlxbJzAN-JeG"
      },
      "execution_count": null,
      "outputs": []
    },
    {
      "cell_type": "code",
      "source": [],
      "metadata": {
        "id": "9d53YuE4-Ja7"
      },
      "execution_count": null,
      "outputs": []
    },
    {
      "cell_type": "code",
      "source": [],
      "metadata": {
        "id": "a6TWWKdA-JYF"
      },
      "execution_count": null,
      "outputs": []
    },
    {
      "cell_type": "code",
      "source": [
        "# 수업이랑 상관없이 생각나서 해봄\n",
        "dan = 2\n",
        "\n",
        "while dan <= 9:\n",
        "  print(\"== {}단==\".format(dan))\n",
        "\n",
        "  i = 1\n",
        "\n",
        "  while i <= 9:\n",
        "    print(\"{} * {} = {}\".format(dan, i, dan * i))\n",
        "    i += 1\n",
        "\n",
        "  dan += 1"
      ],
      "metadata": {
        "id": "Ena8_6rY-JUu"
      },
      "execution_count": null,
      "outputs": []
    },
    {
      "cell_type": "code",
      "source": [
        "# 수업이랑 상관없이 생각나서 해봄\n",
        "dan = 7\n",
        "dan = dan + 1\n",
        "\n",
        "# 수정가능 시작\n",
        "\n",
        "i = 1\n",
        "\n",
        "\n",
        "print(\"== {}단 ==\".format(dan))\n",
        "\n",
        "while i <= 9:\n",
        "\n",
        "  print(\"{} * {} = {}\".format(dan, i, dan * i))\n",
        "  i += 1"
      ],
      "metadata": {
        "id": "W0MwoukC-JRn"
      },
      "execution_count": null,
      "outputs": []
    },
    {
      "cell_type": "code",
      "source": [],
      "metadata": {
        "id": "_DADO9Ks389g"
      },
      "execution_count": null,
      "outputs": []
    },
    {
      "cell_type": "code",
      "source": [],
      "metadata": {
        "id": "cyYBEAnX386w"
      },
      "execution_count": null,
      "outputs": []
    },
    {
      "cell_type": "code",
      "source": [],
      "metadata": {
        "id": "XNP3uHbJ384H"
      },
      "execution_count": null,
      "outputs": []
    },
    {
      "cell_type": "code",
      "source": [],
      "metadata": {
        "id": "x1ojseot381f"
      },
      "execution_count": null,
      "outputs": []
    },
    {
      "cell_type": "code",
      "source": [],
      "metadata": {
        "id": "B4YNawLs38yj"
      },
      "execution_count": null,
      "outputs": []
    },
    {
      "cell_type": "code",
      "source": [],
      "metadata": {
        "id": "UoxqIWGd38wD"
      },
      "execution_count": null,
      "outputs": []
    },
    {
      "cell_type": "code",
      "source": [
        "# 심화문제 6-1\n",
        "def square(n):\n",
        "  return n*n\n",
        "print('3의 제곱은 : ',square(3))\n",
        "print('4의 제곱은 : ',square(4))"
      ],
      "metadata": {
        "colab": {
          "base_uri": "https://localhost:8080/"
        },
        "id": "Lg4QrSbP-JOt",
        "outputId": "1ac167ed-d93a-405f-b36e-2d5aec142cfa"
      },
      "execution_count": null,
      "outputs": [
        {
          "output_type": "stream",
          "name": "stdout",
          "text": [
            "3의 제곱은 :  9\n",
            "4의 제곱은 :  16\n"
          ]
        }
      ]
    },
    {
      "cell_type": "code",
      "source": [
        "# 심화문제 6-2\n",
        "def max2(m, n):\n",
        "  if m>n:\n",
        "    return m\n",
        "  else:\n",
        "    return n\n",
        "def min2(m, n):\n",
        "  if m>n:\n",
        "    return n\n",
        "  else:\n",
        "    return m\n",
        "print('100과 200중 큰 수는 :', max2(100,200))\n",
        "print('100과 200중 작은 수는 :', min2(100,200))"
      ],
      "metadata": {
        "colab": {
          "base_uri": "https://localhost:8080/"
        },
        "id": "k9ZeuHmO-JL6",
        "outputId": "d784121d-b407-4c34-f27d-bba7ee7f9782"
      },
      "execution_count": null,
      "outputs": [
        {
          "output_type": "stream",
          "name": "stdout",
          "text": [
            "100과 200중 큰 수는 : 200\n",
            "100과 200중 작은 수는 : 100\n"
          ]
        }
      ]
    },
    {
      "cell_type": "code",
      "source": [
        "# 심화문제 6-3\n",
        "def max3(n1, n2, n3):\n",
        "  if n3>n2>n1:\n",
        "    return n3\n",
        "  else:\n",
        "    return n1\n",
        "def min3(n1, n2, n3):\n",
        "  if n1<n2<n3:\n",
        "    return n1\n",
        "  else:\n",
        "    return n3\n",
        "n1, n2, n3 = map(int, input('세 정수를 입력하시오:').split())\n",
        "print('가장 큰 수 :', max3(34, 66, 20))\n",
        "print('가장 작은 수 :', min3(34, 66, 20))"
      ],
      "metadata": {
        "colab": {
          "base_uri": "https://localhost:8080/"
        },
        "id": "b3CdjaUW-JJF",
        "outputId": "1c25640b-188c-4f9b-e1df-e9e52274e18c"
      },
      "execution_count": null,
      "outputs": [
        {
          "output_type": "stream",
          "name": "stdout",
          "text": [
            "세 정수를 입력하시오:12 12 12\n",
            "가장 큰 수 : 34\n",
            "가장 작은 수 : 20\n"
          ]
        }
      ]
    },
    {
      "cell_type": "code",
      "source": [
        "# 심화문제 6-4\n",
        "def max_and_min(n1, n2, n3):\n",
        "  if n3>n2>n1:\n",
        "    return n3\n",
        "  else:\n",
        "    return n1\n",
        "n1, n2, n3 = map(int, input('세 정수를 입력하시오:').split())\n",
        "print('가장 큰 수 :', max3(34, 66, 20))\n",
        "print('가장 작은 수 :', min3(34, 66, 20))"
      ],
      "metadata": {
        "colab": {
          "base_uri": "https://localhost:8080/"
        },
        "id": "ldjw_3Wh-JGB",
        "outputId": "8501ce3e-031c-4386-9633-5e67dd43bae6"
      },
      "execution_count": null,
      "outputs": [
        {
          "output_type": "stream",
          "name": "stdout",
          "text": [
            "세 정수를 입력하시오:15 17 18\n",
            "가장 큰 수 : 34\n",
            "가장 작은 수 : 20\n"
          ]
        }
      ]
    },
    {
      "cell_type": "code",
      "source": [
        "# 심화문제 6-5\n",
        "for C in range(0, 51, 10):\n",
        "  F = 9/5 * C + 32\n",
        "  print(round(C,2), ':' , F)"
      ],
      "metadata": {
        "colab": {
          "base_uri": "https://localhost:8080/"
        },
        "id": "T6yDZ9ey-idE",
        "outputId": "bf894998-a287-45d8-bb45-2578e126b0c8"
      },
      "execution_count": null,
      "outputs": [
        {
          "output_type": "stream",
          "name": "stdout",
          "text": [
            "0 : 32.0\n",
            "10 : 50.0\n",
            "20 : 68.0\n",
            "30 : 86.0\n",
            "40 : 104.0\n",
            "50 : 122.0\n"
          ]
        }
      ]
    },
    {
      "cell_type": "code",
      "source": [
        "# 심화문제 6-6\n",
        "def is_prime(n):\n",
        "  for i in range(2, n):\n",
        "    if n % i == 0:\n",
        "      return False\n",
        "  return True\n",
        "\n",
        "a = int(input(\"소수 검사를 할 정수를 입력하시오: \"))\n",
        "print(\"소수인가요? :\", is_prime(a))"
      ],
      "metadata": {
        "colab": {
          "base_uri": "https://localhost:8080/"
        },
        "id": "-tjN31X2-lbB",
        "outputId": "ec6877a3-95b6-4a2d-f89a-072af3cd21df"
      },
      "execution_count": null,
      "outputs": [
        {
          "output_type": "stream",
          "name": "stdout",
          "text": [
            "소수 검사를 할 정수를 입력하시오: 12\n",
            "소수인가요? : False\n"
          ]
        }
      ]
    },
    {
      "cell_type": "code",
      "source": [
        "# 심화문제 6-7\n",
        "def fib(n):\n",
        "    _curr, _next = 0, 1\n",
        "    for _ in range(n):\n",
        "        _curr, _next = _next, _curr + _next\n",
        "    return _curr\n",
        "print(fib(5))\n",
        "print(fib(7))\n",
        "print(fib(10))"
      ],
      "metadata": {
        "colab": {
          "base_uri": "https://localhost:8080/"
        },
        "id": "ard2v3hx-pBi",
        "outputId": "0d08de29-9c7a-4157-c91d-c3b012bd8700"
      },
      "execution_count": null,
      "outputs": [
        {
          "output_type": "stream",
          "name": "stdout",
          "text": [
            "5\n",
            "13\n",
            "55\n"
          ]
        }
      ]
    },
    {
      "cell_type": "code",
      "source": [
        "# 심화문제 6-8\n",
        "import math\n",
        "\n",
        "class point:\n",
        "    def __init__(self, x, y):\n",
        "        self.x = x\n",
        "        self.y = y\n",
        " \n",
        "p1 = point(x=4, y=2)\n",
        "p2 = point(x=2, y=1)\n",
        " \n",
        "a = p2.x - p1.x\n",
        "b = p2.y - p1.y\n",
        " \n",
        "c = math.sqrt((a * a) + (b * b))\n",
        "print(c)"
      ],
      "metadata": {
        "colab": {
          "base_uri": "https://localhost:8080/"
        },
        "id": "pc7WG-Tu-r9P",
        "outputId": "2c1741b2-3f5b-4f81-9029-883e80514300"
      },
      "execution_count": null,
      "outputs": [
        {
          "output_type": "stream",
          "name": "stdout",
          "text": [
            "2.23606797749979\n"
          ]
        }
      ]
    }
  ]
}
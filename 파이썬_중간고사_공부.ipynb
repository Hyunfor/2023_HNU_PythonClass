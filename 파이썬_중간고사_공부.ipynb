{
  "nbformat": 4,
  "nbformat_minor": 0,
  "metadata": {
    "colab": {
      "provenance": [],
      "authorship_tag": "ABX9TyOqIfXcqbqB0rJkwZ/3cCRF",
      "include_colab_link": true
    },
    "kernelspec": {
      "name": "python3",
      "display_name": "Python 3"
    },
    "language_info": {
      "name": "python"
    }
  },
  "cells": [
    {
      "cell_type": "markdown",
      "metadata": {
        "id": "view-in-github",
        "colab_type": "text"
      },
      "source": [
        "<a href=\"https://colab.research.google.com/github/Hyunfor/2023_HNU_PythonClass/blob/master/%ED%8C%8C%EC%9D%B4%EC%8D%AC_%EC%A4%91%EA%B0%84%EA%B3%A0%EC%82%AC_%EA%B3%B5%EB%B6%80.ipynb\" target=\"_parent\"><img src=\"https://colab.research.google.com/assets/colab-badge.svg\" alt=\"Open In Colab\"/></a>"
      ]
    },
    {
      "cell_type": "code",
      "execution_count": null,
      "metadata": {
        "colab": {
          "base_uri": "https://localhost:8080/"
        },
        "id": "44srhtTXe_YL",
        "outputId": "e7ba523e-8f6f-4df5-82f9-e41bf91a4bcb"
      },
      "outputs": [
        {
          "output_type": "execute_result",
          "data": {
            "text/plain": [
              "24.772096710265558"
            ]
          },
          "metadata": {},
          "execution_count": 1
        }
      ],
      "source": [
        "#LAB 2-1\n",
        "#신체 질량 지수를 파이썬으로 계산하기\n",
        "# 키, 체중을 입력하면 자동으로 BMI값이 계산되어 변수 bmi에 저장, 그값을 출력\n",
        "height = 1.74\n",
        "weight = 75\n",
        "bmi = weight / height**2\n",
        "bmi"
      ]
    },
    {
      "cell_type": "code",
      "source": [
        "#LAB 2-2\n",
        "#피자의 면적을 계산해보자\n",
        "radius = 10\n",
        "area = 3.14 * radius**2\n",
        "print(\"피자의 면적은\", area)"
      ],
      "metadata": {
        "colab": {
          "base_uri": "https://localhost:8080/"
        },
        "id": "h4zCWqZ9gpAB",
        "outputId": "cba5fc3f-1067-42aa-ae3e-e3045e47b220"
      },
      "execution_count": null,
      "outputs": [
        {
          "output_type": "stream",
          "name": "stdout",
          "text": [
            "피자의 면적은 314.0\n"
          ]
        }
      ]
    },
    {
      "cell_type": "code",
      "source": [
        "#LAB 2-4\n",
        "#복리이자를 계산해보자 ( 원금 = principal, 이율 = interest_rate)\n",
        "principal = 10000\n",
        "years = 5\n",
        "interest_rate = 0.03\n",
        "money = principal * (1.0 + interest_rate) ** years\n",
        "\n",
        "print(\"원금: \", principal)\n",
        "print(\"이율: \", interest_rate)\n",
        "print(\"years: \", years)\n",
        "print(\"수령금액 : \", money)"
      ],
      "metadata": {
        "colab": {
          "base_uri": "https://localhost:8080/"
        },
        "id": "wJc_NY3Kg9dv",
        "outputId": "1987612f-ce62-40c0-f964-74101fc6b8f1"
      },
      "execution_count": null,
      "outputs": [
        {
          "output_type": "stream",
          "name": "stdout",
          "text": [
            "원금:  10000\n",
            "이율:  0.03\n",
            "years:  5\n",
            "수령금액 :  11592.740743\n"
          ]
        }
      ]
    },
    {
      "cell_type": "code",
      "source": [
        "#LAB 2-5\n",
        "# 로봇 기자가 야구기사 쓰다\n",
        "#사용자의 대답을 변수에 저장\n",
        "stadium = input(\"경기장은 어디입니까 ? \")\n",
        "winner = input(\"승리한 팀은 어디입니까 ? \")\n",
        "loser = input(\"패배한 팀은 어디입니까 ? \")\n",
        "vip = input(\"vip선수는 누구입니까 ? \")\n",
        "score = input(\"스코어는 얼마입니까 ? \")\n",
        "\n",
        "#사용자의 입력을 바탕으로 기사 작성\n",
        "print(\"\")\n",
        "print(\"=\" * 20)\n",
        "print(\"오늘\", stadium, \"에서 아구 경기가 진행되었습니다.\")\n",
        "print(winner, \"과\", loser, \"은 치열한 공방전을 펼쳤습니다.\")\n",
        "print(vip, \"의 맹활약으로 \", winner,\"가\", loser,\"를\", score, \"로 승리했습니다.\")\n",
        "print(\"=\" * 20)"
      ],
      "metadata": {
        "colab": {
          "base_uri": "https://localhost:8080/",
          "height": 400
        },
        "id": "cw0DQdL_iB0E",
        "outputId": "ed267842-3bdc-43e6-d635-27383f4c096d"
      },
      "execution_count": 10,
      "outputs": [
        {
          "output_type": "error",
          "ename": "KeyboardInterrupt",
          "evalue": "ignored",
          "traceback": [
            "\u001b[0;31m---------------------------------------------------------------------------\u001b[0m",
            "\u001b[0;31mKeyboardInterrupt\u001b[0m                         Traceback (most recent call last)",
            "\u001b[0;32m<ipython-input-10-f789f6483755>\u001b[0m in \u001b[0;36m<cell line: 4>\u001b[0;34m()\u001b[0m\n\u001b[1;32m      2\u001b[0m \u001b[0;31m# 로봇 기자가 야구기사 쓰다\u001b[0m\u001b[0;34m\u001b[0m\u001b[0;34m\u001b[0m\u001b[0m\n\u001b[1;32m      3\u001b[0m \u001b[0;31m#사용자의 대답을 변수에 저장\u001b[0m\u001b[0;34m\u001b[0m\u001b[0;34m\u001b[0m\u001b[0m\n\u001b[0;32m----> 4\u001b[0;31m \u001b[0mstadium\u001b[0m \u001b[0;34m=\u001b[0m \u001b[0minput\u001b[0m\u001b[0;34m(\u001b[0m\u001b[0;34m\"경기장은 어디입니까 ? \"\u001b[0m\u001b[0;34m)\u001b[0m\u001b[0;34m\u001b[0m\u001b[0;34m\u001b[0m\u001b[0m\n\u001b[0m\u001b[1;32m      5\u001b[0m \u001b[0mwinner\u001b[0m \u001b[0;34m=\u001b[0m \u001b[0minput\u001b[0m\u001b[0;34m(\u001b[0m\u001b[0;34m\"승리한 팀은 어디입니까 ? \"\u001b[0m\u001b[0;34m)\u001b[0m\u001b[0;34m\u001b[0m\u001b[0;34m\u001b[0m\u001b[0m\n\u001b[1;32m      6\u001b[0m \u001b[0mloser\u001b[0m \u001b[0;34m=\u001b[0m \u001b[0minput\u001b[0m\u001b[0;34m(\u001b[0m\u001b[0;34m\"패배한 팀은 어디입니까 ? \"\u001b[0m\u001b[0;34m)\u001b[0m\u001b[0;34m\u001b[0m\u001b[0;34m\u001b[0m\u001b[0m\n",
            "\u001b[0;32m/usr/local/lib/python3.9/dist-packages/ipykernel/kernelbase.py\u001b[0m in \u001b[0;36mraw_input\u001b[0;34m(self, prompt)\u001b[0m\n\u001b[1;32m    849\u001b[0m                 \u001b[0;34m\"raw_input was called, but this frontend does not support input requests.\"\u001b[0m\u001b[0;34m\u001b[0m\u001b[0;34m\u001b[0m\u001b[0m\n\u001b[1;32m    850\u001b[0m             )\n\u001b[0;32m--> 851\u001b[0;31m         return self._input_request(str(prompt),\n\u001b[0m\u001b[1;32m    852\u001b[0m             \u001b[0mself\u001b[0m\u001b[0;34m.\u001b[0m\u001b[0m_parent_ident\u001b[0m\u001b[0;34m,\u001b[0m\u001b[0;34m\u001b[0m\u001b[0;34m\u001b[0m\u001b[0m\n\u001b[1;32m    853\u001b[0m             \u001b[0mself\u001b[0m\u001b[0;34m.\u001b[0m\u001b[0m_parent_header\u001b[0m\u001b[0;34m,\u001b[0m\u001b[0;34m\u001b[0m\u001b[0;34m\u001b[0m\u001b[0m\n",
            "\u001b[0;32m/usr/local/lib/python3.9/dist-packages/ipykernel/kernelbase.py\u001b[0m in \u001b[0;36m_input_request\u001b[0;34m(self, prompt, ident, parent, password)\u001b[0m\n\u001b[1;32m    893\u001b[0m             \u001b[0;32mexcept\u001b[0m \u001b[0mKeyboardInterrupt\u001b[0m\u001b[0;34m:\u001b[0m\u001b[0;34m\u001b[0m\u001b[0;34m\u001b[0m\u001b[0m\n\u001b[1;32m    894\u001b[0m                 \u001b[0;31m# re-raise KeyboardInterrupt, to truncate traceback\u001b[0m\u001b[0;34m\u001b[0m\u001b[0;34m\u001b[0m\u001b[0m\n\u001b[0;32m--> 895\u001b[0;31m                 \u001b[0;32mraise\u001b[0m \u001b[0mKeyboardInterrupt\u001b[0m\u001b[0;34m(\u001b[0m\u001b[0;34m\"Interrupted by user\"\u001b[0m\u001b[0;34m)\u001b[0m \u001b[0;32mfrom\u001b[0m \u001b[0;32mNone\u001b[0m\u001b[0;34m\u001b[0m\u001b[0;34m\u001b[0m\u001b[0m\n\u001b[0m\u001b[1;32m    896\u001b[0m             \u001b[0;32mexcept\u001b[0m \u001b[0mException\u001b[0m \u001b[0;32mas\u001b[0m \u001b[0me\u001b[0m\u001b[0;34m:\u001b[0m\u001b[0;34m\u001b[0m\u001b[0;34m\u001b[0m\u001b[0m\n\u001b[1;32m    897\u001b[0m                 \u001b[0mself\u001b[0m\u001b[0;34m.\u001b[0m\u001b[0mlog\u001b[0m\u001b[0;34m.\u001b[0m\u001b[0mwarning\u001b[0m\u001b[0;34m(\u001b[0m\u001b[0;34m\"Invalid Message:\"\u001b[0m\u001b[0;34m,\u001b[0m \u001b[0mexc_info\u001b[0m\u001b[0;34m=\u001b[0m\u001b[0;32mTrue\u001b[0m\u001b[0;34m)\u001b[0m\u001b[0;34m\u001b[0m\u001b[0;34m\u001b[0m\u001b[0m\n",
            "\u001b[0;31mKeyboardInterrupt\u001b[0m: Interrupted by user"
          ]
        }
      ]
    },
    {
      "cell_type": "code",
      "source": [
        "#LAB 2-6\n",
        "# 부동산 광고 만들기에 도전\n",
        "street = \"서울시 종로구\"\n",
        "st = \"아파트\"\n",
        "number_room = 4\n",
        "price = 5000\n",
        "\n",
        "print(\"=\" * 5)\n",
        "print(\" # 부동산 매물 광고 # \")\n",
        "print(\"=\" * 5)\n",
        "print(street, \"에 위치한 역세권\", st, \"가 매물로 나왔습니다. 이\",st,\" 는\", number_room, \" 개의 방을 가지고 있으며 가격은\", price, \" 입니다.\" )"
      ],
      "metadata": {
        "colab": {
          "base_uri": "https://localhost:8080/"
        },
        "id": "Ey9zNZDhjQ25",
        "outputId": "99fdc45a-147f-45b4-aafc-99e31908fe3c"
      },
      "execution_count": null,
      "outputs": [
        {
          "output_type": "stream",
          "name": "stdout",
          "text": [
            "=====\n",
            " # 부동산 매물 광고 # \n",
            "=====\n",
            "서울시 종로구 에 위치한 역세권 아파트 가 매물로 나왔습니다. 이 아파트  는 4  개의 방을 가지고 있으며 가격은 5000  입니다.\n"
          ]
        }
      ]
    },
    {
      "cell_type": "code",
      "source": [
        "# 심화문제 2-1\n",
        "print(200, \"+\", 300, \"+\", 400, \"=\", 200+300+400)\n",
        "# 심화문제 2-2\n",
        "# 너비, 높이 변수\n",
        "width = 30\n",
        "height = 60\n",
        "print(width)\n",
        "print(height)\n",
        "print(\"=\" * 20)\n",
        "# 심화문제 2-3\n",
        "# 너비, 높이 변수\n",
        "width, height = 30, 60\n",
        "print(width)\n",
        "print(height)\n",
        "print(\"=\" * 20)\n",
        "# 심화문제 2-4\n",
        "# 삼각형의 면적을 구하는 프로그램\n",
        "width, height = 40, 20\n",
        "area = width*height*0.5\n",
        "print('삼각형의 면적:', area)\n",
        "print(\"=\" * 20)\n",
        "# 심화문제 2-5\n",
        "#정사각형의 면적을 구하기 위해 사용자로 부터 밑변의 길이를 정수로 입력받아 출력\n",
        "width = int(input(\"정사각형의 밑변을 입력하시오:\"))\n",
        "area = width*width\n",
        "print(\"정사각형의 면적:\", area)\n",
        "print(\"=\" * 20)\n",
        "# 심화문제 2-6\n",
        "# 함수와 + 연산을 9개 이용하여 1~10까지 합 출력\n",
        "print(\"1에서 10까지의 합:\", 1+2+3+4+5+6+7+8+9+10)\n",
        "print(\"=\" * 20)\n",
        "# 심화문제 2-7\n",
        "# 함수와 * 연산을 9개 이용하여 10!을 출력\n",
        "print(\"10!=\", 1*2*3*4*5*6*7*8*9*10)\n",
        "print(\"=\" * 20)\n",
        "# 심화문제 2-8\n",
        "# 섭씨온도를 화씨온도로 변환하는 식은\n",
        "# fahrenheit = (9/5) * celsius + 32 이다.\n",
        "# 0도에서 50도까지 10씩 증가시키면서 화씨온도를 출력\n",
        "for C in range(0, 51, 10):\n",
        "  F=(9/5)*C+32\n",
        "  print(C, \" \", round(F, 2))\n",
        "print(\"=\" * 20)\n",
        "# 심화문제 2-9\n",
        "# 섭씨온도를 화씨온도로 변환하는 식을 바탕으로 사용자로부터 섭씨온도를 입력받아 화씨온도로 출력\n",
        "celsius = int(input (\"섭씨온도를 입력하세요: \"))\n",
        "fahrenheit = (9/5)*celsius+32\n",
        "print(\"섭씨\", celsius, \"도는 화씨\", fahrenheit, \"도입니다.\")\n",
        "print(\"=\" * 20)\n",
        "# 심화문제 2-10\n",
        "# 사용자로부터 반지름 값을 입력받아, 반지름을 가진 원의 둘레와 면적을 출력하라\n",
        "# Pl=3.141592라는 변수 사용\n",
        "PI = 3.141592\n",
        "radius = int(input(\"원의 반지름을 입력하세요:\"))\n",
        "circum = 2*radius*PI\n",
        "area = radius**2*PI\n",
        "print(\"원의 둘레=\", circum, \"원의 면적=\", area)\n",
        "print(\"=\" * 20)\n",
        "# 심화문제 2-11\n",
        "# 다음 내용 출력\n",
        "print(\"It's really hot!\")\n",
        "print('I said \"Hello!\" to him.')\n",
        "print(\"He said \\\"What's there?\\\"\")\n",
        "print(\"Newline character is \\\\n, Tab character is \\\\t.\")\n",
        "print(\"Working directory is C;\\\\workspace\\\\mywork.\")"
      ],
      "metadata": {
        "colab": {
          "base_uri": "https://localhost:8080/"
        },
        "id": "_B9Yws_sl2I3",
        "outputId": "c1b61cf0-745f-4590-9a2d-ab794d383ce1"
      },
      "execution_count": 22,
      "outputs": [
        {
          "output_type": "stream",
          "name": "stdout",
          "text": [
            "200 + 300 + 400 = 900\n",
            "30\n",
            "60\n",
            "====================\n",
            "30\n",
            "60\n",
            "====================\n",
            "삼각형의 면적: 400.0\n",
            "====================\n",
            "정사각형의 밑변을 입력하시오:1\n",
            "정사각형의 면적: 1\n",
            "====================\n",
            "1에서 10까지의 합: 55\n",
            "====================\n",
            "10!= 3628800\n",
            "====================\n",
            "0   32.0\n",
            "10   50.0\n",
            "20   68.0\n",
            "30   86.0\n",
            "40   104.0\n",
            "50   122.0\n",
            "====================\n",
            "섭씨온도를 입력하세요: 1\n",
            "섭씨 1 도는 화씨 33.8 도입니다.\n",
            "====================\n",
            "원의 반지름을 입력하세요:1\n",
            "원의 둘레= 6.283184 원의 면적= 3.141592\n",
            "====================\n",
            "It's really hot!\n",
            "I said \"Hello!\" to him.\n",
            "He said \"What's there?\"\n",
            "Newline character is \\n, Tab character is \\t.\n",
            "Working directory is C;\\workspace\\mywork.\n"
          ]
        }
      ]
    }
  ]
}